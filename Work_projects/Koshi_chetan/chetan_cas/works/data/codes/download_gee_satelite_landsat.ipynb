{
 "cells": [
  {
   "cell_type": "code",
   "execution_count": 8,
   "id": "33b14af7",
   "metadata": {},
   "outputs": [
    {
     "data": {
      "text/html": [
       "\n",
       "            <style>\n",
       "                .geemap-dark {\n",
       "                    --jp-widgets-color: white;\n",
       "                    --jp-widgets-label-color: white;\n",
       "                    --jp-ui-font-color1: white;\n",
       "                    --jp-layout-color2: #454545;\n",
       "                    background-color: #383838;\n",
       "                }\n",
       "\n",
       "                .geemap-dark .jupyter-button {\n",
       "                    --jp-layout-color3: #383838;\n",
       "                }\n",
       "\n",
       "                .geemap-colab {\n",
       "                    background-color: var(--colab-primary-surface-color, white);\n",
       "                }\n",
       "\n",
       "                .geemap-colab .jupyter-button {\n",
       "                    --jp-layout-color3: var(--colab-primary-surface-color, white);\n",
       "                }\n",
       "            </style>\n",
       "            "
      ],
      "text/plain": [
       "<IPython.core.display.HTML object>"
      ]
     },
     "metadata": {},
     "output_type": "display_data"
    }
   ],
   "source": [
    "import geopandas as gpd\n",
    "import pandas as pd\n",
    "import numpy as np\n",
    "import os\n",
    "import matplotlib.pyplot as plt\n",
    "\n",
    "import geemap\n",
    "import ee"
   ]
  },
  {
   "cell_type": "code",
   "execution_count": 4,
   "id": "2cbd6b9c",
   "metadata": {},
   "outputs": [
    {
     "data": {
      "text/html": [
       "\n",
       "            <style>\n",
       "                .geemap-dark {\n",
       "                    --jp-widgets-color: white;\n",
       "                    --jp-widgets-label-color: white;\n",
       "                    --jp-ui-font-color1: white;\n",
       "                    --jp-layout-color2: #454545;\n",
       "                    background-color: #383838;\n",
       "                }\n",
       "\n",
       "                .geemap-dark .jupyter-button {\n",
       "                    --jp-layout-color3: #383838;\n",
       "                }\n",
       "\n",
       "                .geemap-colab {\n",
       "                    background-color: var(--colab-primary-surface-color, white);\n",
       "                }\n",
       "\n",
       "                .geemap-colab .jupyter-button {\n",
       "                    --jp-layout-color3: var(--colab-primary-surface-color, white);\n",
       "                }\n",
       "            </style>\n",
       "            "
      ],
      "text/plain": [
       "<IPython.core.display.HTML object>"
      ]
     },
     "metadata": {},
     "output_type": "display_data"
    }
   ],
   "source": [
    "ee.Authenticate()\n",
    "ee.Initialize(project='twoearthengineproject')"
   ]
  },
  {
   "cell_type": "code",
   "execution_count": 5,
   "id": "f1f15c2b",
   "metadata": {},
   "outputs": [
    {
     "data": {
      "text/html": [
       "\n",
       "            <style>\n",
       "                .geemap-dark {\n",
       "                    --jp-widgets-color: white;\n",
       "                    --jp-widgets-label-color: white;\n",
       "                    --jp-ui-font-color1: white;\n",
       "                    --jp-layout-color2: #454545;\n",
       "                    background-color: #383838;\n",
       "                }\n",
       "\n",
       "                .geemap-dark .jupyter-button {\n",
       "                    --jp-layout-color3: #383838;\n",
       "                }\n",
       "\n",
       "                .geemap-colab {\n",
       "                    background-color: var(--colab-primary-surface-color, white);\n",
       "                }\n",
       "\n",
       "                .geemap-colab .jupyter-button {\n",
       "                    --jp-layout-color3: var(--colab-primary-surface-color, white);\n",
       "                }\n",
       "            </style>\n",
       "            "
      ],
      "text/plain": [
       "<IPython.core.display.HTML object>"
      ]
     },
     "metadata": {},
     "output_type": "display_data"
    },
    {
     "data": {
      "application/vnd.jupyter.widget-view+json": {
       "model_id": "f606428d415b40c998764fc8e9a12bd7",
       "version_major": 2,
       "version_minor": 0
      },
      "text/plain": [
       "Map(center=[27.459741378291714, 86.82980172772386], controls=(WidgetControl(options=['position', 'transparent_…"
      ]
     },
     "execution_count": 5,
     "metadata": {},
     "output_type": "execute_result"
    }
   ],
   "source": [
    "# Load AOI shapefile\n",
    "physio_koshi = gpd.read_file(r\"G:\\learn\\python_works\\Work_projects\\Koshi_chetan\\chetan_cas\\works\\data\\gis\\koshi_basin_nepal\\koshi_nepal_basin.shp\")\n",
    "whole_koshi_basin = physio_koshi.dissolve()\n",
    "ee_physio_koshi = ee.FeatureCollection(geemap.geopandas_to_ee(whole_koshi_basin))\n",
    "\n",
    "# Load Landsat collections\n",
    "l4 = ee.ImageCollection(\"LANDSAT/LT04/C02/T1_L2\")\n",
    "l5 = ee.ImageCollection(\"LANDSAT/LT05/C02/T1_L2\")\n",
    "l7 = ee.ImageCollection(\"LANDSAT/LE07/C02/T1_L2\")\n",
    "l8 = ee.ImageCollection(\"LANDSAT/LC08/C02/T1_L2\")\n",
    "l9 = ee.ImageCollection(\"LANDSAT/LC09/C02/T1_L2\")\n",
    "\n",
    "# Cloud masking functions\n",
    "def mask_tm(image):\n",
    "    qa = image.select('QA_PIXEL')\n",
    "    mask = qa.bitwiseAnd(1 << 3).eq(0).And(qa.bitwiseAnd(1 << 4).eq(0))\n",
    "    return image.updateMask(mask).multiply(0.0000275).add(-0.2)\n",
    "\n",
    "def mask_oli(image):\n",
    "    qa = image.select('QA_PIXEL')\n",
    "    mask = qa.bitwiseAnd(1 << 3).eq(0).And(qa.bitwiseAnd(1 << 4).eq(0))\n",
    "    return image.updateMask(mask).multiply(0.0000275).add(-0.2)\n",
    "\n",
    "# Composite function\n",
    "def get_composite(year):\n",
    "    start = ee.Date.fromYMD(year, 1, 1)\n",
    "    end = ee.Date.fromYMD(year, 12, 31)\n",
    "\n",
    "    if year < 2013:\n",
    "        col = (l4.filterBounds(ee_physio_koshi).filterDate(start, end).map(mask_tm)\n",
    "               .merge(l5.filterBounds(ee_physio_koshi).filterDate(start, end).map(mask_tm))\n",
    "               .merge(l7.filterBounds(ee_physio_koshi).filterDate(start, end).map(mask_tm)))\n",
    "    else:\n",
    "        col = (l8.filterBounds(ee_physio_koshi).filterDate(start, end).map(mask_oli)\n",
    "               .merge(l9.filterBounds(ee_physio_koshi).filterDate(start, end).map(mask_oli)))\n",
    "\n",
    "    # Mosaic fills in all available pixels\n",
    "    return col.mosaic().clip(ee_physio_koshi)\n",
    "\n",
    "# Years to process\n",
    "years = [1990, 2000, 2010, 2020, 2024]\n",
    "\n",
    "# Create map\n",
    "Map = geemap.Map()\n",
    "Map.centerObject(ee_physio_koshi, 7)\n",
    "\n",
    "for y in years:\n",
    "    img = get_composite(y)\n",
    "    \n",
    "    # Add layer for visualization\n",
    "    if y < 2013:\n",
    "        vis_params = {'bands': ['SR_B5', 'SR_B4', 'SR_B3'], 'min': 0, 'max': 0.3}\n",
    "    else:\n",
    "        vis_params = {'bands': ['SR_B6', 'SR_B5', 'SR_B4'], 'min': 0, 'max': 0.3}\n",
    "    Map.addLayer(img, vis_params, f\"Landsat_{y}\")\n",
    "\n",
    "\n",
    "Map"
   ]
  },
  {
   "cell_type": "code",
   "execution_count": 12,
   "id": "9bd08f6c",
   "metadata": {},
   "outputs": [
    {
     "data": {
      "text/html": [
       "\n",
       "            <style>\n",
       "                .geemap-dark {\n",
       "                    --jp-widgets-color: white;\n",
       "                    --jp-widgets-label-color: white;\n",
       "                    --jp-ui-font-color1: white;\n",
       "                    --jp-layout-color2: #454545;\n",
       "                    background-color: #383838;\n",
       "                }\n",
       "\n",
       "                .geemap-dark .jupyter-button {\n",
       "                    --jp-layout-color3: #383838;\n",
       "                }\n",
       "\n",
       "                .geemap-colab {\n",
       "                    background-color: var(--colab-primary-surface-color, white);\n",
       "                }\n",
       "\n",
       "                .geemap-colab .jupyter-button {\n",
       "                    --jp-layout-color3: var(--colab-primary-surface-color, white);\n",
       "                }\n",
       "            </style>\n",
       "            "
      ],
      "text/plain": [
       "<IPython.core.display.HTML object>"
      ]
     },
     "metadata": {},
     "output_type": "display_data"
    },
    {
     "data": {
      "text/plain": [
       "True"
      ]
     },
     "execution_count": 12,
     "metadata": {},
     "output_type": "execute_result"
    }
   ],
   "source": [
    "ee.Authenticate()"
   ]
  },
  {
   "cell_type": "code",
   "execution_count": null,
   "id": "b02d4201",
   "metadata": {},
   "outputs": [
    {
     "data": {
      "text/html": [
       "\n",
       "            <style>\n",
       "                .geemap-dark {\n",
       "                    --jp-widgets-color: white;\n",
       "                    --jp-widgets-label-color: white;\n",
       "                    --jp-ui-font-color1: white;\n",
       "                    --jp-layout-color2: #454545;\n",
       "                    background-color: #383838;\n",
       "                }\n",
       "\n",
       "                .geemap-dark .jupyter-button {\n",
       "                    --jp-layout-color3: #383838;\n",
       "                }\n",
       "\n",
       "                .geemap-colab {\n",
       "                    background-color: var(--colab-primary-surface-color, white);\n",
       "                }\n",
       "\n",
       "                .geemap-colab .jupyter-button {\n",
       "                    --jp-layout-color3: var(--colab-primary-surface-color, white);\n",
       "                }\n",
       "            </style>\n",
       "            "
      ],
      "text/plain": [
       "<IPython.core.display.HTML object>"
      ]
     },
     "metadata": {},
     "output_type": "display_data"
    },
    {
     "ename": "AttributeError",
     "evalue": "module 'ee.data' has no attribute 'authenticateViaPopup'",
     "output_type": "error",
     "traceback": [
      "\u001b[31m---------------------------------------------------------------------------\u001b[39m",
      "\u001b[31mAttributeError\u001b[39m                            Traceback (most recent call last)",
      "\u001b[36mCell\u001b[39m\u001b[36m \u001b[39m\u001b[32mIn[11]\u001b[39m\u001b[32m, line 1\u001b[39m\n\u001b[32m----> \u001b[39m\u001b[32m1\u001b[39m \u001b[43mee\u001b[49m\u001b[43m.\u001b[49m\u001b[43mdata\u001b[49m\u001b[43m.\u001b[49m\u001b[43mauthenticateViaPopup\u001b[49m()\n\u001b[32m      2\u001b[39m ee.Initialize(project=\u001b[33m'\u001b[39m\u001b[33mgiskoshi\u001b[39m\u001b[33m'\u001b[39m)\n",
      "\u001b[31mAttributeError\u001b[39m: module 'ee.data' has no attribute 'authenticateViaPopup'"
     ]
    }
   ],
   "source": [
    "\n",
    "ee.Initialize(project='giskoshi')"
   ]
  },
  {
   "cell_type": "code",
   "execution_count": 10,
   "id": "2de7ef1e",
   "metadata": {},
   "outputs": [
    {
     "data": {
      "text/html": [
       "\n",
       "            <style>\n",
       "                .geemap-dark {\n",
       "                    --jp-widgets-color: white;\n",
       "                    --jp-widgets-label-color: white;\n",
       "                    --jp-ui-font-color1: white;\n",
       "                    --jp-layout-color2: #454545;\n",
       "                    background-color: #383838;\n",
       "                }\n",
       "\n",
       "                .geemap-dark .jupyter-button {\n",
       "                    --jp-layout-color3: #383838;\n",
       "                }\n",
       "\n",
       "                .geemap-colab {\n",
       "                    background-color: var(--colab-primary-surface-color, white);\n",
       "                }\n",
       "\n",
       "                .geemap-colab .jupyter-button {\n",
       "                    --jp-layout-color3: var(--colab-primary-surface-color, white);\n",
       "                }\n",
       "            </style>\n",
       "            "
      ],
      "text/plain": [
       "<IPython.core.display.HTML object>"
      ]
     },
     "metadata": {},
     "output_type": "display_data"
    },
    {
     "ename": "EEException",
     "evalue": "Caller does not have required permission to use project giskoshi. Grant the caller the roles/serviceusage.serviceUsageConsumer role, or a custom role with the serviceusage.services.use permission, by visiting https://console.developers.google.com/iam-admin/iam/project?project=giskoshi and then retry. Propagation of the new permission may take a few minutes.",
     "output_type": "error",
     "traceback": [
      "\u001b[31m---------------------------------------------------------------------------\u001b[39m",
      "\u001b[31mHttpError\u001b[39m                                 Traceback (most recent call last)",
      "\u001b[36mFile \u001b[39m\u001b[32mc:\\ProgramData\\anaconda3\\envs\\code_paper\\Lib\\site-packages\\ee\\data.py:409\u001b[39m, in \u001b[36m_execute_cloud_call\u001b[39m\u001b[34m(call, num_retries)\u001b[39m\n\u001b[32m    408\u001b[39m \u001b[38;5;28;01mtry\u001b[39;00m:\n\u001b[32m--> \u001b[39m\u001b[32m409\u001b[39m   \u001b[38;5;28;01mreturn\u001b[39;00m \u001b[43mcall\u001b[49m\u001b[43m.\u001b[49m\u001b[43mexecute\u001b[49m\u001b[43m(\u001b[49m\u001b[43mnum_retries\u001b[49m\u001b[43m=\u001b[49m\u001b[43mnum_retries\u001b[49m\u001b[43m)\u001b[49m\n\u001b[32m    410\u001b[39m \u001b[38;5;28;01mexcept\u001b[39;00m googleapiclient.errors.HttpError \u001b[38;5;28;01mas\u001b[39;00m e:\n",
      "\u001b[36mFile \u001b[39m\u001b[32mc:\\ProgramData\\anaconda3\\envs\\code_paper\\Lib\\site-packages\\googleapiclient\\_helpers.py:130\u001b[39m, in \u001b[36mpositional.<locals>.positional_decorator.<locals>.positional_wrapper\u001b[39m\u001b[34m(*args, **kwargs)\u001b[39m\n\u001b[32m    129\u001b[39m         logger.warning(message)\n\u001b[32m--> \u001b[39m\u001b[32m130\u001b[39m \u001b[38;5;28;01mreturn\u001b[39;00m \u001b[43mwrapped\u001b[49m\u001b[43m(\u001b[49m\u001b[43m*\u001b[49m\u001b[43margs\u001b[49m\u001b[43m,\u001b[49m\u001b[43m \u001b[49m\u001b[43m*\u001b[49m\u001b[43m*\u001b[49m\u001b[43mkwargs\u001b[49m\u001b[43m)\u001b[49m\n",
      "\u001b[36mFile \u001b[39m\u001b[32mc:\\ProgramData\\anaconda3\\envs\\code_paper\\Lib\\site-packages\\googleapiclient\\http.py:938\u001b[39m, in \u001b[36mHttpRequest.execute\u001b[39m\u001b[34m(self, http, num_retries)\u001b[39m\n\u001b[32m    937\u001b[39m \u001b[38;5;28;01mif\u001b[39;00m resp.status >= \u001b[32m300\u001b[39m:\n\u001b[32m--> \u001b[39m\u001b[32m938\u001b[39m     \u001b[38;5;28;01mraise\u001b[39;00m HttpError(resp, content, uri=\u001b[38;5;28mself\u001b[39m.uri)\n\u001b[32m    939\u001b[39m \u001b[38;5;28;01mreturn\u001b[39;00m \u001b[38;5;28mself\u001b[39m.postproc(resp, content)\n",
      "\u001b[31mHttpError\u001b[39m: <HttpError 403 when requesting https://earthengine.googleapis.com/v1/projects/giskoshi/image:export?alt=json returned \"Caller does not have required permission to use project giskoshi. Grant the caller the roles/serviceusage.serviceUsageConsumer role, or a custom role with the serviceusage.services.use permission, by visiting https://console.developers.google.com/iam-admin/iam/project?project=giskoshi and then retry. Propagation of the new permission may take a few minutes.\". Details: \"[{'@type': 'type.googleapis.com/google.rpc.ErrorInfo', 'reason': 'USER_PROJECT_DENIED', 'domain': 'googleapis.com', 'metadata': {'service': 'earthengine.googleapis.com', 'containerInfo': 'giskoshi', 'consumer': 'projects/giskoshi'}}, {'@type': 'type.googleapis.com/google.rpc.LocalizedMessage', 'locale': 'en-US', 'message': 'Caller does not have required permission to use project giskoshi. Grant the caller the roles/serviceusage.serviceUsageConsumer role, or a custom role with the serviceusage.services.use permission, by visiting https://console.developers.google.com/iam-admin/iam/project?project=giskoshi and then retry. Propagation of the new permission may take a few minutes.'}, {'@type': 'type.googleapis.com/google.rpc.Help', 'links': [{'description': 'Google developer console IAM admin', 'url': 'https://console.developers.google.com/iam-admin/iam/project?project=giskoshi'}]}]\">",
      "\nDuring handling of the above exception, another exception occurred:\n",
      "\u001b[31mEEException\u001b[39m                               Traceback (most recent call last)",
      "\u001b[36mCell\u001b[39m\u001b[36m \u001b[39m\u001b[32mIn[10]\u001b[39m\u001b[32m, line 58\u001b[39m\n\u001b[32m     56\u001b[39m     \u001b[38;5;66;03m# Start the export task\u001b[39;00m\n\u001b[32m     57\u001b[39m     task = ee.batch.Export.image.toDrive(img, **export_params)\n\u001b[32m---> \u001b[39m\u001b[32m58\u001b[39m     \u001b[43mtask\u001b[49m\u001b[43m.\u001b[49m\u001b[43mstart\u001b[49m\u001b[43m(\u001b[49m\u001b[43m)\u001b[49m\n\u001b[32m     59\u001b[39m     \u001b[38;5;28mprint\u001b[39m(\u001b[33mf\u001b[39m\u001b[33m\"\u001b[39m\u001b[33mExporting Landsat \u001b[39m\u001b[38;5;132;01m{\u001b[39;00my\u001b[38;5;132;01m}\u001b[39;00m\u001b[33m to Google Drive...\u001b[39m\u001b[33m\"\u001b[39m)\n\u001b[32m     61\u001b[39m \u001b[38;5;28mprint\u001b[39m(\u001b[33m\"\u001b[39m\u001b[33mAll tasks submitted. Check Google Drive for downloads.\u001b[39m\u001b[33m\"\u001b[39m)\n",
      "\u001b[36mFile \u001b[39m\u001b[32mc:\\ProgramData\\anaconda3\\envs\\code_paper\\Lib\\site-packages\\ee\\batch.py:146\u001b[39m, in \u001b[36mTask.start\u001b[39m\u001b[34m(self)\u001b[39m\n\u001b[32m    143\u001b[39m   \u001b[38;5;28mself\u001b[39m.config[\u001b[33m'\u001b[39m\u001b[33mworkloadTag\u001b[39m\u001b[33m'\u001b[39m] = \u001b[38;5;28mself\u001b[39m.workload_tag\n\u001b[32m    145\u001b[39m \u001b[38;5;28;01mif\u001b[39;00m \u001b[38;5;28mself\u001b[39m.task_type == Task.Type.EXPORT_IMAGE:\n\u001b[32m--> \u001b[39m\u001b[32m146\u001b[39m   result = \u001b[43mdata\u001b[49m\u001b[43m.\u001b[49m\u001b[43mexportImage\u001b[49m\u001b[43m(\u001b[49m\u001b[38;5;28;43mself\u001b[39;49m\u001b[43m.\u001b[49m\u001b[43m_request_id\u001b[49m\u001b[43m,\u001b[49m\u001b[43m \u001b[49m\u001b[38;5;28;43mself\u001b[39;49m\u001b[43m.\u001b[49m\u001b[43mconfig\u001b[49m\u001b[43m)\u001b[49m\n\u001b[32m    147\u001b[39m \u001b[38;5;28;01melif\u001b[39;00m \u001b[38;5;28mself\u001b[39m.task_type == Task.Type.EXPORT_MAP:\n\u001b[32m    148\u001b[39m   result = data.exportMap(\u001b[38;5;28mself\u001b[39m._request_id, \u001b[38;5;28mself\u001b[39m.config)\n",
      "\u001b[36mFile \u001b[39m\u001b[32mc:\\ProgramData\\anaconda3\\envs\\code_paper\\Lib\\site-packages\\ee\\data.py:1768\u001b[39m, in \u001b[36mexportImage\u001b[39m\u001b[34m(request_id, params)\u001b[39m\n\u001b[32m   1747\u001b[39m \u001b[38;5;250m\u001b[39m\u001b[33;03m\"\"\"Starts an image export task running.\u001b[39;00m\n\u001b[32m   1748\u001b[39m \n\u001b[32m   1749\u001b[39m \u001b[33;03mThis is a low-level method. The higher-level ee.batch.Export.image object\u001b[39;00m\n\u001b[32m   (...)\u001b[39m\u001b[32m   1765\u001b[39m \u001b[33;03m  If you are using the cloud API, this will be an Operation.\u001b[39;00m\n\u001b[32m   1766\u001b[39m \u001b[33;03m\"\"\"\u001b[39;00m\n\u001b[32m   1767\u001b[39m params = params.copy()\n\u001b[32m-> \u001b[39m\u001b[32m1768\u001b[39m \u001b[38;5;28;01mreturn\u001b[39;00m \u001b[43m_prepare_and_run_export\u001b[49m\u001b[43m(\u001b[49m\n\u001b[32m   1769\u001b[39m \u001b[43m    \u001b[49m\u001b[43mrequest_id\u001b[49m\u001b[43m,\u001b[49m\u001b[43m \u001b[49m\u001b[43mparams\u001b[49m\u001b[43m,\u001b[49m\u001b[43m \u001b[49m\u001b[43m_get_cloud_projects\u001b[49m\u001b[43m(\u001b[49m\u001b[43m)\u001b[49m\u001b[43m.\u001b[49m\u001b[43mimage\u001b[49m\u001b[43m(\u001b[49m\u001b[43m)\u001b[49m\u001b[43m.\u001b[49m\u001b[43mexport\u001b[49m\n\u001b[32m   1770\u001b[39m \u001b[43m\u001b[49m\u001b[43m)\u001b[49m\n",
      "\u001b[36mFile \u001b[39m\u001b[32mc:\\ProgramData\\anaconda3\\envs\\code_paper\\Lib\\site-packages\\ee\\data.py:1912\u001b[39m, in \u001b[36m_prepare_and_run_export\u001b[39m\u001b[34m(request_id, params, export_endpoint)\u001b[39m\n\u001b[32m   1909\u001b[39m   params[\u001b[33m'\u001b[39m\u001b[33mexpression\u001b[39m\u001b[33m'\u001b[39m] = serializer.encode(\n\u001b[32m   1910\u001b[39m       params[\u001b[33m'\u001b[39m\u001b[33mexpression\u001b[39m\u001b[33m'\u001b[39m], for_cloud_api=\u001b[38;5;28;01mTrue\u001b[39;00m)\n\u001b[32m   1911\u001b[39m num_retries = _max_retries \u001b[38;5;28;01mif\u001b[39;00m request_id \u001b[38;5;28;01melse\u001b[39;00m \u001b[32m0\u001b[39m\n\u001b[32m-> \u001b[39m\u001b[32m1912\u001b[39m \u001b[38;5;28;01mreturn\u001b[39;00m \u001b[43m_execute_cloud_call\u001b[49m\u001b[43m(\u001b[49m\n\u001b[32m   1913\u001b[39m \u001b[43m    \u001b[49m\u001b[43mexport_endpoint\u001b[49m\u001b[43m(\u001b[49m\u001b[43mproject\u001b[49m\u001b[43m=\u001b[49m\u001b[43m_get_projects_path\u001b[49m\u001b[43m(\u001b[49m\u001b[43m)\u001b[49m\u001b[43m,\u001b[49m\u001b[43m \u001b[49m\u001b[43mbody\u001b[49m\u001b[43m=\u001b[49m\u001b[43mparams\u001b[49m\u001b[43m)\u001b[49m\u001b[43m,\u001b[49m\n\u001b[32m   1914\u001b[39m \u001b[43m    \u001b[49m\u001b[43mnum_retries\u001b[49m\u001b[43m=\u001b[49m\u001b[43mnum_retries\u001b[49m\u001b[43m)\u001b[49m\n",
      "\u001b[36mFile \u001b[39m\u001b[32mc:\\ProgramData\\anaconda3\\envs\\code_paper\\Lib\\site-packages\\ee\\data.py:411\u001b[39m, in \u001b[36m_execute_cloud_call\u001b[39m\u001b[34m(call, num_retries)\u001b[39m\n\u001b[32m    409\u001b[39m   \u001b[38;5;28;01mreturn\u001b[39;00m call.execute(num_retries=num_retries)\n\u001b[32m    410\u001b[39m \u001b[38;5;28;01mexcept\u001b[39;00m googleapiclient.errors.HttpError \u001b[38;5;28;01mas\u001b[39;00m e:\n\u001b[32m--> \u001b[39m\u001b[32m411\u001b[39m   \u001b[38;5;28;01mraise\u001b[39;00m _translate_cloud_exception(e)\n",
      "\u001b[31mEEException\u001b[39m: Caller does not have required permission to use project giskoshi. Grant the caller the roles/serviceusage.serviceUsageConsumer role, or a custom role with the serviceusage.services.use permission, by visiting https://console.developers.google.com/iam-admin/iam/project?project=giskoshi and then retry. Propagation of the new permission may take a few minutes."
     ]
    }
   ],
   "source": [
    "# Load AOI shapefile\n",
    "physio_koshi = gpd.read_file(r\"G:\\learn\\python_works\\Work_projects\\Koshi_chetan\\chetan_cas\\works\\data\\gis\\koshi_basin_nepal\\koshi_nepal_basin.shp\")\n",
    "whole_koshi_basin = physio_koshi.dissolve()\n",
    "ee_physio_koshi = ee.FeatureCollection(geemap.geopandas_to_ee(whole_koshi_basin))\n",
    "\n",
    "# Load Landsat collections\n",
    "l4 = ee.ImageCollection(\"LANDSAT/LT04/C02/T1_L2\")\n",
    "l5 = ee.ImageCollection(\"LANDSAT/LT05/C02/T1_L2\")\n",
    "l7 = ee.ImageCollection(\"LANDSAT/LE07/C02/T1_L2\")\n",
    "l8 = ee.ImageCollection(\"LANDSAT/LC08/C02/T1_L2\")\n",
    "l9 = ee.ImageCollection(\"LANDSAT/LC09/C02/T1_L2\")\n",
    "\n",
    "# Cloud masking functions\n",
    "def mask_tm(image):\n",
    "    qa = image.select('QA_PIXEL')\n",
    "    mask = qa.bitwiseAnd(1 << 3).eq(0).And(qa.bitwiseAnd(1 << 4).eq(0))\n",
    "    return image.updateMask(mask).multiply(0.0000275).add(-0.2)\n",
    "\n",
    "def mask_oli(image):\n",
    "    qa = image.select('QA_PIXEL')\n",
    "    mask = qa.bitwiseAnd(1 << 3).eq(0).And(qa.bitwiseAnd(1 << 4).eq(0))\n",
    "    return image.updateMask(mask).multiply(0.0000275).add(-0.2)\n",
    "\n",
    "# Composite function\n",
    "def get_composite(year):\n",
    "    start = ee.Date.fromYMD(year, 1, 1)\n",
    "    end = ee.Date.fromYMD(year, 12, 31)\n",
    "\n",
    "    if year < 2013:\n",
    "        col = (l4.filterBounds(ee_physio_koshi).filterDate(start, end).map(mask_tm)\n",
    "               .merge(l5.filterBounds(ee_physio_koshi).filterDate(start, end).map(mask_tm))\n",
    "               .merge(l7.filterBounds(ee_physio_koshi).filterDate(start, end).map(mask_tm)))\n",
    "    else:\n",
    "        col = (l8.filterBounds(ee_physio_koshi).filterDate(start, end).map(mask_oli)\n",
    "               .merge(l9.filterBounds(ee_physio_koshi).filterDate(start, end).map(mask_oli)))\n",
    "\n",
    "    return col.mosaic().clip(ee_physio_koshi)\n",
    "\n",
    "# Years to process\n",
    "years = [1990]\n",
    "\n",
    "# Export each composite to Google Drive\n",
    "for y in years:\n",
    "    img = get_composite(y)\n",
    "    \n",
    "    # Define export parameters\n",
    "    export_params = {\n",
    "        'scale': 30,  # 30m resolution (adjust if needed)\n",
    "        'region': ee_physio_koshi.geometry().bounds(),  # Export the entire AOI\n",
    "        'maxPixels': 1e13,  # Increase if needed\n",
    "        'fileFormat': 'GeoTIFF',\n",
    "        'folder': 'Landsat_Koshi_Basin',  # Folder in Google Drive\n",
    "        'fileNamePrefix': f'Landsat_{y}_AllBands'  # Output filename\n",
    "    }\n",
    "    \n",
    "    # Start the export task\n",
    "    task = ee.batch.Export.image.toDrive(img, **export_params)\n",
    "    task.start()\n",
    "    print(f\"Exporting Landsat {y} to Google Drive...\")\n",
    "\n",
    "print(\"All tasks submitted. Check Google Drive for downloads.\")"
   ]
  },
  {
   "cell_type": "code",
   "execution_count": null,
   "id": "6799aebf",
   "metadata": {},
   "outputs": [
    {
     "data": {
      "text/html": [
       "\n",
       "            <style>\n",
       "                .geemap-dark {\n",
       "                    --jp-widgets-color: white;\n",
       "                    --jp-widgets-label-color: white;\n",
       "                    --jp-ui-font-color1: white;\n",
       "                    --jp-layout-color2: #454545;\n",
       "                    background-color: #383838;\n",
       "                }\n",
       "\n",
       "                .geemap-dark .jupyter-button {\n",
       "                    --jp-layout-color3: #383838;\n",
       "                }\n",
       "\n",
       "                .geemap-colab {\n",
       "                    background-color: var(--colab-primary-surface-color, white);\n",
       "                }\n",
       "\n",
       "                .geemap-colab .jupyter-button {\n",
       "                    --jp-layout-color3: var(--colab-primary-surface-color, white);\n",
       "                }\n",
       "            </style>\n",
       "            "
      ],
      "text/plain": [
       "<IPython.core.display.HTML object>"
      ]
     },
     "metadata": {},
     "output_type": "display_data"
    },
    {
     "name": "stdout",
     "output_type": "stream",
     "text": [
      "Generating URL ...\n",
      "An error occurred while downloading.\n",
      "Total request size (11652251904 bytes) must be less than or equal to 50331648 bytes.\n",
      "Downloaded Landsat 1990 to Landsat_Koshi_Downloads\\Landsat_1990_AllBands.tif\n",
      "Generating URL ...\n",
      "An error occurred while downloading.\n",
      "Total request size (11652251904 bytes) must be less than or equal to 50331648 bytes.\n",
      "Downloaded Landsat 2000 to Landsat_Koshi_Downloads\\Landsat_2000_AllBands.tif\n",
      "Generating URL ...\n",
      "An error occurred while downloading.\n",
      "Total request size (11652251904 bytes) must be less than or equal to 50331648 bytes.\n",
      "Downloaded Landsat 2010 to Landsat_Koshi_Downloads\\Landsat_2010_AllBands.tif\n",
      "Generating URL ...\n",
      "An error occurred while downloading.\n",
      "Total request size (11652251904 bytes) must be less than or equal to 50331648 bytes.\n",
      "Downloaded Landsat 2020 to Landsat_Koshi_Downloads\\Landsat_2020_AllBands.tif\n",
      "Generating URL ...\n",
      "An error occurred while downloading.\n",
      "Total request size (11652251904 bytes) must be less than or equal to 50331648 bytes.\n",
      "Downloaded Landsat 2024 to Landsat_Koshi_Downloads\\Landsat_2024_AllBands.tif\n"
     ]
    }
   ],
   "source": [
    "# Export each composite to Google Drive\n",
    "for y in years:\n",
    "    img = get_composite(y)\n",
    "    \n",
    "    # Define export parameters\n",
    "    export_params = {\n",
    "        'scale': 30,  # 30m resolution (adjust if needed)\n",
    "        'region': ee_physio_koshi.geometry().bounds(),  # Export the entire AOI\n",
    "        'maxPixels': 1e13,  # Increase if needed\n",
    "        'fileFormat': 'GeoTIFF',\n",
    "        'folder': 'Landsat_Koshi_Basin',  # Folder in Google Drive\n",
    "        'fileNamePrefix': f'Landsat_{y}_AllBands'  # Output filename\n",
    "    }\n",
    "    \n",
    "    # Start the export task\n",
    "    task = ee.batch.Export.image.toDrive(img, **export_params)\n",
    "    task.start()\n",
    "    print(f\"Exporting Landsat {y} to Google Drive...\")\n",
    "\n",
    "print(\"All tasks submitted. Check Google Drive for downloads.\")"
   ]
  },
  {
   "cell_type": "code",
   "execution_count": null,
   "metadata": {},
   "outputs": [],
   "source": [
    "# Load AOI shapefile\n",
    "physio_koshi = gpd.read_file(r\"G:\\learn\\python_works\\Work_projects\\Koshi_chetan\\chetan_cas\\works\\data\\gis\\koshi_basin_nepal\\koshi_nepal_basin.shp\")\n",
    "whole_koshi_basin = physio_koshi.dissolve()\n",
    "ee_physio_koshi = ee.FeatureCollection(geemap.geopandas_to_ee(whole_koshi_basin))\n",
    "\n",
    "# Load Landsat collections\n",
    "l4 = ee.ImageCollection(\"LANDSAT/LT04/C02/T1_L2\")\n",
    "l5 = ee.ImageCollection(\"LANDSAT/LT05/C02/T1_L2\")\n",
    "l7 = ee.ImageCollection(\"LANDSAT/LE07/C02/T1_L2\")\n",
    "l8 = ee.ImageCollection(\"LANDSAT/LC08/C02/T1_L2\")\n",
    "l9 = ee.ImageCollection(\"LANDSAT/LC09/C02/T1_L2\")\n",
    "\n",
    "# Cloud masking functions\n",
    "def mask_tm(image):\n",
    "    qa = image.select('QA_PIXEL')\n",
    "    mask = qa.bitwiseAnd(1 << 3).eq(0).And(qa.bitwiseAnd(1 << 4).eq(0))\n",
    "    return image.updateMask(mask).multiply(0.0000275).add(-0.2)\n",
    "\n",
    "def mask_oli(image):\n",
    "    qa = image.select('QA_PIXEL')\n",
    "    mask = qa.bitwiseAnd(1 << 3).eq(0).And(qa.bitwiseAnd(1 << 4).eq(0))\n",
    "    return image.updateMask(mask).multiply(0.0000275).add(-0.2)\n",
    "\n",
    "# Composite function\n",
    "def get_composite(year):\n",
    "    start = ee.Date.fromYMD(year, 1, 1)\n",
    "    end = ee.Date.fromYMD(year, 12, 31)\n",
    "\n",
    "    if year < 2013:\n",
    "        col = (l4.filterBounds(ee_physio_koshi).filterDate(start, end).map(mask_tm)\n",
    "               .merge(l5.filterBounds(ee_physio_koshi).filterDate(start, end).map(mask_tm))\n",
    "               .merge(l7.filterBounds(ee_physio_koshi).filterDate(start, end).map(mask_tm)))\n",
    "    else:\n",
    "        col = (l8.filterBounds(ee_physio_koshi).filterDate(start, end).map(mask_oli)\n",
    "               .merge(l9.filterBounds(ee_physio_koshi).filterDate(start, end).map(mask_oli)))\n",
    "\n",
    "    return col.mosaic().clip(ee_physio_koshi)\n",
    "\n",
    "# Years to process\n",
    "years = [1990, 2000, 2010, 2020, 2024]\n",
    "\n",
    "# Export each composite to Google Drive\n",
    "for y in years:\n",
    "    img = get_composite(y)\n",
    "    \n",
    "    # Define export parameters\n",
    "    export_params = {\n",
    "        'scale': 30,  # 30m resolution (adjust if needed)\n",
    "        'region': ee_physio_koshi.geometry().bounds(),  # Export the entire AOI\n",
    "        'maxPixels': 1e13,  # Increase if needed\n",
    "        'fileFormat': 'GeoTIFF',\n",
    "        'folder': 'Landsat_Koshi_Basin',  # Folder in Google Drive\n",
    "        'fileNamePrefix': f'Landsat_{y}_AllBands'  # Output filename\n",
    "    }\n",
    "    \n",
    "    # Start the export task\n",
    "    task = ee.batch.Export.image.toDrive(img, **export_params)\n",
    "    task.start()\n",
    "    print(f\"Exporting Landsat {y} to Google Drive...\")\n",
    "\n",
    "print(\"All tasks submitted. Check Google Drive for downloads.\")"
   ]
  }
 ],
 "metadata": {
  "kernelspec": {
   "display_name": "code_paper",
   "language": "python",
   "name": "python3"
  },
  "language_info": {
   "codemirror_mode": {
    "name": "ipython",
    "version": 3
   },
   "file_extension": ".py",
   "mimetype": "text/x-python",
   "name": "python",
   "nbconvert_exporter": "python",
   "pygments_lexer": "ipython3",
   "version": "3.13.2"
  }
 },
 "nbformat": 4,
 "nbformat_minor": 5
}
