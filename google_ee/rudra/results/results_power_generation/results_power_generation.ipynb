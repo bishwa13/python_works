{
 "cells": [
  {
   "cell_type": "code",
   "execution_count": 1,
   "id": "abfea89f",
   "metadata": {},
   "outputs": [],
   "source": [
    "import pandas as pd\n",
    "import numpy as np\n",
    "import matplotlib.pyplot as plt"
   ]
  },
  {
   "cell_type": "code",
   "execution_count": 2,
   "id": "05ef859e",
   "metadata": {},
   "outputs": [],
   "source": [
    "power_generation_data = pd.read_csv(r\"G:\\learn\\python_works\\google_ee\\rudra\\datas\\attatchments\\power_generation.csv\")"
   ]
  },
  {
   "cell_type": "code",
   "execution_count": 3,
   "id": "4c1efbdd",
   "metadata": {},
   "outputs": [
    {
     "name": "stdout",
     "output_type": "stream",
     "text": [
      "     Year  Power_generation\n",
      "0    1981       27434.00000\n",
      "1    1982       87417.00000\n",
      "2    1983       82293.00000\n",
      "3    1984      104012.00000\n",
      "4    1985      174411.00000\n",
      "..    ...               ...\n",
      "115  2096       98660.73543\n",
      "116  2097      111158.46920\n",
      "117  2098       85868.76438\n",
      "118  2099       92953.32481\n",
      "119  2100      103062.77770\n",
      "\n",
      "[120 rows x 2 columns]\n"
     ]
    }
   ],
   "source": [
    "print(power_generation_data)"
   ]
  },
  {
   "cell_type": "code",
   "execution_count": 2,
   "id": "d5349158",
   "metadata": {},
   "outputs": [
    {
     "name": "stdout",
     "output_type": "stream",
     "text": [
      "Plotted data saved as 'annual_power_generation_trends_data.csv'.\n",
      "Chart saved as 'annual_power_generation_trends.png'.\n"
     ]
    }
   ],
   "source": [
    "import pandas as pd\n",
    "import numpy as np\n",
    "import matplotlib.pyplot as plt\n",
    "\n",
    "# Set font properties\n",
    "plt.rcParams['font.family'] = 'Times New Roman'\n",
    "plt.rcParams['font.size'] = 12\n",
    "\n",
    "# Step 1: Read the CSV file\n",
    "file_path = r\"G:\\learn\\python_works\\google_ee\\rudra\\datas\\attatchments\\power_generation.csv\"\n",
    "try:\n",
    "    power_generation_data = pd.read_csv(file_path)\n",
    "except FileNotFoundError:\n",
    "    print(f\"Error: File at {file_path} not found. Please check the path.\")\n",
    "    exit()\n",
    "\n",
    "# Step 2: Compute annual averages (data is already annual, no aggregation needed)\n",
    "annual_data = power_generation_data\n",
    "\n",
    "# Step 3: Split data into observed (1982–2022) and forecasted (2023–2100)\n",
    "observed_data = annual_data[(annual_data['Year'] >= 1982) & (annual_data['Year'] <= 2022)]\n",
    "forecasted_data = annual_data[(annual_data['Year'] >= 2023) & (annual_data['Year'] <= 2100)]\n",
    "\n",
    "# Step 4: Perform linear regression and calculate R² across all data\n",
    "def linear_regression_and_r2(x, y):\n",
    "    coeffs = np.polyfit(x, y, 1)\n",
    "    trend_line = np.poly1d(coeffs)\n",
    "    y_mean = np.mean(y)\n",
    "    ss_tot = np.sum((y - y_mean) ** 2)\n",
    "    ss_res = np.sum((y - trend_line(x)) ** 2)\n",
    "    r_squared = 1 - (ss_res / ss_tot) if ss_tot != 0 else 0\n",
    "    return coeffs, r_squared, trend_line\n",
    "\n",
    "if not annual_data.empty:\n",
    "    coeffs, r2, trend = linear_regression_and_r2(annual_data['Year'], annual_data['Power_generation'])\n",
    "    equation = f'y = {coeffs[0]:.4f}x + {coeffs[1]:.4f}\\nR² = {r2:.4f}'\n",
    "else:\n",
    "    equation = \"No data for Power Generation\"\n",
    "    trend = lambda x: np.full_like(x, np.nan)\n",
    "\n",
    "# Step 5: Create DataFrame and save to CSV\n",
    "if not annual_data.empty:\n",
    "    annual_data.to_csv('annual_power_generation_trends_data.csv', index=False)\n",
    "    print(\"Plotted data saved as 'annual_power_generation_trends_data.csv'.\")\n",
    "else:\n",
    "    print(\"No data available to save to CSV.\")\n",
    "\n",
    "# Step 6: Create the plot\n",
    "plt.figure(figsize=(10, 6))\n",
    "\n",
    "# Plot observed and forecasted values with different colors\n",
    "if not observed_data.empty:\n",
    "    plt.plot(observed_data['Year'], observed_data['Power_generation'], color='blue', label='Observed (1982–2022)', linewidth=2)\n",
    "if not forecasted_data.empty:\n",
    "    plt.plot(forecasted_data['Year'], forecasted_data['Power_generation'], color='red', label='Forecasted (2023–2100)', linewidth=2)\n",
    "\n",
    "# Plot trend line across all data\n",
    "if not annual_data.empty:\n",
    "    plt.plot(annual_data['Year'], trend(annual_data['Year']), color='black', linestyle='--', label='Trend Line', linewidth=1)\n",
    "\n",
    "# Annotations for equation and R²\n",
    "if not annual_data.empty:\n",
    "    plt.text(0.02, 0.98, equation, transform=plt.gca().transAxes, verticalalignment='top', bbox=dict(boxstyle='round', facecolor='white', alpha=0.8))\n",
    "\n",
    "# Labels and title\n",
    "plt.xlabel('Year')\n",
    "plt.ylabel('Power Generation (MWh)')\n",
    "plt.title('Annual Power Generation with Trend Line (1982–2100)')\n",
    "plt.legend()\n",
    "plt.grid(True, linestyle='--', alpha=0.7)\n",
    "\n",
    "# Set y-axis range from 0 to 200,000 kWh\n",
    "plt.ylim(0, 200000)\n",
    "\n",
    "# Adjust layout and save\n",
    "plt.tight_layout()\n",
    "plt.savefig('annual_power_generation_trends.png', dpi=300, bbox_inches='tight')\n",
    "plt.close()\n",
    "print(\"Chart saved as 'annual_power_generation_trends.png'.\")"
   ]
  },
  {
   "cell_type": "code",
   "execution_count": 3,
   "id": "2d239eaa",
   "metadata": {},
   "outputs": [
    {
     "name": "stdout",
     "output_type": "stream",
     "text": [
      "y = -165.1496x + 455655.7361\n",
      "R² = 0.0278\n"
     ]
    }
   ],
   "source": [
    "print(equation)"
   ]
  },
  {
   "cell_type": "code",
   "execution_count": 5,
   "id": "05c575e5",
   "metadata": {},
   "outputs": [
    {
     "name": "stdout",
     "output_type": "stream",
     "text": [
      "Average Baseline Power Generation: 137998.61290322582\n",
      "Average 2020s Power Generation: 107479.07352833333\n",
      "Average 2050s Power Generation: 114878.09475433333\n",
      "Average 2080s Power Generation: 114492.24813066669\n",
      "Plotted data saved as 'power_generation_by_period_data.csv'.\n",
      "Chart saved as 'power_generation_by_period.png'.\n"
     ]
    }
   ],
   "source": [
    "import pandas as pd\n",
    "import matplotlib.pyplot as plt\n",
    "\n",
    "# Set font properties\n",
    "plt.rcParams['font.family'] = 'Times New Roman'\n",
    "plt.rcParams['font.size'] = 12\n",
    "\n",
    "# Step 1: Read the CSV file\n",
    "file_path = r\"G:\\learn\\python_works\\google_ee\\rudra\\datas\\attatchments\\power_generation.csv\"\n",
    "try:\n",
    "    power_generation_data = pd.read_csv(file_path)\n",
    "except FileNotFoundError:\n",
    "    print(f\"Error: File at {file_path} not found. Please check the path.\")\n",
    "    exit()\n",
    "\n",
    "# Step 2: Define periods\n",
    "periods = {\n",
    "    'Baseline': (1981, 2011),\n",
    "    '2020s': (2011, 2040),\n",
    "    '2050s': (2041, 2070),\n",
    "    '2080s': (2071, 2100)\n",
    "}\n",
    "\n",
    "# Step 3: Calculate average power generation for each period\n",
    "period_means = {}\n",
    "for period_name, (start_year, end_year) in periods.items():\n",
    "    period_data = power_generation_data[(power_generation_data['Year'] >= start_year) & (power_generation_data['Year'] <= end_year)]\n",
    "    mean_power = period_data['Power_generation'].mean()\n",
    "    period_means[period_name] = mean_power if not pd.isna(mean_power) else 0\n",
    "    print(f\"Average {period_name} Power Generation: {mean_power if not pd.isna(mean_power) else 'No data'}\")\n",
    "\n",
    "# Step 4: Create DataFrame and save to CSV\n",
    "df = pd.DataFrame({'Period': list(period_means.keys()), 'Average Power Generation (kWh)': list(period_means.values())})\n",
    "df.to_csv('power_generation_by_period_data.csv', index=False)\n",
    "print(\"Plotted data saved as 'power_generation_by_period_data.csv'.\")\n",
    "\n",
    "# Step 5: Create the plot\n",
    "plt.figure(figsize=(8, 6))\n",
    "plt.bar(period_means.keys(), period_means.values(), color=['green', 'black', 'skyblue', 'white'], edgecolor='black')\n",
    "plt.xlabel('Period')\n",
    "plt.ylabel('Average Power Generation (kWh)')\n",
    "plt.title('Average Power Generation by Period')\n",
    "plt.grid(True, linestyle='--', alpha=0.7)\n",
    "\n",
    "# Set y-axis range from 0 to 200,000 kWh\n",
    "plt.ylim(0, 200000)\n",
    "\n",
    "# Adjust layout and save\n",
    "plt.tight_layout()\n",
    "plt.savefig('power_generation_by_period.png', dpi=300, bbox_inches='tight')\n",
    "plt.close()\n",
    "print(\"Chart saved as 'power_generation_by_period.png'.\")"
   ]
  },
  {
   "cell_type": "code",
   "execution_count": 6,
   "id": "6a93ebc7",
   "metadata": {},
   "outputs": [
    {
     "name": "stdout",
     "output_type": "stream",
     "text": [
      "Average Baseline Power Generation: 137998.61290322582\n",
      "Average 2020s Power Generation: 107479.07352833333\n",
      "Average 2050s Power Generation: 114878.09475433333\n",
      "Average 2080s Power Generation: 114492.24813066669\n",
      "Plotted data saved as 'power_generation_relative_change_data.csv'.\n",
      "Chart saved as 'power_generation_relative_change.png'.\n"
     ]
    }
   ],
   "source": [
    "import pandas as pd\n",
    "import matplotlib.pyplot as plt\n",
    "\n",
    "# Set font properties\n",
    "plt.rcParams['font.family'] = 'Times New Roman'\n",
    "plt.rcParams['font.size'] = 12\n",
    "\n",
    "# Step 1: Read the CSV file\n",
    "file_path = r\"G:\\learn\\python_works\\google_ee\\rudra\\datas\\attatchments\\power_generation.csv\"\n",
    "try:\n",
    "    power_generation_data = pd.read_csv(file_path)\n",
    "except FileNotFoundError:\n",
    "    print(f\"Error: File at {file_path} not found. Please check the path.\")\n",
    "    exit()\n",
    "\n",
    "# Step 2: Define periods\n",
    "periods = {\n",
    "    'Baseline': (1981, 2011),\n",
    "    '2020s': (2011, 2040),\n",
    "    '2050s': (2041, 2070),\n",
    "    '2080s': (2071, 2100)\n",
    "}\n",
    "\n",
    "# Step 3: Calculate average power generation and relative change\n",
    "period_means = {}\n",
    "baseline_mean = power_generation_data[(power_generation_data['Year'] >= periods['Baseline'][0]) & (power_generation_data['Year'] <= periods['Baseline'][1])]['Power_generation'].mean()\n",
    "relative_changes = {}\n",
    "\n",
    "for period_name, (start_year, end_year) in periods.items():\n",
    "    if period_name == 'Baseline':\n",
    "        period_means[period_name] = baseline_mean\n",
    "    else:\n",
    "        period_data = power_generation_data[(power_generation_data['Year'] >= start_year) & (power_generation_data['Year'] <= end_year)]\n",
    "        period_mean = period_data['Power_generation'].mean()\n",
    "        period_means[period_name] = period_mean if not pd.isna(period_mean) else 0\n",
    "        relative_changes[period_name] = ((period_mean - baseline_mean) / baseline_mean * 100) if not pd.isna(period_mean) and baseline_mean != 0 else 0\n",
    "    print(f\"Average {period_name} Power Generation: {period_means[period_name] if not pd.isna(period_means[period_name]) else 'No data'}\")\n",
    "\n",
    "# Step 4: Create DataFrame and save to CSV\n",
    "df = pd.DataFrame({\n",
    "    'Period': list(period_means.keys()),\n",
    "    'Average Power Generation (kWh)': list(period_means.values()),\n",
    "    'Relative Change (%)': ['N/A'] + [relative_changes.get(p, 0) for p in ['2020s', '2050s', '2080s']]\n",
    "})\n",
    "df.to_csv('power_generation_relative_change_data.csv', index=False)\n",
    "print(\"Plotted data saved as 'power_generation_relative_change_data.csv'.\")\n",
    "\n",
    "# Step 5: Create the plot\n",
    "plt.figure(figsize=(8, 6))\n",
    "x = np.arange(len(period_means))\n",
    "plt.bar(x, [period_means[p] for p in period_means.keys()], color=['green', 'black', 'skyblue', 'white'], edgecolor='black', label='Average Power Generation')\n",
    "plt.xlabel('Period')\n",
    "plt.ylabel('Average Power Generation (kWh)')\n",
    "plt.title('Average Power Generation and Relative Change by Period (Baseline: 1981–2011)')\n",
    "plt.xticks(x, period_means.keys())\n",
    "plt.grid(True, linestyle='--', alpha=0.7)\n",
    "\n",
    "# Annotate relative changes for future periods\n",
    "for i, period in enumerate(['2020s', '2050s', '2080s']):\n",
    "    change = relative_changes.get(period, 0)\n",
    "    plt.text(i + 1, period_means[period] + 5000, f'{change:.1f}%', ha='center')\n",
    "\n",
    "# Set y-axis range from 0 to 200,000 kWh\n",
    "plt.ylim(0, 200000)\n",
    "\n",
    "# Adjust layout and save\n",
    "plt.tight_layout()\n",
    "plt.savefig('power_generation_relative_change.png', dpi=300, bbox_inches='tight')\n",
    "plt.close()\n",
    "print(\"Chart saved as 'power_generation_relative_change.png'.\")"
   ]
  },
  {
   "cell_type": "code",
   "execution_count": null,
   "id": "8d5dffa7",
   "metadata": {},
   "outputs": [],
   "source": []
  },
  {
   "cell_type": "code",
   "execution_count": null,
   "id": "3de7bd16",
   "metadata": {},
   "outputs": [],
   "source": []
  },
  {
   "cell_type": "code",
   "execution_count": null,
   "id": "50577349",
   "metadata": {},
   "outputs": [],
   "source": []
  },
  {
   "cell_type": "code",
   "execution_count": null,
   "id": "3f37ba43",
   "metadata": {},
   "outputs": [],
   "source": []
  }
 ],
 "metadata": {
  "kernelspec": {
   "display_name": "code_paper",
   "language": "python",
   "name": "python3"
  },
  "language_info": {
   "codemirror_mode": {
    "name": "ipython",
    "version": 3
   },
   "file_extension": ".py",
   "mimetype": "text/x-python",
   "name": "python",
   "nbconvert_exporter": "python",
   "pygments_lexer": "ipython3",
   "version": "3.13.2"
  }
 },
 "nbformat": 4,
 "nbformat_minor": 5
}
