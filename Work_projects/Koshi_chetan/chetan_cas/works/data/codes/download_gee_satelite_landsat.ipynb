{
 "cells": [
  {
   "cell_type": "code",
   "execution_count": 24,
   "id": "33b14af7",
   "metadata": {},
   "outputs": [
    {
     "data": {
      "text/html": [
       "\n",
       "            <style>\n",
       "                .geemap-dark {\n",
       "                    --jp-widgets-color: white;\n",
       "                    --jp-widgets-label-color: white;\n",
       "                    --jp-ui-font-color1: white;\n",
       "                    --jp-layout-color2: #454545;\n",
       "                    background-color: #383838;\n",
       "                }\n",
       "\n",
       "                .geemap-dark .jupyter-button {\n",
       "                    --jp-layout-color3: #383838;\n",
       "                }\n",
       "\n",
       "                .geemap-colab {\n",
       "                    background-color: var(--colab-primary-surface-color, white);\n",
       "                }\n",
       "\n",
       "                .geemap-colab .jupyter-button {\n",
       "                    --jp-layout-color3: var(--colab-primary-surface-color, white);\n",
       "                }\n",
       "            </style>\n",
       "            "
      ],
      "text/plain": [
       "<IPython.core.display.HTML object>"
      ]
     },
     "metadata": {},
     "output_type": "display_data"
    }
   ],
   "source": [
    "import geopandas as gpd\n",
    "import pandas as pd\n",
    "import numpy as np\n",
    "import os\n",
    "import matplotlib.pyplot as plt\n",
    "\n",
    "import geemap\n",
    "import ee"
   ]
  },
  {
   "cell_type": "code",
   "execution_count": 25,
   "id": "2cbd6b9c",
   "metadata": {},
   "outputs": [
    {
     "data": {
      "text/html": [
       "\n",
       "            <style>\n",
       "                .geemap-dark {\n",
       "                    --jp-widgets-color: white;\n",
       "                    --jp-widgets-label-color: white;\n",
       "                    --jp-ui-font-color1: white;\n",
       "                    --jp-layout-color2: #454545;\n",
       "                    background-color: #383838;\n",
       "                }\n",
       "\n",
       "                .geemap-dark .jupyter-button {\n",
       "                    --jp-layout-color3: #383838;\n",
       "                }\n",
       "\n",
       "                .geemap-colab {\n",
       "                    background-color: var(--colab-primary-surface-color, white);\n",
       "                }\n",
       "\n",
       "                .geemap-colab .jupyter-button {\n",
       "                    --jp-layout-color3: var(--colab-primary-surface-color, white);\n",
       "                }\n",
       "            </style>\n",
       "            "
      ],
      "text/plain": [
       "<IPython.core.display.HTML object>"
      ]
     },
     "metadata": {},
     "output_type": "display_data"
    }
   ],
   "source": [
    "ee.Authenticate()\n",
    "ee.Initialize(project='twoearthengineproject')"
   ]
  },
  {
   "cell_type": "code",
   "execution_count": 29,
   "id": "f1f15c2b",
   "metadata": {},
   "outputs": [
    {
     "data": {
      "text/html": [
       "\n",
       "            <style>\n",
       "                .geemap-dark {\n",
       "                    --jp-widgets-color: white;\n",
       "                    --jp-widgets-label-color: white;\n",
       "                    --jp-ui-font-color1: white;\n",
       "                    --jp-layout-color2: #454545;\n",
       "                    background-color: #383838;\n",
       "                }\n",
       "\n",
       "                .geemap-dark .jupyter-button {\n",
       "                    --jp-layout-color3: #383838;\n",
       "                }\n",
       "\n",
       "                .geemap-colab {\n",
       "                    background-color: var(--colab-primary-surface-color, white);\n",
       "                }\n",
       "\n",
       "                .geemap-colab .jupyter-button {\n",
       "                    --jp-layout-color3: var(--colab-primary-surface-color, white);\n",
       "                }\n",
       "            </style>\n",
       "            "
      ],
      "text/plain": [
       "<IPython.core.display.HTML object>"
      ]
     },
     "metadata": {},
     "output_type": "display_data"
    },
    {
     "data": {
      "application/vnd.jupyter.widget-view+json": {
       "model_id": "c5bf47ad6f8a47ec8cde2b5b49d3d5c0",
       "version_major": 2,
       "version_minor": 0
      },
      "text/plain": [
       "Map(center=[27.459741378291714, 86.82980172772386], controls=(WidgetControl(options=['position', 'transparent_…"
      ]
     },
     "execution_count": 29,
     "metadata": {},
     "output_type": "execute_result"
    }
   ],
   "source": [
    "# Load AOI shapefile\n",
    "physio_koshi = gpd.read_file(r\"G:\\learn\\python_works\\Work_projects\\Koshi_chetan\\chetan_cas\\works\\data\\gis\\koshi_basin_nepal\\koshi_nepal_basin.shp\")\n",
    "whole_koshi_basin = physio_koshi.dissolve()\n",
    "ee_physio_koshi = ee.FeatureCollection(geemap.geopandas_to_ee(whole_koshi_basin))\n",
    "\n",
    "# Load Landsat collections\n",
    "l4 = ee.ImageCollection(\"LANDSAT/LT04/C02/T1_L2\")\n",
    "l5 = ee.ImageCollection(\"LANDSAT/LT05/C02/T1_L2\")\n",
    "l7 = ee.ImageCollection(\"LANDSAT/LE07/C02/T1_L2\")\n",
    "l8 = ee.ImageCollection(\"LANDSAT/LC08/C02/T1_L2\")\n",
    "l9 = ee.ImageCollection(\"LANDSAT/LC09/C02/T1_L2\")\n",
    "\n",
    "# Cloud masking functions\n",
    "def mask_tm(image):\n",
    "    qa = image.select('QA_PIXEL')\n",
    "    mask = qa.bitwiseAnd(1 << 3).eq(0).And(qa.bitwiseAnd(1 << 4).eq(0))\n",
    "    return image.updateMask(mask).multiply(0.0000275).add(-0.2)\n",
    "\n",
    "def mask_oli(image):\n",
    "    qa = image.select('QA_PIXEL')\n",
    "    mask = qa.bitwiseAnd(1 << 3).eq(0).And(qa.bitwiseAnd(1 << 4).eq(0))\n",
    "    return image.updateMask(mask).multiply(0.0000275).add(-0.2)\n",
    "\n",
    "# Composite function\n",
    "def get_composite(year):\n",
    "    start = ee.Date.fromYMD(year, 1, 1)\n",
    "    end = ee.Date.fromYMD(year, 12, 31)\n",
    "\n",
    "    if year < 2013:\n",
    "        col = (l4.filterBounds(ee_physio_koshi).filterDate(start, end).map(mask_tm)\n",
    "               .merge(l5.filterBounds(ee_physio_koshi).filterDate(start, end).map(mask_tm))\n",
    "               .merge(l7.filterBounds(ee_physio_koshi).filterDate(start, end).map(mask_tm)))\n",
    "    else:\n",
    "        col = (l8.filterBounds(ee_physio_koshi).filterDate(start, end).map(mask_oli)\n",
    "               .merge(l9.filterBounds(ee_physio_koshi).filterDate(start, end).map(mask_oli)))\n",
    "\n",
    "    # Mosaic fills in all available pixels\n",
    "    return col.mosaic().clip(ee_physio_koshi)\n",
    "\n",
    "# Years to process\n",
    "years = [1990, 2000, 2010, 2020, 2024]\n",
    "\n",
    "# Create map\n",
    "Map = geemap.Map()\n",
    "Map.centerObject(ee_physio_koshi, 7)\n",
    "\n",
    "for y in years:\n",
    "    img = get_composite(y)\n",
    "    \n",
    "    # Add layer for visualization\n",
    "    if y < 2013:\n",
    "        vis_params = {'bands': ['SR_B5', 'SR_B4', 'SR_B3'], 'min': 0, 'max': 0.3}\n",
    "    else:\n",
    "        vis_params = {'bands': ['SR_B6', 'SR_B5', 'SR_B4'], 'min': 0, 'max': 0.3}\n",
    "    Map.addLayer(img, vis_params, f\"Landsat_{y}\")\n",
    "\n",
    "    # Export all bands\n",
    "    task = ee.batch.Export.image.toDrive(\n",
    "        image=img,\n",
    "        description=f\"Landsat_{y}_FullYear\",\n",
    "        folder=\"GEE_Landsat\",\n",
    "        fileNamePrefix=f\"landsat_{y}_full\",\n",
    "        region=ee_physio_koshi.geometry(),\n",
    "        scale=30,\n",
    "        maxPixels=1e13\n",
    "    )\n",
    "    task.start()\n",
    "\n",
    "Map"
   ]
  },
  {
   "cell_type": "code",
   "execution_count": 23,
   "metadata": {},
   "outputs": [
    {
     "data": {
      "text/html": [
       "\n",
       "            <style>\n",
       "                .geemap-dark {\n",
       "                    --jp-widgets-color: white;\n",
       "                    --jp-widgets-label-color: white;\n",
       "                    --jp-ui-font-color1: white;\n",
       "                    --jp-layout-color2: #454545;\n",
       "                    background-color: #383838;\n",
       "                }\n",
       "\n",
       "                .geemap-dark .jupyter-button {\n",
       "                    --jp-layout-color3: #383838;\n",
       "                }\n",
       "\n",
       "                .geemap-colab {\n",
       "                    background-color: var(--colab-primary-surface-color, white);\n",
       "                }\n",
       "\n",
       "                .geemap-colab .jupyter-button {\n",
       "                    --jp-layout-color3: var(--colab-primary-surface-color, white);\n",
       "                }\n",
       "            </style>\n",
       "            "
      ],
      "text/plain": [
       "<IPython.core.display.HTML object>"
      ]
     },
     "metadata": {},
     "output_type": "display_data"
    },
    {
     "data": {
      "application/vnd.jupyter.widget-view+json": {
       "model_id": "437c7b82a56542088278e2e1bb73751c",
       "version_major": 2,
       "version_minor": 0
      },
      "text/plain": [
       "Map(center=[27.459741378291714, 86.82980172772386], controls=(WidgetControl(options=['position', 'transparent_…"
      ]
     },
     "execution_count": 23,
     "metadata": {},
     "output_type": "execute_result"
    }
   ],
   "source": [
    "# Load WWF HydroSHEDS Free Flowing Rivers\n",
    "dataset = ee.FeatureCollection('WWF/HydroSHEDS/v1/FreeFlowingRivers')\n",
    "\n",
    "# Clip dataset to basin\n",
    "dataset_clipped = dataset.filterBounds(ee_physio_koshi)\n",
    "\n",
    "# Paint 'RIV_ORD' values\n",
    "# Filter only RIV_ORD == 5\n",
    "dataset_order5 = dataset_clipped.filter(ee.Filter.gte('RIV_ORD', 5))\n",
    "\n",
    "datasetVis = ee.Image().byte().paint(dataset_order5, 'RIV_ORD', 5)\n",
    "\n",
    "# Visualization parameters\n",
    "visParams = {\n",
    "    'min': 5,\n",
    "    'max': 10,\n",
    "    'palette': ['08519c', '3182bd', '6baed6', 'bdd7e7', 'eff3ff']\n",
    "}\n",
    "\n",
    "# Create geemap Map\n",
    "Map = geemap.Map()\n",
    "Map.centerObject(ee_physio_koshi, 8)\n",
    "\n",
    "# Add layers\n",
    "Map.addLayer(datasetVis, visParams, 'Free flowing rivers')\n",
    "Map.addLayer(dataset_clipped, {}, 'Rivers features', False)\n",
    "\n",
    "Map\n",
    "\n",
    "\n"
   ]
  },
  {
   "cell_type": "code",
   "execution_count": null,
   "id": "388daa1d",
   "metadata": {},
   "outputs": [],
   "source": [
    "'''# Export clipped rivers to Google Drive as Shapefile\n",
    "task = ee.batch.Export.table.toDrive(\n",
    "    collection=dataset_clipped,\n",
    "    description='FreeFlowingRivers_Koshi',\n",
    "    folder='GEE_channels_exports',\n",
    "    fileFormat='SHP'\n",
    ")\n",
    "task.start()\n",
    "print('Export started. Check Google Drive in the folder \"GEE_exports\" after completion.')'''"
   ]
  },
  {
   "cell_type": "code",
   "execution_count": 11,
   "id": "32a8d98a",
   "metadata": {},
   "outputs": [
    {
     "data": {
      "text/html": [
       "\n",
       "            <style>\n",
       "                .geemap-dark {\n",
       "                    --jp-widgets-color: white;\n",
       "                    --jp-widgets-label-color: white;\n",
       "                    --jp-ui-font-color1: white;\n",
       "                    --jp-layout-color2: #454545;\n",
       "                    background-color: #383838;\n",
       "                }\n",
       "\n",
       "                .geemap-dark .jupyter-button {\n",
       "                    --jp-layout-color3: #383838;\n",
       "                }\n",
       "\n",
       "                .geemap-colab {\n",
       "                    background-color: var(--colab-primary-surface-color, white);\n",
       "                }\n",
       "\n",
       "                .geemap-colab .jupyter-button {\n",
       "                    --jp-layout-color3: var(--colab-primary-surface-color, white);\n",
       "                }\n",
       "            </style>\n",
       "            "
      ],
      "text/plain": [
       "<IPython.core.display.HTML object>"
      ]
     },
     "metadata": {},
     "output_type": "display_data"
    },
    {
     "name": "stdout",
     "output_type": "stream",
     "text": [
      "Export started. Check your Google Drive folder 'EarthEngine_Exports' in a few minutes.\n"
     ]
    }
   ],
   "source": [
    "# Define export parameters\n",
    "task = ee.batch.Export.image.toDrive(\n",
    "    image=datasetVis.clip(ee_physio_koshi),\n",
    "    description='koshi_rivers_map',\n",
    "    folder='EarthEngine_Exports',   # Folder in Google Drive\n",
    "    fileNamePrefix='koshi_rivers',\n",
    "    region=ee_physio_koshi.geometry(),\n",
    "    scale=30,                       # Landsat-scale resolution\n",
    "    crs='EPSG:4326',\n",
    "    maxPixels=1e13\n",
    ")\n",
    "\n",
    "# Start the export task\n",
    "task.start()\n",
    "\n",
    "print(\"Export started. Check your Google Drive folder 'EarthEngine_Exports' in a few minutes.\")\n"
   ]
  },
  {
   "cell_type": "code",
   "execution_count": 16,
   "id": "da06fea0",
   "metadata": {},
   "outputs": [
    {
     "data": {
      "text/html": [
       "\n",
       "            <style>\n",
       "                .geemap-dark {\n",
       "                    --jp-widgets-color: white;\n",
       "                    --jp-widgets-label-color: white;\n",
       "                    --jp-ui-font-color1: white;\n",
       "                    --jp-layout-color2: #454545;\n",
       "                    background-color: #383838;\n",
       "                }\n",
       "\n",
       "                .geemap-dark .jupyter-button {\n",
       "                    --jp-layout-color3: #383838;\n",
       "                }\n",
       "\n",
       "                .geemap-colab {\n",
       "                    background-color: var(--colab-primary-surface-color, white);\n",
       "                }\n",
       "\n",
       "                .geemap-colab .jupyter-button {\n",
       "                    --jp-layout-color3: var(--colab-primary-surface-color, white);\n",
       "                }\n",
       "            </style>\n",
       "            "
      ],
      "text/plain": [
       "<IPython.core.display.HTML object>"
      ]
     },
     "metadata": {},
     "output_type": "display_data"
    },
    {
     "name": "stdout",
     "output_type": "stream",
     "text": [
      "Processing year 1990...\n",
      "Exporting koshi_rivers_1990... Please check the Task Manager from the JavaScript Code Editor.\n",
      "Export task for 1990 started. Check Google Drive after completion.\n",
      "Processing year 2000...\n",
      "Exporting koshi_rivers_2000... Please check the Task Manager from the JavaScript Code Editor.\n",
      "Export task for 2000 started. Check Google Drive after completion.\n",
      "Processing year 2010...\n",
      "Exporting koshi_rivers_2010... Please check the Task Manager from the JavaScript Code Editor.\n",
      "Export task for 2010 started. Check Google Drive after completion.\n",
      "Processing year 2020...\n",
      "Exporting koshi_rivers_2020... Please check the Task Manager from the JavaScript Code Editor.\n",
      "Export task for 2020 started. Check Google Drive after completion.\n",
      "Processing year 2024...\n",
      "Exporting koshi_rivers_2024... Please check the Task Manager from the JavaScript Code Editor.\n",
      "Export task for 2024 started. Check Google Drive after completion.\n",
      "All export tasks submitted to Earth Engine.\n"
     ]
    }
   ],
   "source": [
    "import ee\n",
    "import geemap\n",
    "import geopandas as gpd\n",
    "\n",
    "# Initialize Earth Engine\n",
    "ee.Authenticate()\n",
    "ee.Initialize(project='twoearthengineproject')\n",
    "\n",
    "# 1. Load Koshi Basin boundary\n",
    "physio_koshi = gpd.read_file(\n",
    "    r\"G:\\learn\\python_works\\Work_projects\\Koshi_chetan\\chetan_cas\\works\\data\\gis\\koshi_basin_nepal\\koshi_nepal_basin.shp\"\n",
    ")\n",
    "whole_koshi_basin = physio_koshi.dissolve()\n",
    "ee_physio_koshi = ee.FeatureCollection(geemap.geopandas_to_ee(whole_koshi_basin))\n",
    "\n",
    "# 2. Function to mask clouds for Landsat Collection 2 Level 2\n",
    "def maskLandsatL2(image):\n",
    "    qaPixel = image.select('QA_PIXEL')\n",
    "    cloudShadowBitMask = 1 << 3\n",
    "    cloudsBitMask = 1 << 4\n",
    "    mask = qaPixel.bitwiseAnd(cloudShadowBitMask).eq(0).And(\n",
    "           qaPixel.bitwiseAnd(cloudsBitMask).eq(0))\n",
    "    return image.updateMask(mask)\n",
    "\n",
    "# 3. Function to compute NDWI\n",
    "def calc_ndwi(image, green_band, nir_band):\n",
    "    ndwi = image.normalizedDifference([green_band, nir_band]).rename('NDWI')\n",
    "    return image.addBands(ndwi)\n",
    "\n",
    "# 4. Function to process one year\n",
    "def process_year(year):\n",
    "    if year < 2013:\n",
    "        # Landsat 5\n",
    "        collection = ee.ImageCollection(\"LANDSAT/LT05/C02/T1_L2\") \\\n",
    "            .filterBounds(ee_physio_koshi) \\\n",
    "            .filterDate(f\"{year}-10-01\", f\"{year}-11-30\") \\\n",
    "            .filter(ee.Filter.lt(\"CLOUD_COVER\", 5)) \\\n",
    "            .map(maskLandsatL2) \\\n",
    "            .map(lambda img: calc_ndwi(img, 'SR_B2', 'SR_B4'))\n",
    "    else:\n",
    "        # Landsat 8 & 9\n",
    "        collection = (ee.ImageCollection(\"LANDSAT/LC08/C02/T1_L2\")\n",
    "                      .merge(ee.ImageCollection(\"LANDSAT/LC09/C02/T1_L2\"))) \\\n",
    "            .filterBounds(ee_physio_koshi) \\\n",
    "            .filterDate(f\"{year}-10-01\", f\"{year}-11-30\") \\\n",
    "            .filter(ee.Filter.lt(\"CLOUD_COVER\", 5)) \\\n",
    "            .map(maskLandsatL2) \\\n",
    "            .map(lambda img: calc_ndwi(img, 'SR_B3', 'SR_B5'))\n",
    "\n",
    "    # Mosaic for the season\n",
    "    mosaic = collection.median().clip(ee_physio_koshi)\n",
    "    \n",
    "    # Threshold NDWI\n",
    "    water_mask = mosaic.select('NDWI').gt(0).selfMask()\n",
    "\n",
    "    # Convert raster to vector polygons\n",
    "    vectors = water_mask.reduceToVectors(\n",
    "        geometry=ee_physio_koshi.geometry(),\n",
    "        scale=30,\n",
    "        geometryType='polygon',\n",
    "        eightConnected=False,\n",
    "        labelProperty='class',\n",
    "        bestEffort=True,\n",
    "        maxPixels=1e13\n",
    "    )\n",
    "    return vectors\n",
    "\n",
    "# 5. Years to process\n",
    "years = [1990, 2000, 2010, 2020, 2024]\n",
    "\n",
    "# 6. Loop over years, export to Google Drive\n",
    "for year in years:\n",
    "    print(f\"Processing year {year}...\")\n",
    "    river_polygons = process_year(year)\n",
    "    \n",
    "    geemap.ee_export_vector_to_drive(\n",
    "        river_polygons,\n",
    "        description=f\"koshi_rivers_{year}\",\n",
    "        folder=\"GEE_exports2\",\n",
    "        fileFormat=\"SHP\"\n",
    "    )\n",
    "    print(f\"Export task for {year} started. Check Google Drive after completion.\")\n",
    "\n",
    "print(\"All export tasks submitted to Earth Engine.\")\n"
   ]
  },
  {
   "cell_type": "code",
   "execution_count": null,
   "metadata": {},
   "outputs": [],
   "source": []
  }
 ],
 "metadata": {
  "kernelspec": {
   "display_name": "code_paper",
   "language": "python",
   "name": "python3"
  },
  "language_info": {
   "codemirror_mode": {
    "name": "ipython",
    "version": 3
   },
   "file_extension": ".py",
   "mimetype": "text/x-python",
   "name": "python",
   "nbconvert_exporter": "python",
   "pygments_lexer": "ipython3",
   "version": "3.13.2"
  }
 },
 "nbformat": 4,
 "nbformat_minor": 5
}
