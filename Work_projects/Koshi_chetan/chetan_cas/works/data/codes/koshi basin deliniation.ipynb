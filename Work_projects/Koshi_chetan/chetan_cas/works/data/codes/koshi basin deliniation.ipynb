{
 "cells": [
  {
   "cell_type": "code",
   "execution_count": 25,
   "id": "80c2ce68",
   "metadata": {},
   "outputs": [
    {
     "data": {
      "text/html": [
       "\n",
       "            <style>\n",
       "                .geemap-dark {\n",
       "                    --jp-widgets-color: white;\n",
       "                    --jp-widgets-label-color: white;\n",
       "                    --jp-ui-font-color1: white;\n",
       "                    --jp-layout-color2: #454545;\n",
       "                    background-color: #383838;\n",
       "                }\n",
       "\n",
       "                .geemap-dark .jupyter-button {\n",
       "                    --jp-layout-color3: #383838;\n",
       "                }\n",
       "\n",
       "                .geemap-colab {\n",
       "                    background-color: var(--colab-primary-surface-color, white);\n",
       "                }\n",
       "\n",
       "                .geemap-colab .jupyter-button {\n",
       "                    --jp-layout-color3: var(--colab-primary-surface-color, white);\n",
       "                }\n",
       "            </style>\n",
       "            "
      ],
      "text/plain": [
       "<IPython.core.display.HTML object>"
      ]
     },
     "metadata": {},
     "output_type": "display_data"
    }
   ],
   "source": [
    "import geopandas as gpd\n",
    "import pandas as pd\n",
    "import numpy as np\n",
    "import os\n",
    "import matplotlib.pyplot as plt\n",
    "\n",
    "import geemap\n",
    "import ee\n",
    "import folium\n",
    "\n",
    "ee.Authenticate()\n",
    "ee.Initialize(project='twoearthengineproject')\n"
   ]
  },
  {
   "cell_type": "code",
   "execution_count": 2,
   "id": "0cfe410a",
   "metadata": {},
   "outputs": [
    {
     "data": {
      "text/html": [
       "\n",
       "            <style>\n",
       "                .geemap-dark {\n",
       "                    --jp-widgets-color: white;\n",
       "                    --jp-widgets-label-color: white;\n",
       "                    --jp-ui-font-color1: white;\n",
       "                    --jp-layout-color2: #454545;\n",
       "                    background-color: #383838;\n",
       "                }\n",
       "\n",
       "                .geemap-dark .jupyter-button {\n",
       "                    --jp-layout-color3: #383838;\n",
       "                }\n",
       "\n",
       "                .geemap-colab {\n",
       "                    background-color: var(--colab-primary-surface-color, white);\n",
       "                }\n",
       "\n",
       "                .geemap-colab .jupyter-button {\n",
       "                    --jp-layout-color3: var(--colab-primary-surface-color, white);\n",
       "                }\n",
       "            </style>\n",
       "            "
      ],
      "text/plain": [
       "<IPython.core.display.HTML object>"
      ]
     },
     "metadata": {},
     "output_type": "display_data"
    }
   ],
   "source": [
    "physio_koshi = gpd.read_file(r\"G:\\learn\\python_works\\Work_projects\\Koshi_chetan\\chetan_cas\\works\\data\\gis\\koshi_basin_nepal\\koshi_nepal_basin.shp\")\n",
    "whole_koshi_basin = physio_koshi.dissolve()\n",
    "ee_physio_koshi = ee.FeatureCollection(geemap.geopandas_to_ee(whole_koshi_basin))"
   ]
  },
  {
   "cell_type": "code",
   "execution_count": 3,
   "id": "7b708f38",
   "metadata": {},
   "outputs": [
    {
     "data": {
      "text/html": [
       "\n",
       "            <style>\n",
       "                .geemap-dark {\n",
       "                    --jp-widgets-color: white;\n",
       "                    --jp-widgets-label-color: white;\n",
       "                    --jp-ui-font-color1: white;\n",
       "                    --jp-layout-color2: #454545;\n",
       "                    background-color: #383838;\n",
       "                }\n",
       "\n",
       "                .geemap-dark .jupyter-button {\n",
       "                    --jp-layout-color3: #383838;\n",
       "                }\n",
       "\n",
       "                .geemap-colab {\n",
       "                    background-color: var(--colab-primary-surface-color, white);\n",
       "                }\n",
       "\n",
       "                .geemap-colab .jupyter-button {\n",
       "                    --jp-layout-color3: var(--colab-primary-surface-color, white);\n",
       "                }\n",
       "            </style>\n",
       "            "
      ],
      "text/plain": [
       "<IPython.core.display.HTML object>"
      ]
     },
     "metadata": {},
     "output_type": "display_data"
    }
   ],
   "source": [
    "# The basin data is already in vector format\n",
    "basinATLAS = ee.FeatureCollection('WWF/HydroATLAS/v1/Basins/level07')\n",
    "\n",
    "kosi_region = ee_physio_koshi # Assuming this is a defined ee.Geometry\n",
    "\n",
    "# Simply clip the vector collection directly to your region of interest\n",
    "koshi_basins = basinATLAS.filterBounds(kosi_region)\n",
    "\n"
   ]
  },
  {
   "cell_type": "code",
   "execution_count": 9,
   "id": "49615b72",
   "metadata": {},
   "outputs": [
    {
     "data": {
      "text/html": [
       "\n",
       "            <style>\n",
       "                .geemap-dark {\n",
       "                    --jp-widgets-color: white;\n",
       "                    --jp-widgets-label-color: white;\n",
       "                    --jp-ui-font-color1: white;\n",
       "                    --jp-layout-color2: #454545;\n",
       "                    background-color: #383838;\n",
       "                }\n",
       "\n",
       "                .geemap-dark .jupyter-button {\n",
       "                    --jp-layout-color3: #383838;\n",
       "                }\n",
       "\n",
       "                .geemap-colab {\n",
       "                    background-color: var(--colab-primary-surface-color, white);\n",
       "                }\n",
       "\n",
       "                .geemap-colab .jupyter-button {\n",
       "                    --jp-layout-color3: var(--colab-primary-surface-color, white);\n",
       "                }\n",
       "            </style>\n",
       "            "
      ],
      "text/plain": [
       "<IPython.core.display.HTML object>"
      ]
     },
     "metadata": {},
     "output_type": "display_data"
    },
    {
     "name": "stdout",
     "output_type": "stream",
     "text": [
      "ROI coordinates: {'type': 'Polygon', 'coordinates': [[[85, 26], [88.5, 26], [88.5, 29.5], [85, 29.5], [85, 26]]]}\n"
     ]
    }
   ],
   "source": [
    "# Large rectangle covering Koshi Basin region (approximate bounding box)\n",
    "roi = ee.Geometry.Rectangle([85.0, 26.0, 88.5, 29.5])\n",
    "\n",
    "# Print and visualize in Earth Engine\n",
    "print(\"ROI coordinates:\", roi.getInfo())"
   ]
  },
  {
   "cell_type": "code",
   "execution_count": 26,
   "id": "099cf697",
   "metadata": {},
   "outputs": [
    {
     "data": {
      "text/html": [
       "\n",
       "            <style>\n",
       "                .geemap-dark {\n",
       "                    --jp-widgets-color: white;\n",
       "                    --jp-widgets-label-color: white;\n",
       "                    --jp-ui-font-color1: white;\n",
       "                    --jp-layout-color2: #454545;\n",
       "                    background-color: #383838;\n",
       "                }\n",
       "\n",
       "                .geemap-dark .jupyter-button {\n",
       "                    --jp-layout-color3: #383838;\n",
       "                }\n",
       "\n",
       "                .geemap-colab {\n",
       "                    background-color: var(--colab-primary-surface-color, white);\n",
       "                }\n",
       "\n",
       "                .geemap-colab .jupyter-button {\n",
       "                    --jp-layout-color3: var(--colab-primary-surface-color, white);\n",
       "                }\n",
       "            </style>\n",
       "            "
      ],
      "text/plain": [
       "<IPython.core.display.HTML object>"
      ]
     },
     "metadata": {},
     "output_type": "display_data"
    },
    {
     "ename": "TypeError",
     "evalue": "Collection.style() got an unexpected keyword argument 'opacity'",
     "output_type": "error",
     "traceback": [
      "\u001b[31m---------------------------------------------------------------------------\u001b[39m",
      "\u001b[31mTypeError\u001b[39m                                 Traceback (most recent call last)",
      "\u001b[36mCell\u001b[39m\u001b[36m \u001b[39m\u001b[32mIn[26]\u001b[39m\u001b[32m, line 93\u001b[39m\n\u001b[32m     90\u001b[39m m.add_ee_layer(dem, {\u001b[33m'\u001b[39m\u001b[33mmin\u001b[39m\u001b[33m'\u001b[39m:\u001b[32m0\u001b[39m, \u001b[33m'\u001b[39m\u001b[33mmax\u001b[39m\u001b[33m'\u001b[39m:\u001b[32m4000\u001b[39m, \u001b[33m'\u001b[39m\u001b[33mpalette\u001b[39m\u001b[33m'\u001b[39m:[\u001b[33m'\u001b[39m\u001b[33mblue\u001b[39m\u001b[33m'\u001b[39m,\u001b[33m'\u001b[39m\u001b[33mgreen\u001b[39m\u001b[33m'\u001b[39m,\u001b[33m'\u001b[39m\u001b[33mbrown\u001b[39m\u001b[33m'\u001b[39m,\u001b[33m'\u001b[39m\u001b[33mwhite\u001b[39m\u001b[33m'\u001b[39m]}, \u001b[33m'\u001b[39m\u001b[33mDEM\u001b[39m\u001b[33m'\u001b[39m)\n\u001b[32m     92\u001b[39m \u001b[38;5;66;03m# Upstream basins\u001b[39;00m\n\u001b[32m---> \u001b[39m\u001b[32m93\u001b[39m \u001b[43mm\u001b[49m\u001b[43m.\u001b[49m\u001b[43madd_ee_layer\u001b[49m\u001b[43m(\u001b[49m\u001b[43mall_upstream_basins\u001b[49m\u001b[43m,\u001b[49m\u001b[43m \u001b[49m\u001b[43m{\u001b[49m\u001b[33;43m'\u001b[39;49m\u001b[33;43mcolor\u001b[39;49m\u001b[33;43m'\u001b[39;49m\u001b[43m:\u001b[49m\u001b[33;43m'\u001b[39;49m\u001b[33;43mblue\u001b[39;49m\u001b[33;43m'\u001b[39;49m\u001b[43m,\u001b[49m\u001b[43m \u001b[49m\u001b[33;43m'\u001b[39;49m\u001b[33;43mfillColor\u001b[39;49m\u001b[33;43m'\u001b[39;49m\u001b[43m:\u001b[49m\u001b[33;43m'\u001b[39;49m\u001b[33;43m00000000\u001b[39;49m\u001b[33;43m'\u001b[39;49m\u001b[43m,\u001b[49m\u001b[43m \u001b[49m\u001b[33;43m'\u001b[39;49m\u001b[33;43mwidth\u001b[39;49m\u001b[33;43m'\u001b[39;49m\u001b[43m:\u001b[49m\u001b[32;43m2\u001b[39;49m\u001b[43m}\u001b[49m\u001b[43m,\u001b[49m\u001b[43m \u001b[49m\u001b[33;43m'\u001b[39;49m\u001b[33;43mUpstream Basins\u001b[39;49m\u001b[33;43m'\u001b[39;49m\u001b[43m)\u001b[49m\n\u001b[32m     95\u001b[39m \u001b[38;5;66;03m# Points\u001b[39;00m\n\u001b[32m     96\u001b[39m \u001b[38;5;28;01mfor\u001b[39;00m lon, lat \u001b[38;5;129;01min\u001b[39;00m coords:\n",
      "\u001b[36mCell\u001b[39m\u001b[36m \u001b[39m\u001b[32mIn[26]\u001b[39m\u001b[32m, line 74\u001b[39m, in \u001b[36madd_ee_layer\u001b[39m\u001b[34m(self, ee_object, vis_params, name)\u001b[39m\n\u001b[32m     72\u001b[39m vis_params_fc = vis_params.copy()\n\u001b[32m     73\u001b[39m vis_params_fc.update({\u001b[33m'\u001b[39m\u001b[33mopacity\u001b[39m\u001b[33m'\u001b[39m: \u001b[32m1\u001b[39m})\n\u001b[32m---> \u001b[39m\u001b[32m74\u001b[39m map_id_dict = \u001b[43mee_object\u001b[49m\u001b[43m.\u001b[49m\u001b[43mstyle\u001b[49m\u001b[43m(\u001b[49m\u001b[43m*\u001b[49m\u001b[43m*\u001b[49m\u001b[43mvis_params_fc\u001b[49m\u001b[43m)\u001b[49m.getMapId({})\n\u001b[32m     75\u001b[39m folium.raster_layers.TileLayer(\n\u001b[32m     76\u001b[39m     tiles=map_id_dict[\u001b[33m'\u001b[39m\u001b[33mtile_fetcher\u001b[39m\u001b[33m'\u001b[39m].url_format,\n\u001b[32m     77\u001b[39m     attr=\u001b[33m'\u001b[39m\u001b[33mGoogle Earth Engine\u001b[39m\u001b[33m'\u001b[39m,\n\u001b[32m   (...)\u001b[39m\u001b[32m     80\u001b[39m     control=\u001b[38;5;28;01mTrue\u001b[39;00m\n\u001b[32m     81\u001b[39m ).add_to(\u001b[38;5;28mself\u001b[39m)\n",
      "\u001b[31mTypeError\u001b[39m: Collection.style() got an unexpected keyword argument 'opacity'"
     ]
    }
   ],
   "source": [
    "\n",
    "# ---- INPUT: Multiple pour point coordinates ----\n",
    "coords = [\n",
    "    [86.93058173849101, 26.533420103187844],\n",
    "    [86.92509230931958, 26.53203826401275],\n",
    "    [86.93504866918286, 26.526969919337223],\n",
    "    [86.92629393895825, 26.533266919922816]\n",
    "]\n",
    "\n",
    "# Create FeatureCollection of points with IDs\n",
    "points = ee.FeatureCollection([\n",
    "    ee.Feature(ee.Geometry.Point(lon, lat), {'id': idx+1})\n",
    "    for idx, (lon, lat) in enumerate(coords)\n",
    "])\n",
    "\n",
    "# Load HydroATLAS Level 12 basins\n",
    "basins = ee.FeatureCollection('WWF/HydroATLAS/v1/Basins/level12')\n",
    "\n",
    "# Function to find all upstream basins for a given HYBAS_ID\n",
    "def find_upstream(all_basins, start_id):\n",
    "    ids_to_check = ee.List([start_id])\n",
    "    all_ids = ee.List([start_id])\n",
    "\n",
    "    def loop_function(_, loop_data):\n",
    "        loop_data = ee.Dictionary(loop_data)\n",
    "        ids_to_check = ee.List(loop_data.get('ids_to_check'))\n",
    "        all_ids = ee.List(loop_data.get('all_ids'))\n",
    "\n",
    "        upstream = all_basins.filter(ee.Filter.inList('NEXT_DOWN', ids_to_check))\n",
    "        new_ids = upstream.aggregate_array('HYBAS_ID').distinct().removeAll(all_ids)\n",
    "\n",
    "        return ee.Dictionary({\n",
    "            'ids_to_check': new_ids,\n",
    "            'all_ids': all_ids.cat(new_ids)\n",
    "        })\n",
    "\n",
    "    result = ee.Dictionary(ee.List.sequence(0, 50).iterate(loop_function, {\n",
    "        'ids_to_check': ids_to_check,\n",
    "        'all_ids': all_ids\n",
    "    }))\n",
    "\n",
    "    return all_basins.filter(ee.Filter.inList('HYBAS_ID', result.get('all_ids')))\n",
    "\n",
    "# Map over points to get upstream basins for each\n",
    "def process_point(feature):\n",
    "    start_basin = basins.filterBounds(feature.geometry()).first()\n",
    "    start_id = start_basin.getNumber('HYBAS_ID')\n",
    "    upstream = find_upstream(basins, start_id)\n",
    "    return upstream\n",
    "\n",
    "# Merge all upstream basins from all points\n",
    "all_upstream_basins = ee.FeatureCollection(\n",
    "    ee.List(points.aggregate_array('id')).iterate(\n",
    "        lambda pid, acc: ee.FeatureCollection(acc).merge(\n",
    "            process_point(points.filter(ee.Filter.eq('id', pid)).first())\n",
    "        ),\n",
    "        ee.FeatureCollection([])\n",
    "    )\n",
    ").distinct('HYBAS_ID')\n",
    "\n",
    "# ---- Visualization in Folium ---- #\n",
    "def add_ee_layer(self, ee_object, vis_params, name):\n",
    "    if isinstance(ee_object, ee.Image):\n",
    "        map_id_dict = ee_object.getMapId(vis_params)\n",
    "        folium.raster_layers.TileLayer(\n",
    "            tiles=map_id_dict['tile_fetcher'].url_format,\n",
    "            attr='Google Earth Engine',\n",
    "            name=name,\n",
    "            overlay=True,\n",
    "            control=True\n",
    "        ).add_to(self)\n",
    "    elif isinstance(ee_object, ee.FeatureCollection):\n",
    "        vis_params_fc = vis_params.copy()\n",
    "        vis_params_fc.update({'opacity': 1})\n",
    "        map_id_dict = ee_object.style(**vis_params_fc).getMapId({})\n",
    "        folium.raster_layers.TileLayer(\n",
    "            tiles=map_id_dict['tile_fetcher'].url_format,\n",
    "            attr='Google Earth Engine',\n",
    "            name=name,\n",
    "            overlay=True,\n",
    "            control=True\n",
    "        ).add_to(self)\n",
    "\n",
    "folium.Map.add_ee_layer = add_ee_layer\n",
    "\n",
    "# Create base map\n",
    "m = folium.Map(location=[26.5334, 86.9305], zoom_start=12)\n",
    "\n",
    "# DEM background\n",
    "dem = ee.Image('NASA/NASADEM_HGT/001').select('elevation')\n",
    "m.add_ee_layer(dem, {'min':0, 'max':4000, 'palette':['blue','green','brown','white']}, 'DEM')\n",
    "\n",
    "# Upstream basins\n",
    "m.add_ee_layer(all_upstream_basins, {'color':'blue', 'fillColor':'00000000', 'width':2}, 'Upstream Basins')\n",
    "\n",
    "# Points\n",
    "for lon, lat in coords:\n",
    "    folium.Marker([lat, lon], icon=folium.Icon(color='red')).add_to(m)\n",
    "\n",
    "folium.LayerControl().add_to(m)\n",
    "m.save(\"multi_upstream_basins.html\")\n",
    "print(\"Map saved to multi_upstream_basins.html\")\n",
    "\n",
    "# ---- OPTIONAL: Export as Shapefile ---- #\n",
    "task = ee.batch.Export.table.toDrive(\n",
    "    collection=all_upstream_basins,\n",
    "    description='multi_upstream_basins_shp',\n",
    "    folder='EarthEngine_Exports',\n",
    "    fileFormat='SHP'\n",
    ")\n",
    "task.start()\n",
    "print(\"Shapefile export started — check Google Drive > EarthEngine_Exports when done.\")\n"
   ]
  },
  {
   "cell_type": "code",
   "execution_count": null,
   "id": "d9a20755",
   "metadata": {},
   "outputs": [],
   "source": []
  },
  {
   "cell_type": "code",
   "execution_count": 22,
   "id": "e589bd1a",
   "metadata": {},
   "outputs": [
    {
     "data": {
      "text/html": [
       "\n",
       "            <style>\n",
       "                .geemap-dark {\n",
       "                    --jp-widgets-color: white;\n",
       "                    --jp-widgets-label-color: white;\n",
       "                    --jp-ui-font-color1: white;\n",
       "                    --jp-layout-color2: #454545;\n",
       "                    background-color: #383838;\n",
       "                }\n",
       "\n",
       "                .geemap-dark .jupyter-button {\n",
       "                    --jp-layout-color3: #383838;\n",
       "                }\n",
       "\n",
       "                .geemap-colab {\n",
       "                    background-color: var(--colab-primary-surface-color, white);\n",
       "                }\n",
       "\n",
       "                .geemap-colab .jupyter-button {\n",
       "                    --jp-layout-color3: var(--colab-primary-surface-color, white);\n",
       "                }\n",
       "            </style>\n",
       "            "
      ],
      "text/plain": [
       "<IPython.core.display.HTML object>"
      ]
     },
     "metadata": {},
     "output_type": "display_data"
    },
    {
     "name": "stdout",
     "output_type": "stream",
     "text": [
      "Export started. Check your Google Drive > EarthEngine_Exports folder when complete.\n"
     ]
    }
   ],
   "source": [
    "# Pour point coordinates (lon, lat)\n",
    "lon, lat = 86.93058173849101, 26.533420103187844\n",
    "point = ee.Geometry.Point([lon, lat])\n",
    "\n",
    "# Load HydroATLAS Level 12 basins\n",
    "basins = ee.FeatureCollection('WWF/HydroATLAS/v1/Basins/level12')\n",
    "\n",
    "# Find the starting basin\n",
    "start_basin = basins.filterBounds(point).first()\n",
    "start_id = start_basin.getNumber('HYBAS_ID')\n",
    "\n",
    "# Iterative upstream search function\n",
    "def find_upstream(all_basins, start_id):\n",
    "    ids_to_check = ee.List([start_id])\n",
    "    all_ids = ee.List([start_id])\n",
    "\n",
    "    def loop_function(_, loop_data):\n",
    "        loop_data = ee.Dictionary(loop_data)\n",
    "        ids_to_check = ee.List(loop_data.get('ids_to_check'))\n",
    "        all_ids = ee.List(loop_data.get('all_ids'))\n",
    "\n",
    "        upstream = all_basins.filter(ee.Filter.inList('NEXT_DOWN', ids_to_check))\n",
    "        new_ids = upstream.aggregate_array('HYBAS_ID').distinct().removeAll(all_ids)\n",
    "\n",
    "        return ee.Dictionary({\n",
    "            'ids_to_check': new_ids,\n",
    "            'all_ids': all_ids.cat(new_ids)\n",
    "        })\n",
    "\n",
    "    result = ee.Dictionary(ee.List.sequence(0, 50).iterate(loop_function, {\n",
    "        'ids_to_check': ids_to_check,\n",
    "        'all_ids': all_ids\n",
    "    }))\n",
    "\n",
    "    return all_basins.filter(ee.Filter.inList('HYBAS_ID', result.get('all_ids')))\n",
    "\n",
    "# Get all upstream basins\n",
    "all_upstream_basins = find_upstream(basins, start_id)\n",
    "\n",
    "# ---- Export as Shapefile to Google Drive ---- #\n",
    "task = ee.batch.Export.table.toDrive(\n",
    "    collection=all_upstream_basins,\n",
    "    description='upstream_basins_shapefile',\n",
    "    folder='EarthEngine_Exports',   # Google Drive folder name\n",
    "    fileFormat='SHP'\n",
    ")\n",
    "\n",
    "task.start()\n",
    "print(\"Export started. Check your Google Drive > EarthEngine_Exports folder when complete.\")\n"
   ]
  }
 ],
 "metadata": {
  "kernelspec": {
   "display_name": "code_paper",
   "language": "python",
   "name": "python3"
  },
  "language_info": {
   "codemirror_mode": {
    "name": "ipython",
    "version": 3
   },
   "file_extension": ".py",
   "mimetype": "text/x-python",
   "name": "python",
   "nbconvert_exporter": "python",
   "pygments_lexer": "ipython3",
   "version": "3.13.2"
  }
 },
 "nbformat": 4,
 "nbformat_minor": 5
}
