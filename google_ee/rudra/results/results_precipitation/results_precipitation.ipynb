{
 "cells": [
  {
   "cell_type": "code",
   "execution_count": 1,
   "id": "8dba0ab8",
   "metadata": {},
   "outputs": [],
   "source": [
    "import pandas as pd\n",
    "import numpy as np\n",
    "import matplotlib.pyplot as plt"
   ]
  },
  {
   "cell_type": "code",
   "execution_count": 2,
   "id": "30c587d3",
   "metadata": {},
   "outputs": [],
   "source": [
    "ob_preci = pd.read_csv(r\"G:\\learn\\python_works\\google_ee\\rudra\\datas\\attatchments\\Rainfall_Monthly.csv\")\n",
    "fo_preci = pd.read_csv(r\"G:\\learn\\python_works\\google_ee\\rudra\\datas\\attatchments\\corrected_monthly_precipitation.csv\")"
   ]
  },
  {
   "cell_type": "code",
   "execution_count": 3,
   "id": "a2dec594",
   "metadata": {},
   "outputs": [
    {
     "name": "stdout",
     "output_type": "stream",
     "text": [
      "                    Date  Precipitation\n",
      "0    01/01/1982 00:00:00          16.00\n",
      "1    02/01/1982 00:00:00          39.10\n",
      "2    03/01/1982 00:00:00          25.70\n",
      "3    04/01/1982 00:00:00          59.20\n",
      "4    05/01/1982 00:00:00          75.00\n",
      "..                   ...            ...\n",
      "484  08/01/2022 00:00:00         205.04\n",
      "485  09/01/2022 00:00:00         138.63\n",
      "486  10/01/2022 00:00:00         132.60\n",
      "487  11/01/2022 00:00:00           0.00\n",
      "488  12/01/2022 00:00:00           0.00\n",
      "\n",
      "[489 rows x 2 columns]\n"
     ]
    }
   ],
   "source": [
    "print(ob_preci)"
   ]
  },
  {
   "cell_type": "code",
   "execution_count": 25,
   "id": "e1cc05de",
   "metadata": {},
   "outputs": [
    {
     "name": "stdout",
     "output_type": "stream",
     "text": [
      "      Year  Month  Precipitation\n",
      "0     2006      1      15.465209\n",
      "1     2006      2      12.961373\n",
      "2     2006      3      11.612478\n",
      "3     2006      4      74.072916\n",
      "4     2006      5      84.875134\n",
      "...    ...    ...            ...\n",
      "1135  2100      8     203.181778\n",
      "1136  2100      9     116.533033\n",
      "1137  2100     10      19.979811\n",
      "1138  2100     11       9.624789\n",
      "1139  2100     12      11.330756\n",
      "\n",
      "[1140 rows x 3 columns]\n"
     ]
    }
   ],
   "source": [
    "print(fo_preci)"
   ]
  },
  {
   "cell_type": "code",
   "execution_count": 11,
   "id": "1a66cd2b",
   "metadata": {},
   "outputs": [
    {
     "name": "stdout",
     "output_type": "stream",
     "text": [
      "Baseline Annual Mean: 119.46027777777778 mm\n",
      "Average Baseline Annual Precipitation: 119.46027777777778 mm\n",
      "Average 2020s Annual Precipitation: 105.70390070921985 mm\n",
      "Average 2050s Annual Precipitation: No data mm\n",
      "Average 2080s Annual Precipitation: No data mm\n",
      "Plotted data saved as 'precipitation_by_period_data.csv'.\n",
      "Relative change data saved as 'relative_change_precipitation_data.csv'.\n",
      "Chart saved as 'precipitation_by_period.png'.\n",
      "Chart saved as 'relative_change_precipitation.png'.\n"
     ]
    }
   ],
   "source": [
    "import pandas as pd\n",
    "import matplotlib.pyplot as plt\n",
    "\n",
    "# Set font properties\n",
    "plt.rcParams['font.family'] = 'Times New Roman'\n",
    "plt.rcParams['font.size'] = 12\n",
    "\n",
    "# Step 1: Read the CSV files\n",
    "try:\n",
    "    ob_preci = pd.read_csv(r\"G:\\learn\\python_works\\google_ee\\rudra\\datas\\attatchments\\Rainfall_Monthly.csv\")\n",
    "    fo_preci = pd.read_csv(r\"G:\\learn\\python_works\\google_ee\\rudra\\datas\\attatchments\\corrected_monthly_precipitation.csv\")\n",
    "except FileNotFoundError as e:\n",
    "    print(f\"Error: {e}. Please check the file paths.\")\n",
    "    exit()\n",
    "\n",
    "# Step 2: Convert 'Date' to datetime and extract Year for observed data\n",
    "ob_preci['Date'] = pd.to_datetime(ob_preci['Date'], format='%m/%d/%Y %H:%M:%S')\n",
    "ob_preci['Year'] = ob_preci['Date'].dt.year\n",
    "ob_preci['Month'] = ob_preci['Date'].dt.month\n",
    "\n",
    "# Step 3: Baseline data (1982–2011) from observed data\n",
    "baseline_data = ob_preci[(ob_preci['Year'] >= 1982) & (ob_preci['Year'] <= 2011)]\n",
    "baseline_monthly_means = baseline_data.groupby('Month')['Precipitation'].mean().reset_index()\n",
    "baseline_annual_mean = baseline_data['Precipitation'].mean()\n",
    "print(f\"Baseline Annual Mean: {baseline_annual_mean} mm\")\n",
    "\n",
    "# Step 4: Define periods\n",
    "periods = {\n",
    "    'Baseline': (1982, 2011),\n",
    "    '2020s': (2011, 2040),\n",
    "    '2050s': (2041, 2070),\n",
    "    '2080s': (2071, 2100)\n",
    "}\n",
    "\n",
    "# Step 5: Calculate monthly and annual averages\n",
    "month_names = [pd.to_datetime(f'2025-{m}-01').strftime('%b') for m in range(1, 13)] + ['Annual']\n",
    "period_means = {period: [] for period in periods.keys()}\n",
    "\n",
    "for month in list(range(1, 13)) + [0]:  # Fixed: Convert range to list before concatenation\n",
    "    if month == 0:\n",
    "        baseline_mean = baseline_annual_mean\n",
    "        month_condition = slice(None)\n",
    "        data_source = ob_preci if 'Baseline' in period_means else fo_preci\n",
    "    else:\n",
    "        baseline_mean = baseline_monthly_means[baseline_monthly_means['Month'] == month]['Precipitation'].iloc[0]\n",
    "        month_condition = (fo_preci['Month'] == month)\n",
    "        data_source = fo_preci\n",
    "\n",
    "    for period_name, (start_year, end_year) in periods.items():\n",
    "        if period_name == 'Baseline':\n",
    "            period_data = baseline_data[baseline_data['Month'] == month] if month > 0 else baseline_data\n",
    "        else:\n",
    "            period_data = data_source[(data_source['Year'] >= start_year) & (data_source['Year'] <= end_year)]\n",
    "            if month > 0:\n",
    "                period_data = period_data[period_data['Month'] == month]\n",
    "        mean_precip = period_data['Precipitation'].mean()\n",
    "        period_means[period_name].append(mean_precip if not pd.isna(mean_precip) else 0)\n",
    "        if month == 0:\n",
    "            print(f\"Average {period_name} Annual Precipitation: {mean_precip if not pd.isna(mean_precip) else 'No data'} mm\")\n",
    "\n",
    "# Step 6: Create DataFrame for averages and save to CSV\n",
    "df_averages = pd.DataFrame({'Month': month_names})\n",
    "for period_name in periods:\n",
    "    df_averages[f'Average Precipitation {period_name} (mm)'] = period_means[period_name]\n",
    "df_averages.to_csv('precipitation_by_period_data.csv', index=False)\n",
    "print(\"Plotted data saved as 'precipitation_by_period_data.csv'.\")\n",
    "\n",
    "# Step 7: Calculate relative changes in percentage\n",
    "relative_changes = {period: [] for period in ['2020s', '2050s', '2080s']}\n",
    "for month in list(range(1, 13)) + [0]:  # Fixed: Convert range to list before concatenation\n",
    "    if month == 0:\n",
    "        baseline_mean = baseline_annual_mean\n",
    "    else:\n",
    "        baseline_mean = baseline_monthly_means[baseline_monthly_means['Month'] == month]['Precipitation'].iloc[0]\n",
    "    \n",
    "    if pd.isna(baseline_mean):\n",
    "        for period in ['2020s', '2050s', '2080s']:\n",
    "            relative_changes[period].append(0)\n",
    "        continue\n",
    "\n",
    "    for period_name in ['2020s', '2050s', '2080s']:\n",
    "        period_mean = period_means[period_name][month - 1 if month > 0 else 12]\n",
    "        if pd.isna(period_mean):\n",
    "            relative_changes[period_name].append(0)\n",
    "        else:\n",
    "            relative_change = ((period_mean - baseline_mean) / baseline_mean) * 100\n",
    "            relative_changes[period_name].append(relative_change)\n",
    "\n",
    "# Step 8: Create DataFrame for relative changes and save to CSV\n",
    "df_relative = pd.DataFrame({'Month': month_names})\n",
    "for period_name in ['2020s', '2050s', '2080s']:\n",
    "    df_relative[f'Relative Change {period_name} (%)'] = relative_changes[period_name]\n",
    "df_relative.to_csv('relative_change_precipitation_data.csv', index=False)\n",
    "print(\"Relative change data saved as 'relative_change_precipitation_data.csv'.\")\n",
    "\n",
    "# Step 9: Plot averages\n",
    "plt.figure(figsize=(10, 6))\n",
    "x = range(len(month_names))\n",
    "for i, period_name in enumerate(periods.keys()):\n",
    "    plt.bar([x[j] + (i - 1.5) * 0.25 for j in range(len(x))], period_means[period_name], \n",
    "            width=0.25, label=f'Average {period_name}', \n",
    "            color=['blue', 'black', 'skyblue', 'white'][i], edgecolor='black')\n",
    "\n",
    "plt.xlabel('Month')\n",
    "plt.ylabel('Average Precipitation (mm)')\n",
    "plt.title('Average Precipitation by Month and Period')\n",
    "plt.xticks(x, month_names, rotation=45)\n",
    "plt.legend()\n",
    "plt.grid(True, linestyle='--', alpha=0.7)\n",
    "plt.ylim(0, 400)\n",
    "plt.tight_layout()\n",
    "plt.savefig('precipitation_by_period.png', dpi=300, bbox_inches='tight')\n",
    "plt.close()\n",
    "print(\"Chart saved as 'precipitation_by_period.png'.\")\n",
    "\n",
    "# Step 10: Plot relative changes\n",
    "plt.figure(figsize=(10, 6))\n",
    "x = range(len(month_names))\n",
    "plt.bar([i - bar_width for i in x], relative_changes['2020s'], width=0.25, label='2020s', color='black', edgecolor='black')\n",
    "plt.bar(x, relative_changes['2050s'], width=0.25, label='2050s', color='skyblue', edgecolor='black')\n",
    "plt.bar([i + bar_width for i in x], relative_changes['2080s'], width=0.25, label='2080s', color='white', edgecolor='black')\n",
    "bar_width = 0.25\n",
    "\n",
    "plt.xlabel('Month')\n",
    "plt.ylabel('Relative Change in Precipitation (%)')\n",
    "plt.title('Relative Change in Precipitation by Month and Period (Baseline: 1982–2011)')\n",
    "plt.xticks(x, month_names, rotation=45)\n",
    "plt.legend()\n",
    "plt.grid(True, linestyle='--', alpha=0.7)\n",
    "plt.ylim(-50, 200)\n",
    "plt.tight_layout()\n",
    "plt.savefig('relative_change_precipitation.png', dpi=300, bbox_inches='tight')\n",
    "plt.close()\n",
    "print(\"Chart saved as 'relative_change_precipitation.png'.\")"
   ]
  },
  {
   "cell_type": "code",
   "execution_count": 5,
   "id": "ec499d91",
   "metadata": {},
   "outputs": [
    {
     "data": {
      "application/vnd.microsoft.datawrangler.viewer.v0+json": {
       "columns": [
        {
         "name": "Month",
         "rawType": "int32",
         "type": "integer"
        },
        {
         "name": "Precipitation",
         "rawType": "float64",
         "type": "float"
        }
       ],
       "ref": "25e15214-d066-459d-8a9c-7ea175971267",
       "rows": [
        [
         "1",
         "19.10666666666667"
        ],
        [
         "2",
         "28.543333333333333"
        ],
        [
         "3",
         "33.21333333333334"
        ],
        [
         "4",
         "65.01"
        ],
        [
         "5",
         "133.3"
        ],
        [
         "6",
         "226.09333333333333"
        ],
        [
         "7",
         "374.55333333333334"
        ],
        [
         "8",
         "289.0"
        ],
        [
         "9",
         "193.59666666666666"
        ],
        [
         "10",
         "41.583333333333336"
        ],
        [
         "11",
         "8.75"
        ],
        [
         "12",
         "20.773333333333333"
        ]
       ],
       "shape": {
        "columns": 1,
        "rows": 12
       }
      },
      "text/plain": [
       "Month\n",
       "1      19.106667\n",
       "2      28.543333\n",
       "3      33.213333\n",
       "4      65.010000\n",
       "5     133.300000\n",
       "6     226.093333\n",
       "7     374.553333\n",
       "8     289.000000\n",
       "9     193.596667\n",
       "10     41.583333\n",
       "11      8.750000\n",
       "12     20.773333\n",
       "Name: Precipitation, dtype: float64"
      ]
     },
     "execution_count": 5,
     "metadata": {},
     "output_type": "execute_result"
    }
   ],
   "source": [
    "baseline_monthly_means"
   ]
  },
  {
   "cell_type": "code",
   "execution_count": 6,
   "id": "1fd1551d",
   "metadata": {},
   "outputs": [
    {
     "name": "stdout",
     "output_type": "stream",
     "text": [
      "Plotted data saved as 'annual_precipitation_trends_data.csv'.\n",
      "Chart saved as 'annual_precipitation_trends.png'.\n"
     ]
    }
   ],
   "source": [
    "import pandas as pd\n",
    "import numpy as np\n",
    "import matplotlib.pyplot as plt\n",
    "\n",
    "# Set font properties\n",
    "plt.rcParams['font.family'] = 'Times New Roman'\n",
    "plt.rcParams['font.size'] = 12\n",
    "\n",
    "# Step 1: Read the CSV files\n",
    "try:\n",
    "    ob_preci = pd.read_csv(r\"G:\\learn\\python_works\\google_ee\\rudra\\datas\\attatchments\\Rainfall_Monthly.csv\")\n",
    "    fo_preci = pd.read_csv(r\"G:\\learn\\python_works\\google_ee\\rudra\\datas\\attatchments\\corrected_monthly_precipitation.csv\")\n",
    "except FileNotFoundError as e:\n",
    "    print(f\"Error: {e}. Please check the file paths.\")\n",
    "    exit()\n",
    "\n",
    "# Step 2: Convert 'Date' to datetime and extract Year\n",
    "ob_preci['Date'] = pd.to_datetime(ob_preci['Date'], format='%m/%d/%Y %H:%M:%S')\n",
    "ob_preci['Year'] = ob_preci['Date'].dt.year\n",
    "fo_preci['Year'] = fo_preci['Year']  # Assuming Year is already a column in forecasted data\n",
    "\n",
    "# Step 3: Aggregate to annual means\n",
    "annual_ob_preci = ob_preci.groupby('Year')['Precipitation'].mean().reset_index()\n",
    "annual_fo_preci = fo_preci.groupby('Year')['Precipitation'].mean().reset_index()\n",
    "\n",
    "# Step 4: Combine observed and forecasted data\n",
    "annual_data = pd.concat([annual_ob_preci, annual_fo_preci]).drop_duplicates(subset=['Year'], keep='first').sort_values('Year')\n",
    "\n",
    "# Step 5: Perform linear regression and calculate R²\n",
    "def linear_regression_and_r2(x, y):\n",
    "    coeffs = np.polyfit(x, y, 1)\n",
    "    trend_line = np.poly1d(coeffs)\n",
    "    y_mean = np.mean(y)\n",
    "    ss_tot = np.sum((y - y_mean) ** 2)\n",
    "    ss_res = np.sum((y - trend_line(x)) ** 2)\n",
    "    r_squared = 1 - (ss_res / ss_tot) if ss_tot != 0 else 0\n",
    "    return coeffs, r_squared, trend_line\n",
    "\n",
    "if not annual_data.empty:\n",
    "    coeffs, r2, trend = linear_regression_and_r2(annual_data['Year'], annual_data['Precipitation'])\n",
    "    equation = f'y = {coeffs[0]:.4f}x + {coeffs[1]:.4f}\\nR² = {r2:.4f}'\n",
    "else:\n",
    "    equation = \"No data for Precipitation\"\n",
    "    trend = lambda x: np.full_like(x, np.nan)\n",
    "\n",
    "# Step 6: Create DataFrame and save to CSV\n",
    "if not annual_data.empty:\n",
    "    annual_data.to_csv('annual_precipitation_trends_data.csv', index=False)\n",
    "    print(\"Plotted data saved as 'annual_precipitation_trends_data.csv'.\")\n",
    "else:\n",
    "    print(\"No data available to save to CSV.\")\n",
    "\n",
    "# Step 7: Create the plot\n",
    "plt.figure(figsize=(10, 6))\n",
    "\n",
    "# Plot observed and forecasted data with different colors\n",
    "observed_data = annual_data[(annual_data['Year'] >= 1982) & (annual_data['Year'] <= 2022)]\n",
    "forecasted_data = annual_data[(annual_data['Year'] >= 2023) & (annual_data['Year'] <= 2100)]\n",
    "if not observed_data.empty:\n",
    "    plt.plot(observed_data['Year'], observed_data['Precipitation'], color='blue', label='Observed (1982–2022)', linewidth=2)\n",
    "if not forecasted_data.empty:\n",
    "    plt.plot(forecasted_data['Year'], forecasted_data['Precipitation'], color='red', label='Forecasted (2023–2100)', linewidth=2)\n",
    "\n",
    "# Plot trend line across all data\n",
    "if not annual_data.empty:\n",
    "    plt.plot(annual_data['Year'], trend(annual_data['Year']), color='black', linestyle='--', label='Trend Line', linewidth=1)\n",
    "\n",
    "# Annotations for equation and R²\n",
    "if not annual_data.empty:\n",
    "    plt.text(0.02, 0.98, equation, transform=plt.gca().transAxes, verticalalignment='top', bbox=dict(boxstyle='round', facecolor='white', alpha=0.8))\n",
    "\n",
    "# Labels and title\n",
    "plt.xlabel('Year')\n",
    "plt.ylabel('Precipitation (mm)')\n",
    "plt.title('Annual Precipitation Trend with Trend Line (1982–2100)')\n",
    "plt.legend()\n",
    "plt.grid(True, linestyle='--', alpha=0.7)\n",
    "\n",
    "# Set y-axis range from 0 to 500 mm\n",
    "plt.ylim(0, 500)\n",
    "\n",
    "# Adjust layout and save\n",
    "plt.tight_layout()\n",
    "plt.savefig('annual_precipitation_trends.png', dpi=300, bbox_inches='tight')\n",
    "plt.close()\n",
    "print(\"Chart saved as 'annual_precipitation_trends.png'.\")"
   ]
  },
  {
   "cell_type": "code",
   "execution_count": 7,
   "id": "99506992",
   "metadata": {},
   "outputs": [
    {
     "name": "stdout",
     "output_type": "stream",
     "text": [
      "Average Baseline Precipitation: 119.46027777777779\n",
      "Average 2020s Precipitation: 114.46642469095279\n",
      "Average 2050s Precipitation: 125.77484328274446\n",
      "Average 2080s Precipitation: 137.41955872191113\n",
      "Plotted data saved as 'precipitation_by_period_data.csv'.\n",
      "Chart saved as 'precipitation_by_period.png'.\n"
     ]
    }
   ],
   "source": [
    "import pandas as pd\n",
    "import matplotlib.pyplot as plt\n",
    "\n",
    "# Set font properties\n",
    "plt.rcParams['font.family'] = 'Times New Roman'\n",
    "plt.rcParams['font.size'] = 12\n",
    "\n",
    "# Step 1: Read the CSV files\n",
    "try:\n",
    "    ob_preci = pd.read_csv(r\"G:\\learn\\python_works\\google_ee\\rudra\\datas\\attatchments\\Rainfall_Monthly.csv\")\n",
    "    fo_preci = pd.read_csv(r\"G:\\learn\\python_works\\google_ee\\rudra\\datas\\attatchments\\corrected_monthly_precipitation.csv\")\n",
    "except FileNotFoundError as e:\n",
    "    print(f\"Error: {e}. Please check the file paths.\")\n",
    "    exit()\n",
    "\n",
    "# Step 2: Convert 'Date' to datetime and extract Year\n",
    "ob_preci['Date'] = pd.to_datetime(ob_preci['Date'], format='%m/%d/%Y %H:%M:%S')\n",
    "ob_preci['Year'] = ob_preci['Date'].dt.year\n",
    "fo_preci['Year'] = fo_preci['Year']  # Assuming Year is already a column in forecasted data\n",
    "\n",
    "# Step 3: Aggregate to annual means\n",
    "annual_ob_preci = ob_preci.groupby('Year')['Precipitation'].mean().reset_index()\n",
    "annual_fo_preci = fo_preci.groupby('Year')['Precipitation'].mean().reset_index()\n",
    "\n",
    "# Step 4: Combine observed and forecasted data\n",
    "annual_data = pd.concat([annual_ob_preci, annual_fo_preci]).drop_duplicates(subset=['Year'], keep='first').sort_values('Year')\n",
    "\n",
    "# Step 5: Define periods\n",
    "periods = {\n",
    "    'Baseline': (1982, 2011),\n",
    "    '2020s': (2011, 2040),\n",
    "    '2050s': (2041, 2070),\n",
    "    '2080s': (2071, 2100)\n",
    "}\n",
    "\n",
    "# Step 6: Calculate average precipitation for each period\n",
    "period_means = {}\n",
    "for period_name, (start_year, end_year) in periods.items():\n",
    "    if period_name == 'Baseline':\n",
    "        period_data = annual_ob_preci[(annual_ob_preci['Year'] >= start_year) & (annual_ob_preci['Year'] <= end_year)]\n",
    "    else:\n",
    "        period_data = annual_fo_preci[(annual_fo_preci['Year'] >= start_year) & (annual_fo_preci['Year'] <= end_year)]\n",
    "    mean_precip = period_data['Precipitation'].mean()\n",
    "    period_means[period_name] = mean_precip if not pd.isna(mean_precip) else 0\n",
    "    print(f\"Average {period_name} Precipitation: {mean_precip if not pd.isna(mean_precip) else 'No data'}\")\n",
    "\n",
    "# Step 7: Create DataFrame and save to CSV\n",
    "df = pd.DataFrame({'Period': list(period_means.keys()), 'Average Precipitation (mm)': list(period_means.values())})\n",
    "df.to_csv('precipitation_by_period_data.csv', index=False)\n",
    "print(\"Plotted data saved as 'precipitation_by_period_data.csv'.\")\n",
    "\n",
    "# Step 8: Create the plot\n",
    "plt.figure(figsize=(8, 6))\n",
    "plt.bar(period_means.keys(), period_means.values(), color=['blue', 'black', 'skyblue', 'white'], edgecolor='black')\n",
    "plt.xlabel('Period')\n",
    "plt.ylabel('Average Precipitation (mm)')\n",
    "plt.title('Average Precipitation by Period')\n",
    "plt.grid(True, linestyle='--', alpha=0.7)\n",
    "\n",
    "# Set y-axis range from 0 to 400 mm\n",
    "plt.ylim(0, 400)\n",
    "\n",
    "# Adjust layout and save\n",
    "plt.tight_layout()\n",
    "plt.savefig('precipitation_by_period.png', dpi=300, bbox_inches='tight')\n",
    "plt.close()\n",
    "print(\"Chart saved as 'precipitation_by_period.png'.\")"
   ]
  },
  {
   "cell_type": "code",
   "execution_count": null,
   "id": "bdd97254",
   "metadata": {},
   "outputs": [],
   "source": []
  },
  {
   "cell_type": "code",
   "execution_count": null,
   "id": "087fc6cb",
   "metadata": {},
   "outputs": [],
   "source": []
  },
  {
   "cell_type": "code",
   "execution_count": null,
   "id": "ff3da755",
   "metadata": {},
   "outputs": [],
   "source": []
  },
  {
   "cell_type": "code",
   "execution_count": null,
   "id": "99d8548b",
   "metadata": {},
   "outputs": [],
   "source": []
  }
 ],
 "metadata": {
  "kernelspec": {
   "display_name": "code_paper",
   "language": "python",
   "name": "python3"
  },
  "language_info": {
   "codemirror_mode": {
    "name": "ipython",
    "version": 3
   },
   "file_extension": ".py",
   "mimetype": "text/x-python",
   "name": "python",
   "nbconvert_exporter": "python",
   "pygments_lexer": "ipython3",
   "version": "3.13.2"
  }
 },
 "nbformat": 4,
 "nbformat_minor": 5
}
