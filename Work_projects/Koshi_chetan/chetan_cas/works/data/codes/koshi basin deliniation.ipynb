{
 "cells": [
  {
   "cell_type": "code",
   "execution_count": 1,
   "id": "80c2ce68",
   "metadata": {},
   "outputs": [],
   "source": [
    "import geopandas as gpd\n",
    "import pandas as pd\n",
    "import numpy as np\n",
    "import os\n",
    "import matplotlib.pyplot as plt\n",
    "\n",
    "import geemap\n",
    "import ee\n",
    "\n",
    "\n",
    "ee.Authenticate()\n",
    "ee.Initialize(project='twoearthengineproject')\n"
   ]
  },
  {
   "cell_type": "code",
   "execution_count": 3,
   "id": "0cfe410a",
   "metadata": {},
   "outputs": [
    {
     "data": {
      "text/html": [
       "\n",
       "            <style>\n",
       "                .geemap-dark {\n",
       "                    --jp-widgets-color: white;\n",
       "                    --jp-widgets-label-color: white;\n",
       "                    --jp-ui-font-color1: white;\n",
       "                    --jp-layout-color2: #454545;\n",
       "                    background-color: #383838;\n",
       "                }\n",
       "\n",
       "                .geemap-dark .jupyter-button {\n",
       "                    --jp-layout-color3: #383838;\n",
       "                }\n",
       "\n",
       "                .geemap-colab {\n",
       "                    background-color: var(--colab-primary-surface-color, white);\n",
       "                }\n",
       "\n",
       "                .geemap-colab .jupyter-button {\n",
       "                    --jp-layout-color3: var(--colab-primary-surface-color, white);\n",
       "                }\n",
       "            </style>\n",
       "            "
      ],
      "text/plain": [
       "<IPython.core.display.HTML object>"
      ]
     },
     "metadata": {},
     "output_type": "display_data"
    }
   ],
   "source": [
    "physio_koshi = gpd.read_file(r\"G:\\learn\\python_works\\Work_projects\\Koshi_chetan\\chetan_cas\\works\\data\\gis\\koshi_basin_nepal\\koshi_nepal_basin.shp\")\n",
    "whole_koshi_basin = physio_koshi.dissolve()\n",
    "ee_physio_koshi = ee.FeatureCollection(geemap.geopandas_to_ee(whole_koshi_basin))"
   ]
  },
  {
   "cell_type": "code",
   "execution_count": 4,
   "id": "7b708f38",
   "metadata": {},
   "outputs": [
    {
     "data": {
      "text/html": [
       "\n",
       "            <style>\n",
       "                .geemap-dark {\n",
       "                    --jp-widgets-color: white;\n",
       "                    --jp-widgets-label-color: white;\n",
       "                    --jp-ui-font-color1: white;\n",
       "                    --jp-layout-color2: #454545;\n",
       "                    background-color: #383838;\n",
       "                }\n",
       "\n",
       "                .geemap-dark .jupyter-button {\n",
       "                    --jp-layout-color3: #383838;\n",
       "                }\n",
       "\n",
       "                .geemap-colab {\n",
       "                    background-color: var(--colab-primary-surface-color, white);\n",
       "                }\n",
       "\n",
       "                .geemap-colab .jupyter-button {\n",
       "                    --jp-layout-color3: var(--colab-primary-surface-color, white);\n",
       "                }\n",
       "            </style>\n",
       "            "
      ],
      "text/plain": [
       "<IPython.core.display.HTML object>"
      ]
     },
     "metadata": {},
     "output_type": "display_data"
    }
   ],
   "source": [
    "# The basin data is already in vector format\n",
    "basinATLAS = ee.FeatureCollection('WWF/HydroATLAS/v1/Basins/level07')\n",
    "\n",
    "kosi_region = ee_physio_koshi # Assuming this is a defined ee.Geometry\n",
    "\n",
    "# Simply clip the vector collection directly to your region of interest\n",
    "koshi_basins = basinATLAS.filterBounds(kosi_region)\n",
    "\n"
   ]
  },
  {
   "cell_type": "code",
   "execution_count": 22,
   "id": "099cf697",
   "metadata": {},
   "outputs": [
    {
     "data": {
      "text/html": [
       "\n",
       "            <style>\n",
       "                .geemap-dark {\n",
       "                    --jp-widgets-color: white;\n",
       "                    --jp-widgets-label-color: white;\n",
       "                    --jp-ui-font-color1: white;\n",
       "                    --jp-layout-color2: #454545;\n",
       "                    background-color: #383838;\n",
       "                }\n",
       "\n",
       "                .geemap-dark .jupyter-button {\n",
       "                    --jp-layout-color3: #383838;\n",
       "                }\n",
       "\n",
       "                .geemap-colab {\n",
       "                    background-color: var(--colab-primary-surface-color, white);\n",
       "                }\n",
       "\n",
       "                .geemap-colab .jupyter-button {\n",
       "                    --jp-layout-color3: var(--colab-primary-surface-color, white);\n",
       "                }\n",
       "            </style>\n",
       "            "
      ],
      "text/plain": [
       "<IPython.core.display.HTML object>"
      ]
     },
     "metadata": {},
     "output_type": "display_data"
    },
    {
     "ename": "EEException",
     "evalue": "Computation timed out.",
     "output_type": "error",
     "traceback": [
      "\u001b[31m---------------------------------------------------------------------------\u001b[39m",
      "\u001b[31mHttpError\u001b[39m                                 Traceback (most recent call last)",
      "\u001b[36mFile \u001b[39m\u001b[32mc:\\ProgramData\\anaconda3\\envs\\code_paper\\Lib\\site-packages\\ee\\data.py:409\u001b[39m, in \u001b[36m_execute_cloud_call\u001b[39m\u001b[34m(call, num_retries)\u001b[39m\n\u001b[32m    408\u001b[39m \u001b[38;5;28;01mtry\u001b[39;00m:\n\u001b[32m--> \u001b[39m\u001b[32m409\u001b[39m   \u001b[38;5;28;01mreturn\u001b[39;00m \u001b[43mcall\u001b[49m\u001b[43m.\u001b[49m\u001b[43mexecute\u001b[49m\u001b[43m(\u001b[49m\u001b[43mnum_retries\u001b[49m\u001b[43m=\u001b[49m\u001b[43mnum_retries\u001b[49m\u001b[43m)\u001b[49m\n\u001b[32m    410\u001b[39m \u001b[38;5;28;01mexcept\u001b[39;00m googleapiclient.errors.HttpError \u001b[38;5;28;01mas\u001b[39;00m e:\n",
      "\u001b[36mFile \u001b[39m\u001b[32mc:\\ProgramData\\anaconda3\\envs\\code_paper\\Lib\\site-packages\\googleapiclient\\_helpers.py:130\u001b[39m, in \u001b[36mpositional.<locals>.positional_decorator.<locals>.positional_wrapper\u001b[39m\u001b[34m(*args, **kwargs)\u001b[39m\n\u001b[32m    129\u001b[39m         logger.warning(message)\n\u001b[32m--> \u001b[39m\u001b[32m130\u001b[39m \u001b[38;5;28;01mreturn\u001b[39;00m \u001b[43mwrapped\u001b[49m\u001b[43m(\u001b[49m\u001b[43m*\u001b[49m\u001b[43margs\u001b[49m\u001b[43m,\u001b[49m\u001b[43m \u001b[49m\u001b[43m*\u001b[49m\u001b[43m*\u001b[49m\u001b[43mkwargs\u001b[49m\u001b[43m)\u001b[49m\n",
      "\u001b[36mFile \u001b[39m\u001b[32mc:\\ProgramData\\anaconda3\\envs\\code_paper\\Lib\\site-packages\\googleapiclient\\http.py:938\u001b[39m, in \u001b[36mHttpRequest.execute\u001b[39m\u001b[34m(self, http, num_retries)\u001b[39m\n\u001b[32m    937\u001b[39m \u001b[38;5;28;01mif\u001b[39;00m resp.status >= \u001b[32m300\u001b[39m:\n\u001b[32m--> \u001b[39m\u001b[32m938\u001b[39m     \u001b[38;5;28;01mraise\u001b[39;00m HttpError(resp, content, uri=\u001b[38;5;28mself\u001b[39m.uri)\n\u001b[32m    939\u001b[39m \u001b[38;5;28;01mreturn\u001b[39;00m \u001b[38;5;28mself\u001b[39m.postproc(resp, content)\n",
      "\u001b[31mHttpError\u001b[39m: <HttpError 400 when requesting https://earthengine.googleapis.com/v1/projects/twoearthengineproject/maps?fields=name&alt=json returned \"Computation timed out.\". Details: \"Computation timed out.\">",
      "\nDuring handling of the above exception, another exception occurred:\n",
      "\u001b[31mEEException\u001b[39m                               Traceback (most recent call last)",
      "\u001b[36mCell\u001b[39m\u001b[36m \u001b[39m\u001b[32mIn[22]\u001b[39m\u001b[32m, line 45\u001b[39m\n\u001b[32m     43\u001b[39m \u001b[38;5;66;03m# 5. Visualize the results\u001b[39;00m\n\u001b[32m     44\u001b[39m Map = geemap.Map(center=[\u001b[32m27.5\u001b[39m, \u001b[32m87.5\u001b[39m], zoom=\u001b[32m8\u001b[39m)\n\u001b[32m---> \u001b[39m\u001b[32m45\u001b[39m \u001b[43mMap\u001b[49m\u001b[43m.\u001b[49m\u001b[43maddLayer\u001b[49m\u001b[43m(\u001b[49m\u001b[43mkoshi_basin_upstream\u001b[49m\u001b[43m.\u001b[49m\u001b[43mstyle\u001b[49m\u001b[43m(\u001b[49m\u001b[43mcolor\u001b[49m\u001b[43m=\u001b[49m\u001b[33;43m'\u001b[39;49m\u001b[33;43m0000FF\u001b[39;49m\u001b[33;43m'\u001b[39;49m\u001b[43m,\u001b[49m\u001b[43m \u001b[49m\u001b[43mfillColor\u001b[49m\u001b[43m=\u001b[49m\u001b[33;43m'\u001b[39;49m\u001b[33;43m0000FF33\u001b[39;49m\u001b[33;43m'\u001b[39;49m\u001b[43m)\u001b[49m\u001b[43m,\u001b[49m\u001b[43m \u001b[49m\u001b[43m{\u001b[49m\u001b[43m}\u001b[49m\u001b[43m,\u001b[49m\u001b[43m \u001b[49m\u001b[33;43m'\u001b[39;49m\u001b[33;43mKoshi Basin (HydroATLAS)\u001b[39;49m\u001b[33;43m'\u001b[39;49m\u001b[43m)\u001b[49m\n\u001b[32m     46\u001b[39m Map.addLayer(poi, {\u001b[33m'\u001b[39m\u001b[33mcolor\u001b[39m\u001b[33m'\u001b[39m: \u001b[33m'\u001b[39m\u001b[33mred\u001b[39m\u001b[33m'\u001b[39m}, \u001b[33m'\u001b[39m\u001b[33mChatara Dam\u001b[39m\u001b[33m'\u001b[39m)\n\u001b[32m     47\u001b[39m Map.centerObject(koshi_basin_upstream)\n",
      "\u001b[36mFile \u001b[39m\u001b[32mc:\\ProgramData\\anaconda3\\envs\\code_paper\\Lib\\site-packages\\geemap\\geemap.py:437\u001b[39m, in \u001b[36mMap.add_ee_layer\u001b[39m\u001b[34m(self, ee_object, vis_params, name, shown, opacity)\u001b[39m\n\u001b[32m    432\u001b[39m         \u001b[38;5;28;01mif\u001b[39;00m has_plot_dropdown:\n\u001b[32m    433\u001b[39m             \u001b[38;5;28mself\u001b[39m._plot_dropdown_widget.options = \u001b[38;5;28mlist\u001b[39m(\n\u001b[32m    434\u001b[39m                 \u001b[38;5;28mself\u001b[39m.ee_raster_layers.keys()\n\u001b[32m    435\u001b[39m             )\n\u001b[32m--> \u001b[39m\u001b[32m437\u001b[39m \u001b[38;5;28;43msuper\u001b[39;49m\u001b[43m(\u001b[49m\u001b[43m)\u001b[49m\u001b[43m.\u001b[49m\u001b[43madd_layer\u001b[49m\u001b[43m(\u001b[49m\u001b[43mee_object\u001b[49m\u001b[43m,\u001b[49m\u001b[43m \u001b[49m\u001b[43mvis_params\u001b[49m\u001b[43m,\u001b[49m\u001b[43m \u001b[49m\u001b[43mname\u001b[49m\u001b[43m,\u001b[49m\u001b[43m \u001b[49m\u001b[43mshown\u001b[49m\u001b[43m,\u001b[49m\u001b[43m \u001b[49m\u001b[43mopacity\u001b[49m\u001b[43m)\u001b[49m\n\u001b[32m    439\u001b[39m \u001b[38;5;28;01mif\u001b[39;00m \u001b[38;5;28misinstance\u001b[39m(ee_object, (ee.Image, ee.ImageCollection)):\n\u001b[32m    440\u001b[39m     \u001b[38;5;28;01mif\u001b[39;00m has_plot_dropdown:\n",
      "\u001b[36mFile \u001b[39m\u001b[32mc:\\ProgramData\\anaconda3\\envs\\code_paper\\Lib\\site-packages\\geemap\\core.py:1203\u001b[39m, in \u001b[36mMap.add_layer\u001b[39m\u001b[34m(self, ee_object, vis_params, name, shown, opacity)\u001b[39m\n\u001b[32m   1201\u001b[39m \u001b[38;5;28;01mif\u001b[39;00m \u001b[38;5;28misinstance\u001b[39m(ee_object, ee.ImageCollection):\n\u001b[32m   1202\u001b[39m     ee_object = ee_object.mosaic()\n\u001b[32m-> \u001b[39m\u001b[32m1203\u001b[39m tile_layer = \u001b[43mee_tile_layers\u001b[49m\u001b[43m.\u001b[49m\u001b[43mEELeafletTileLayer\u001b[49m\u001b[43m(\u001b[49m\n\u001b[32m   1204\u001b[39m \u001b[43m    \u001b[49m\u001b[43mee_object\u001b[49m\u001b[43m,\u001b[49m\u001b[43m \u001b[49m\u001b[43mvis_params\u001b[49m\u001b[43m,\u001b[49m\u001b[43m \u001b[49m\u001b[43mname\u001b[49m\u001b[43m,\u001b[49m\u001b[43m \u001b[49m\u001b[43mshown\u001b[49m\u001b[43m,\u001b[49m\u001b[43m \u001b[49m\u001b[43mopacity\u001b[49m\n\u001b[32m   1205\u001b[39m \u001b[43m\u001b[49m\u001b[43m)\u001b[49m\n\u001b[32m   1207\u001b[39m \u001b[38;5;66;03m# Remove the layer if it already exists.\u001b[39;00m\n\u001b[32m   1208\u001b[39m \u001b[38;5;28mself\u001b[39m.remove(name)\n",
      "\u001b[36mFile \u001b[39m\u001b[32mc:\\ProgramData\\anaconda3\\envs\\code_paper\\Lib\\site-packages\\geemap\\ee_tile_layers.py:206\u001b[39m, in \u001b[36mEELeafletTileLayer.__init__\u001b[39m\u001b[34m(self, ee_object, vis_params, name, shown, opacity, **kwargs)\u001b[39m\n\u001b[32m    192\u001b[39m \u001b[38;5;250m\u001b[39m\u001b[33;03m\"\"\"Initialize the ipyleaflet tile layer.\u001b[39;00m\n\u001b[32m    193\u001b[39m \n\u001b[32m    194\u001b[39m \u001b[33;03mArgs:\u001b[39;00m\n\u001b[32m   (...)\u001b[39m\u001b[32m    203\u001b[39m \u001b[33;03m        number between 0 and 1. Defaults to 1.\u001b[39;00m\n\u001b[32m    204\u001b[39m \u001b[33;03m\"\"\"\u001b[39;00m\n\u001b[32m    205\u001b[39m \u001b[38;5;28mself\u001b[39m._ee_object = ee_object\n\u001b[32m--> \u001b[39m\u001b[32m206\u001b[39m \u001b[38;5;28mself\u001b[39m.url_format = \u001b[43m_get_tile_url_format\u001b[49m\u001b[43m(\u001b[49m\n\u001b[32m    207\u001b[39m \u001b[43m    \u001b[49m\u001b[43mee_object\u001b[49m\u001b[43m,\u001b[49m\u001b[43m \u001b[49m\u001b[43m_validate_vis_params\u001b[49m\u001b[43m(\u001b[49m\u001b[43mvis_params\u001b[49m\u001b[43m)\u001b[49m\n\u001b[32m    208\u001b[39m \u001b[43m\u001b[49m\u001b[43m)\u001b[49m\n\u001b[32m    209\u001b[39m \u001b[38;5;28msuper\u001b[39m().\u001b[34m__init__\u001b[39m(\n\u001b[32m    210\u001b[39m     url=\u001b[38;5;28mself\u001b[39m.url_format,\n\u001b[32m    211\u001b[39m     attribution=\u001b[33m\"\u001b[39m\u001b[33mGoogle Earth Engine\u001b[39m\u001b[33m\"\u001b[39m,\n\u001b[32m   (...)\u001b[39m\u001b[32m    216\u001b[39m     **kwargs,\n\u001b[32m    217\u001b[39m )\n",
      "\u001b[36mFile \u001b[39m\u001b[32mc:\\ProgramData\\anaconda3\\envs\\code_paper\\Lib\\site-packages\\geemap\\ee_tile_layers.py:36\u001b[39m, in \u001b[36m_get_tile_url_format\u001b[39m\u001b[34m(ee_object, vis_params)\u001b[39m\n\u001b[32m     25\u001b[39m \u001b[38;5;250m\u001b[39m\u001b[33;03m\"\"\"Gets the tile URL format for an EE object.\u001b[39;00m\n\u001b[32m     26\u001b[39m \n\u001b[32m     27\u001b[39m \u001b[33;03mArgs:\u001b[39;00m\n\u001b[32m   (...)\u001b[39m\u001b[32m     33\u001b[39m \u001b[33;03m    str: The tile URL format.\u001b[39;00m\n\u001b[32m     34\u001b[39m \u001b[33;03m\"\"\"\u001b[39;00m\n\u001b[32m     35\u001b[39m image = _ee_object_to_image(ee_object, vis_params)\n\u001b[32m---> \u001b[39m\u001b[32m36\u001b[39m map_id_dict = \u001b[43mee\u001b[49m\u001b[43m.\u001b[49m\u001b[43mImage\u001b[49m\u001b[43m(\u001b[49m\u001b[43mimage\u001b[49m\u001b[43m)\u001b[49m\u001b[43m.\u001b[49m\u001b[43mgetMapId\u001b[49m\u001b[43m(\u001b[49m\u001b[43mvis_params\u001b[49m\u001b[43m)\u001b[49m\n\u001b[32m     37\u001b[39m \u001b[38;5;28;01mreturn\u001b[39;00m map_id_dict[\u001b[33m\"\u001b[39m\u001b[33mtile_fetcher\u001b[39m\u001b[33m\"\u001b[39m].url_format\n",
      "\u001b[36mFile \u001b[39m\u001b[32mc:\\ProgramData\\anaconda3\\envs\\code_paper\\Lib\\site-packages\\ee\\image.py:154\u001b[39m, in \u001b[36mImage.getMapId\u001b[39m\u001b[34m(self, vis_params)\u001b[39m\n\u001b[32m    152\u001b[39m vis_image, request = \u001b[38;5;28mself\u001b[39m._apply_visualization(vis_params)\n\u001b[32m    153\u001b[39m request[\u001b[33m'\u001b[39m\u001b[33mimage\u001b[39m\u001b[33m'\u001b[39m] = vis_image\n\u001b[32m--> \u001b[39m\u001b[32m154\u001b[39m response = \u001b[43mdata\u001b[49m\u001b[43m.\u001b[49m\u001b[43mgetMapId\u001b[49m\u001b[43m(\u001b[49m\u001b[43mrequest\u001b[49m\u001b[43m)\u001b[49m\n\u001b[32m    155\u001b[39m response[\u001b[33m'\u001b[39m\u001b[33mimage\u001b[39m\u001b[33m'\u001b[39m] = \u001b[38;5;28mself\u001b[39m\n\u001b[32m    156\u001b[39m \u001b[38;5;28;01mreturn\u001b[39;00m response\n",
      "\u001b[36mFile \u001b[39m\u001b[32mc:\\ProgramData\\anaconda3\\envs\\code_paper\\Lib\\site-packages\\ee\\data.py:751\u001b[39m, in \u001b[36mgetMapId\u001b[39m\u001b[34m(params)\u001b[39m\n\u001b[32m    746\u001b[39m queryParams = {\n\u001b[32m    747\u001b[39m     \u001b[33m'\u001b[39m\u001b[33mfields\u001b[39m\u001b[33m'\u001b[39m: \u001b[33m'\u001b[39m\u001b[33mname\u001b[39m\u001b[33m'\u001b[39m,\n\u001b[32m    748\u001b[39m     \u001b[33m'\u001b[39m\u001b[33mbody\u001b[39m\u001b[33m'\u001b[39m: request,\n\u001b[32m    749\u001b[39m }\n\u001b[32m    750\u001b[39m _maybe_populate_workload_tag(queryParams)\n\u001b[32m--> \u001b[39m\u001b[32m751\u001b[39m result = \u001b[43m_execute_cloud_call\u001b[49m\u001b[43m(\u001b[49m\n\u001b[32m    752\u001b[39m \u001b[43m    \u001b[49m\u001b[43m_get_cloud_projects\u001b[49m\u001b[43m(\u001b[49m\u001b[43m)\u001b[49m\n\u001b[32m    753\u001b[39m \u001b[43m    \u001b[49m\u001b[43m.\u001b[49m\u001b[43mmaps\u001b[49m\u001b[43m(\u001b[49m\u001b[43m)\u001b[49m\n\u001b[32m    754\u001b[39m \u001b[43m    \u001b[49m\u001b[43m.\u001b[49m\u001b[43mcreate\u001b[49m\u001b[43m(\u001b[49m\u001b[43mparent\u001b[49m\u001b[43m=\u001b[49m\u001b[43m_get_projects_path\u001b[49m\u001b[43m(\u001b[49m\u001b[43m)\u001b[49m\u001b[43m,\u001b[49m\u001b[43m \u001b[49m\u001b[43m*\u001b[49m\u001b[43m*\u001b[49m\u001b[43mqueryParams\u001b[49m\u001b[43m)\u001b[49m\n\u001b[32m    755\u001b[39m \u001b[43m\u001b[49m\u001b[43m)\u001b[49m\n\u001b[32m    756\u001b[39m map_name = result[\u001b[33m'\u001b[39m\u001b[33mname\u001b[39m\u001b[33m'\u001b[39m]\n\u001b[32m    757\u001b[39m url_format = \u001b[33m'\u001b[39m\u001b[38;5;132;01m%s\u001b[39;00m\u001b[33m/\u001b[39m\u001b[38;5;132;01m%s\u001b[39;00m\u001b[33m/\u001b[39m\u001b[38;5;132;01m%s\u001b[39;00m\u001b[33m/tiles/\u001b[39m\u001b[38;5;132;01m{z}\u001b[39;00m\u001b[33m/\u001b[39m\u001b[38;5;132;01m{x}\u001b[39;00m\u001b[33m/\u001b[39m\u001b[38;5;132;01m{y}\u001b[39;00m\u001b[33m'\u001b[39m % (\n\u001b[32m    758\u001b[39m     _tile_base_url, _cloud_api_utils.VERSION, map_name)\n",
      "\u001b[36mFile \u001b[39m\u001b[32mc:\\ProgramData\\anaconda3\\envs\\code_paper\\Lib\\site-packages\\ee\\data.py:411\u001b[39m, in \u001b[36m_execute_cloud_call\u001b[39m\u001b[34m(call, num_retries)\u001b[39m\n\u001b[32m    409\u001b[39m   \u001b[38;5;28;01mreturn\u001b[39;00m call.execute(num_retries=num_retries)\n\u001b[32m    410\u001b[39m \u001b[38;5;28;01mexcept\u001b[39;00m googleapiclient.errors.HttpError \u001b[38;5;28;01mas\u001b[39;00m e:\n\u001b[32m--> \u001b[39m\u001b[32m411\u001b[39m   \u001b[38;5;28;01mraise\u001b[39;00m _translate_cloud_exception(e)\n",
      "\u001b[31mEEException\u001b[39m: Computation timed out."
     ]
    }
   ],
   "source": [
    "# 1. Define the Point of Interest (Chatara dam)\n",
    "poi = ee.Geometry.Point([87.165, 26.732])\n",
    "\n",
    "# 2. Import the HydroATLAS Level-12 Watershed Data\n",
    "hydroatlas_basins = ee.FeatureCollection(\"WWF/HydroATLAS/v1/Basins/level12\")\n",
    "\n",
    "# 3. Find the main basin containing the point of interest\n",
    "downstream_basin = hydroatlas_basins.filterBounds(poi).first()\n",
    "\n",
    "# 4. Use `ee.List.iterate` to get all upstream basins.\n",
    "def get_upstream_basins(start_basin):\n",
    "    # The maximum number of iterations. 100 should be sufficient for most basins.\n",
    "    # We create a list of numbers to iterate over on the server side.\n",
    "    max_iterations = 100\n",
    "    iteration_list = ee.List.sequence(1, max_iterations)\n",
    "\n",
    "    # Define the initial state (the starting basin)\n",
    "    initial_collection = ee.FeatureCollection([start_basin])\n",
    "\n",
    "    # The function to be applied at each iteration.\n",
    "    def iterate_body(number, current_collection):\n",
    "        current_collection = ee.FeatureCollection(current_collection)\n",
    "        \n",
    "        # Get the IDs of the current basins.\n",
    "        basin_ids = current_collection.aggregate_array('HYBAS_ID')\n",
    "        \n",
    "        # Find all basins whose 'NEXT_DOWN' ID is in our current collection.\n",
    "        upstream_features = hydroatlas_basins.filter(ee.Filter.inList('NEXT_DOWN', basin_ids))\n",
    "        \n",
    "        # Merge the new basins into the collection.\n",
    "        return current_collection.merge(upstream_features)\n",
    "\n",
    "    # Run the iterate function and get the final collection.\n",
    "    result_collection = ee.FeatureCollection(\n",
    "        iteration_list.iterate(iterate_body, initial_collection)\n",
    "    )\n",
    "    \n",
    "    return result_collection\n",
    "\n",
    "# Get the final collection of all upstream basins.\n",
    "koshi_basin_upstream = get_upstream_basins(downstream_basin)\n",
    "\n",
    "# 5. Visualize the results\n",
    "Map = geemap.Map(center=[27.5, 87.5], zoom=8)\n",
    "Map.addLayer(koshi_basin_upstream.style(color='0000FF', fillColor='0000FF33'), {}, 'Koshi Basin (HydroATLAS)')\n",
    "Map.addLayer(poi, {'color': 'red'}, 'Chatara Dam')\n",
    "Map.centerObject(koshi_basin_upstream)\n",
    "\n",
    "# Display the map\n",
    "Map"
   ]
  },
  {
   "cell_type": "code",
   "execution_count": 5,
   "id": "0f678f30",
   "metadata": {},
   "outputs": [
    {
     "data": {
      "text/html": [
       "\n",
       "            <style>\n",
       "                .geemap-dark {\n",
       "                    --jp-widgets-color: white;\n",
       "                    --jp-widgets-label-color: white;\n",
       "                    --jp-ui-font-color1: white;\n",
       "                    --jp-layout-color2: #454545;\n",
       "                    background-color: #383838;\n",
       "                }\n",
       "\n",
       "                .geemap-dark .jupyter-button {\n",
       "                    --jp-layout-color3: #383838;\n",
       "                }\n",
       "\n",
       "                .geemap-colab {\n",
       "                    background-color: var(--colab-primary-surface-color, white);\n",
       "                }\n",
       "\n",
       "                .geemap-colab .jupyter-button {\n",
       "                    --jp-layout-color3: var(--colab-primary-surface-color, white);\n",
       "                }\n",
       "            </style>\n",
       "            "
      ],
      "text/plain": [
       "<IPython.core.display.HTML object>"
      ]
     },
     "metadata": {},
     "output_type": "display_data"
    },
    {
     "data": {
      "application/vnd.jupyter.widget-view+json": {
       "model_id": "cc8c9c0f0baa4cb89a1a5632b3512474",
       "version_major": 2,
       "version_minor": 0
      },
      "text/plain": [
       "Map(center=[27.47400223552799, 86.74222028763057], controls=(WidgetControl(options=['position', 'transparent_b…"
      ]
     },
     "execution_count": 5,
     "metadata": {},
     "output_type": "execute_result"
    }
   ],
   "source": [
    "# --- Create and Display the Map ---\n",
    "# Create an interactive map object.\n",
    "Map = geemap.Map(center=[27.5, 86.8], zoom=8)\n",
    "# Define a function to generate a text label for each feature.\n",
    "def add_labels(feature):\n",
    "    return feature.set({\n",
    "        'label': ee.String('HYBAS_ID: ').cat(ee.Number(feature.get('HYBAS_ID')).format())\n",
    "    })\n",
    "\n",
    "# Map the function over the feature collection to add a 'label' property to each feature.\n",
    "labeled_basins = koshi_basins.map(add_labels)\n",
    "\n",
    "# Add the basins to the map with a custom style.\n",
    "vis_params = {\n",
    "    'color': '0000FF',\n",
    "    'fillColor': '0000FF55'\n",
    "}\n",
    "Map.addLayer(labeled_basins, vis_params, 'Koshi Basins')\n",
    "\n",
    "# Add the labels to the map.\n",
    "# The 'label' property from the previous step will be used for the text.\n",
    "Map.addLayer(labeled_basins, {}, 'HYBAS_ID Labels', True, 1)\n",
    "\n",
    "# Center the map on the basins.\n",
    "Map.centerObject(koshi_basins, 8)\n",
    "\n",
    "# Display the map.\n",
    "Map"
   ]
  },
  {
   "cell_type": "code",
   "execution_count": 43,
   "id": "147d24f5",
   "metadata": {},
   "outputs": [
    {
     "data": {
      "text/html": [
       "\n",
       "            <style>\n",
       "                .geemap-dark {\n",
       "                    --jp-widgets-color: white;\n",
       "                    --jp-widgets-label-color: white;\n",
       "                    --jp-ui-font-color1: white;\n",
       "                    --jp-layout-color2: #454545;\n",
       "                    background-color: #383838;\n",
       "                }\n",
       "\n",
       "                .geemap-dark .jupyter-button {\n",
       "                    --jp-layout-color3: #383838;\n",
       "                }\n",
       "\n",
       "                .geemap-colab {\n",
       "                    background-color: var(--colab-primary-surface-color, white);\n",
       "                }\n",
       "\n",
       "                .geemap-colab .jupyter-button {\n",
       "                    --jp-layout-color3: var(--colab-primary-surface-color, white);\n",
       "                }\n",
       "            </style>\n",
       "            "
      ],
      "text/plain": [
       "<IPython.core.display.HTML object>"
      ]
     },
     "metadata": {},
     "output_type": "display_data"
    }
   ],
   "source": [
    "df = geemap.ee_to_df(koshi_basins)"
   ]
  },
  {
   "cell_type": "code",
   "execution_count": null,
   "id": "e0747d55",
   "metadata": {},
   "outputs": [
    {
     "data": {
      "text/html": [
       "\n",
       "            <style>\n",
       "                .geemap-dark {\n",
       "                    --jp-widgets-color: white;\n",
       "                    --jp-widgets-label-color: white;\n",
       "                    --jp-ui-font-color1: white;\n",
       "                    --jp-layout-color2: #454545;\n",
       "                    background-color: #383838;\n",
       "                }\n",
       "\n",
       "                .geemap-dark .jupyter-button {\n",
       "                    --jp-layout-color3: #383838;\n",
       "                }\n",
       "\n",
       "                .geemap-colab {\n",
       "                    background-color: var(--colab-primary-surface-color, white);\n",
       "                }\n",
       "\n",
       "                .geemap-colab .jupyter-button {\n",
       "                    --jp-layout-color3: var(--colab-primary-surface-color, white);\n",
       "                }\n",
       "            </style>\n",
       "            "
      ],
      "text/plain": [
       "<IPython.core.display.HTML object>"
      ]
     },
     "metadata": {},
     "output_type": "display_data"
    },
    {
     "name": "stdout",
     "output_type": "stream",
     "text": [
      "   COAST  DIST_MAIN  DIST_SINK  ENDO    HYBAS_ID    MAIN_BAS   NEXT_DOWN  \\\n",
      "0      0      757.9      757.9     0  4070875600  4070025450  4070892840   \n",
      "1      0      521.8      521.8     0  4070911800  4070025450  4070912840   \n",
      "2      0      668.8      668.8     0  4070892840  4070025450  4070900840   \n",
      "3      0      577.5      577.5     0  4070891520  4070025450  4070897870   \n",
      "4      0      519.9      519.9     0  4070905280  4070025450  4070912370   \n",
      "\n",
      "    NEXT_SINK  ORDER_  PFAF_ID  ...  wet_pc_u02  wet_pc_u03  wet_pc_u04  \\\n",
      "0  4070025450       3  4524255  ...           0           0           0   \n",
      "1  4070025450       3  4524210  ...           0           0          20   \n",
      "2  4070025450       3  4524253  ...           0           0           1   \n",
      "3  4070025450       3  4524169  ...           0           0          19   \n",
      "4  4070025450       4  4524164  ...           0           0          36   \n",
      "\n",
      "   wet_pc_u05  wet_pc_u06  wet_pc_u07  wet_pc_u08  wet_pc_u09  wet_pc_ug1  \\\n",
      "0           0           0           0           0           0           1   \n",
      "1           0           0           0           0           0          21   \n",
      "2           0           0           0           0           0           2   \n",
      "3           0           0           0           0           0          19   \n",
      "4           0           0           0           0           0          36   \n",
      "\n",
      "   wet_pc_ug2  \n",
      "0           1  \n",
      "1          20  \n",
      "2           2  \n",
      "3          19  \n",
      "4          36  \n",
      "\n",
      "[5 rows x 294 columns]\n"
     ]
    }
   ],
   "source": [
    "print(df)"
   ]
  },
  {
   "cell_type": "code",
   "execution_count": 56,
   "id": "bdef01bf",
   "metadata": {},
   "outputs": [
    {
     "data": {
      "text/html": [
       "\n",
       "            <style>\n",
       "                .geemap-dark {\n",
       "                    --jp-widgets-color: white;\n",
       "                    --jp-widgets-label-color: white;\n",
       "                    --jp-ui-font-color1: white;\n",
       "                    --jp-layout-color2: #454545;\n",
       "                    background-color: #383838;\n",
       "                }\n",
       "\n",
       "                .geemap-dark .jupyter-button {\n",
       "                    --jp-layout-color3: #383838;\n",
       "                }\n",
       "\n",
       "                .geemap-colab {\n",
       "                    background-color: var(--colab-primary-surface-color, white);\n",
       "                }\n",
       "\n",
       "                .geemap-colab .jupyter-button {\n",
       "                    --jp-layout-color3: var(--colab-primary-surface-color, white);\n",
       "                }\n",
       "            </style>\n",
       "            "
      ],
      "text/plain": [
       "<IPython.core.display.HTML object>"
      ]
     },
     "metadata": {},
     "output_type": "display_data"
    },
    {
     "name": "stdout",
     "output_type": "stream",
     "text": [
      "Export of 'koshi_basins.geojson' successful!\n"
     ]
    }
   ],
   "source": [
    "geojson_filename = 'koshi_basins.geojson'\n",
    "geemap.ee_to_geojson(\n",
    "    ee_object=koshi_basins,\n",
    "    filename=geojson_filename\n",
    ")\n",
    "\n",
    "print(f\"Export of '{geojson_filename}' successful!\")"
   ]
  },
  {
   "cell_type": "code",
   "execution_count": 59,
   "id": "7fb3ad92",
   "metadata": {},
   "outputs": [
    {
     "data": {
      "text/html": [
       "\n",
       "            <style>\n",
       "                .geemap-dark {\n",
       "                    --jp-widgets-color: white;\n",
       "                    --jp-widgets-label-color: white;\n",
       "                    --jp-ui-font-color1: white;\n",
       "                    --jp-layout-color2: #454545;\n",
       "                    background-color: #383838;\n",
       "                }\n",
       "\n",
       "                .geemap-dark .jupyter-button {\n",
       "                    --jp-layout-color3: #383838;\n",
       "                }\n",
       "\n",
       "                .geemap-colab {\n",
       "                    background-color: var(--colab-primary-surface-color, white);\n",
       "                }\n",
       "\n",
       "                .geemap-colab .jupyter-button {\n",
       "                    --jp-layout-color3: var(--colab-primary-surface-color, white);\n",
       "                }\n",
       "            </style>\n",
       "            "
      ],
      "text/plain": [
       "<IPython.core.display.HTML object>"
      ]
     },
     "metadata": {},
     "output_type": "display_data"
    }
   ],
   "source": [
    "gdf = gpd.read_file('koshi_basins.geojson')\n",
    "gdf.to_file('koshi_basins.shp')"
   ]
  },
  {
   "cell_type": "code",
   "execution_count": 10,
   "id": "2163bc56",
   "metadata": {},
   "outputs": [
    {
     "data": {
      "text/html": [
       "\n",
       "            <style>\n",
       "                .geemap-dark {\n",
       "                    --jp-widgets-color: white;\n",
       "                    --jp-widgets-label-color: white;\n",
       "                    --jp-ui-font-color1: white;\n",
       "                    --jp-layout-color2: #454545;\n",
       "                    background-color: #383838;\n",
       "                }\n",
       "\n",
       "                .geemap-dark .jupyter-button {\n",
       "                    --jp-layout-color3: #383838;\n",
       "                }\n",
       "\n",
       "                .geemap-colab {\n",
       "                    background-color: var(--colab-primary-surface-color, white);\n",
       "                }\n",
       "\n",
       "                .geemap-colab .jupyter-button {\n",
       "                    --jp-layout-color3: var(--colab-primary-surface-color, white);\n",
       "                }\n",
       "            </style>\n",
       "            "
      ],
      "text/plain": [
       "<IPython.core.display.HTML object>"
      ]
     },
     "metadata": {},
     "output_type": "display_data"
    },
    {
     "name": "stdout",
     "output_type": "stream",
     "text": [
      "Note: you may need to restart the kernel to use updated packages.\n"
     ]
    },
    {
     "name": "stderr",
     "output_type": "stream",
     "text": [
      "ERROR: Ignored the following yanked versions: 0.2.1, 0.2.2\n",
      "ERROR: Could not find a version that satisfies the requirement rabpro (from versions: none)\n",
      "ERROR: No matching distribution found for rabpro\n"
     ]
    }
   ],
   "source": [
    "pip install rabpro"
   ]
  },
  {
   "cell_type": "code",
   "execution_count": 11,
   "id": "04ef0bc0",
   "metadata": {},
   "outputs": [
    {
     "data": {
      "text/html": [
       "\n",
       "            <style>\n",
       "                .geemap-dark {\n",
       "                    --jp-widgets-color: white;\n",
       "                    --jp-widgets-label-color: white;\n",
       "                    --jp-ui-font-color1: white;\n",
       "                    --jp-layout-color2: #454545;\n",
       "                    background-color: #383838;\n",
       "                }\n",
       "\n",
       "                .geemap-dark .jupyter-button {\n",
       "                    --jp-layout-color3: #383838;\n",
       "                }\n",
       "\n",
       "                .geemap-colab {\n",
       "                    background-color: var(--colab-primary-surface-color, white);\n",
       "                }\n",
       "\n",
       "                .geemap-colab .jupyter-button {\n",
       "                    --jp-layout-color3: var(--colab-primary-surface-color, white);\n",
       "                }\n",
       "            </style>\n",
       "            "
      ],
      "text/plain": [
       "<IPython.core.display.HTML object>"
      ]
     },
     "metadata": {},
     "output_type": "display_data"
    },
    {
     "ename": "ModuleNotFoundError",
     "evalue": "No module named 'rabpro'",
     "output_type": "error",
     "traceback": [
      "\u001b[31m---------------------------------------------------------------------------\u001b[39m",
      "\u001b[31mModuleNotFoundError\u001b[39m                       Traceback (most recent call last)",
      "\u001b[36mCell\u001b[39m\u001b[36m \u001b[39m\u001b[32mIn[11]\u001b[39m\u001b[32m, line 3\u001b[39m\n\u001b[32m      1\u001b[39m \u001b[38;5;28;01mimport\u001b[39;00m\u001b[38;5;250m \u001b[39m\u001b[34;01mee\u001b[39;00m\n\u001b[32m      2\u001b[39m \u001b[38;5;28;01mimport\u001b[39;00m\u001b[38;5;250m \u001b[39m\u001b[34;01mgeemap\u001b[39;00m\n\u001b[32m----> \u001b[39m\u001b[32m3\u001b[39m \u001b[38;5;28;01mimport\u001b[39;00m\u001b[38;5;250m \u001b[39m\u001b[34;01mrabpro\u001b[39;00m\n\u001b[32m      4\u001b[39m \u001b[38;5;28;01mimport\u001b[39;00m\u001b[38;5;250m \u001b[39m\u001b[34;01mmatplotlib\u001b[39;00m\u001b[34;01m.\u001b[39;00m\u001b[34;01mpyplot\u001b[39;00m\u001b[38;5;250m \u001b[39m\u001b[38;5;28;01mas\u001b[39;00m\u001b[38;5;250m \u001b[39m\u001b[34;01mplt\u001b[39;00m\n",
      "\u001b[31mModuleNotFoundError\u001b[39m: No module named 'rabpro'"
     ]
    }
   ],
   "source": [
    "\n",
    "import ee\n",
    "import geemap\n",
    "import rabpro\n",
    "import matplotlib.pyplot as plt"
   ]
  }
 ],
 "metadata": {
  "kernelspec": {
   "display_name": "code_paper",
   "language": "python",
   "name": "python3"
  },
  "language_info": {
   "codemirror_mode": {
    "name": "ipython",
    "version": 3
   },
   "file_extension": ".py",
   "mimetype": "text/x-python",
   "name": "python",
   "nbconvert_exporter": "python",
   "pygments_lexer": "ipython3",
   "version": "3.13.2"
  }
 },
 "nbformat": 4,
 "nbformat_minor": 5
}
