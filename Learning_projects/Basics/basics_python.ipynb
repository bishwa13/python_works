{
 "cells": [
  {
   "cell_type": "code",
   "execution_count": 9,
   "metadata": {},
   "outputs": [
    {
     "name": "stdout",
     "output_type": "stream",
     "text": [
      "What is your name?\n",
      "Hello, Boom!\n"
     ]
    }
   ],
   "source": [
    "print('What is your name?')\n",
    "name = input(\"Name: \")\n",
    "print(f\"Hello, {name}!\")"
   ]
  },
  {
   "cell_type": "code",
   "execution_count": 10,
   "metadata": {},
   "outputs": [
    {
     "name": "stdout",
     "output_type": "stream",
     "text": [
      "37.77777777777778\n"
     ]
    }
   ],
   "source": [
    "def fahren_to_celsius (fahrenheit):\n",
    "    celsius_value = (fahrenheit - 32) * (5/9)\n",
    "    return celsius_value\n",
    "\n",
    "print(fahren_to_celsius(100))"
   ]
  },
  {
   "cell_type": "code",
   "execution_count": 11,
   "metadata": {},
   "outputs": [
    {
     "name": "stdout",
     "output_type": "stream",
     "text": [
      "98.60000000000001\n"
     ]
    }
   ],
   "source": [
    "def celcius_to_fahren(celcius):\n",
    "    fahrenheit_value = (celcius *(9/5) + 32)\n",
    "    return fahrenheit_value\n",
    "\n",
    "print(celcius_to_fahren(37))"
   ]
  },
  {
   "cell_type": "code",
   "execution_count": 12,
   "metadata": {},
   "outputs": [
    {
     "name": "stdout",
     "output_type": "stream",
     "text": [
      "True\n"
     ]
    }
   ],
   "source": [
    "def oddOrEven(value):\n",
    "    result = value % 2 == 0\n",
    "    return result\n",
    "    \n",
    "print(oddOrEven(6))"
   ]
  },
  {
   "cell_type": "code",
   "execution_count": 10,
   "metadata": {},
   "outputs": [
    {
     "name": "stdout",
     "output_type": "stream",
     "text": [
      "3x3 Magic Square (Sum = 15):\n",
      " 8 |  1 |  6\n",
      "-----------\n",
      " 3 |  5 |  7\n",
      "-----------\n",
      " 4 |  9 |  2\n",
      "-----------\n"
     ]
    }
   ],
   "source": [
    "def generate_magic_square(n):\n",
    "    \"\"\"\n",
    "    Generates an n x n magic square (n must be odd) where the sum of each row, column,\n",
    "    and diagonal is the same.\n",
    "    \"\"\"\n",
    "    if n % 2 == 0:\n",
    "        raise ValueError(\"Only odd-sized magic squares are supported.\")\n",
    "    \n",
    "    # Initialize an empty grid\n",
    "    magic_square= []\n",
    "    for x in range(n):\n",
    "        magic_square.append([0]*n)\n",
    "        \n",
    "    # magic_square = [[0] * n for _ in range(n)]\n",
    "\n",
    "    # Starting position for the number 1\n",
    "    row, col = 0, n // 2\n",
    "\n",
    "    # Fill the magic square with numbers from 1 to n^2\n",
    "    for num in range(1, n * n + 1):\n",
    "        magic_square[row][col] = num\n",
    "        \n",
    "        # Calculate the next position\n",
    "        next_row, next_col = (row - 1) % n, (col + 1) % n\n",
    "        \n",
    "        if magic_square[next_row][next_col] != 0:  # Cell is already filled\n",
    "            row = (row + 1) % n  # Move down one step instead\n",
    "        else:\n",
    "            row, col = next_row, next_col\n",
    "\n",
    "    return magic_square\n",
    "\n",
    "def print_square(grid):\n",
    "    \"\"\"\n",
    "    Display the n x n grid in a readable format.\n",
    "    \"\"\"\n",
    "    for row in grid:\n",
    "        print(\" | \".join(f\"{num:2}\" for num in row))\n",
    "        print(\"-\" * (len(grid) * 4 - 1))\n",
    "\n",
    "# Example usage\n",
    "n = 3  # Change to any odd number (e.g., 3, 5, 7, etc.)\n",
    "try:\n",
    "    magic_square = generate_magic_square(n)\n",
    "    print(f\"{n}x{n} Magic Square (Sum = {n * (n * n + 1) // 2}):\")\n",
    "    print_square(magic_square)\n",
    "except ValueError as e:\n",
    "    print(e)\n"
   ]
  },
  {
   "cell_type": "code",
   "execution_count": 44,
   "metadata": {},
   "outputs": [
    {
     "data": {
      "text/plain": [
       "0"
      ]
     },
     "execution_count": 44,
     "metadata": {},
     "output_type": "execute_result"
    }
   ],
   "source": [
    "x = -6%2\n",
    "x"
   ]
  },
  {
   "cell_type": "code",
   "execution_count": 41,
   "metadata": {},
   "outputs": [
    {
     "name": "stdout",
     "output_type": "stream",
     "text": [
      "5x5 Magic Square (Sum = 65):\n",
      " 7 | 14 | 16 | 23 |  5\n",
      "-------------------\n",
      "13 | 20 | 22 |  4 |  6\n",
      "-------------------\n",
      "19 | 21 |  3 | 10 | 12\n",
      "-------------------\n",
      "25 |  2 |  9 | 11 | 18\n",
      "-------------------\n",
      " 1 |  8 | 15 | 17 | 24\n",
      "-------------------\n"
     ]
    }
   ],
   "source": [
    "def generate_magic_square(n):\n",
    "    \"\"\"\n",
    "    Generates an n x n magic square (n must be odd) where the sum of each row, column,\n",
    "    and diagonal is the same.\n",
    "    \"\"\"\n",
    "    if n % 2 == 0:\n",
    "        raise ValueError(\"Only odd-sized magic squares are supported.\")\n",
    "    \n",
    "    # Initialize an empty grid\n",
    "    magic_square= []\n",
    "    for x in range(n):\n",
    "        magic_square.append([0]*n)\n",
    "        \n",
    "    # magic_square = [[0] * n for _ in range(n)]\n",
    "\n",
    "    # Starting position for the number 1\n",
    "    row, col = 4, 0\n",
    "\n",
    "    # Fill the magic square with numbers from 1 to n^2\n",
    "    for num in range(1, n * n + 1):\n",
    "        magic_square[row][col] = num\n",
    "        \n",
    "        # Calculate the next position\n",
    "        next_row, next_col = (row - 1) % n, (col + 1) % n\n",
    "        \n",
    "        if magic_square[next_row][next_col] != 0:  # Cell is already filled\n",
    "            row = (row + 1) % n  # Move down one step instead\n",
    "        else:\n",
    "            row, col = next_row, next_col\n",
    "\n",
    "    return magic_square\n",
    "\n",
    "def print_square(grid):\n",
    "    \"\"\"\n",
    "    Display the n x n grid in a readable format.\n",
    "    \"\"\"\n",
    "    for row in grid:\n",
    "        print(\" | \".join(f\"{num:2}\" for num in row))\n",
    "        print(\"-\" * (len(grid) * 4 - 1))\n",
    "\n",
    "# Example usage\n",
    "n = 5  # Change to any odd number (e.g., 3, 5, 7, etc.)\n",
    "try:\n",
    "    magic_square = generate_magic_square(n)\n",
    "    print(f\"{n}x{n} Magic Square (Sum = {n * (n * n + 1) // 2}):\")\n",
    "    print_square(magic_square)\n",
    "except ValueError as e:\n",
    "    print(e)\n"
   ]
  },
  {
   "cell_type": "code",
   "execution_count": 68,
   "metadata": {},
   "outputs": [
    {
     "name": "stdout",
     "output_type": "stream",
     "text": [
      "5\n",
      "-2\n"
     ]
    }
   ],
   "source": [
    "x = (-7)%6\n",
    "print(x)\n",
    "y=(-7)//6\n",
    "print(y)"
   ]
  },
  {
   "cell_type": "code",
   "execution_count": 55,
   "metadata": {},
   "outputs": [
    {
     "name": "stdout",
     "output_type": "stream",
     "text": [
      "0 3\n",
      "0 3\n",
      "0 3\n",
      "0 3\n",
      "0 3\n",
      "0 3\n",
      "0 3\n",
      "0 3\n",
      "0 3\n"
     ]
    }
   ],
   "source": [
    "row, col = 1, 2\n",
    "for num in range(1,10):\n",
    "    next_row, next_col = (row - 1) % n, (col + 1) % n\n",
    "    print(next_row, next_col)\n",
    "\n"
   ]
  },
  {
   "cell_type": "code",
   "execution_count": 52,
   "metadata": {},
   "outputs": [
    {
     "name": "stdout",
     "output_type": "stream",
     "text": [
      "row,col\n",
      "4 0\n",
      "next_row_col\n",
      "3 1\n",
      "row,col\n",
      "3 1\n",
      "next_row_col\n",
      "2 2\n",
      "row,col\n",
      "2 2\n",
      "next_row_col\n",
      "1 3\n",
      "row,col\n",
      "1 3\n",
      "next_row_col\n",
      "0 4\n",
      "row,col\n",
      "0 4\n",
      "next_row_col\n",
      "4 0\n",
      "row,col\n",
      "1 4\n",
      "next_row_col\n",
      "0 0\n",
      "row,col\n",
      "0 0\n",
      "next_row_col\n",
      "4 1\n",
      "row,col\n",
      "4 1\n",
      "next_row_col\n",
      "3 2\n",
      "row,col\n",
      "3 2\n",
      "next_row_col\n",
      "2 3\n",
      "row,col\n",
      "2 3\n",
      "next_row_col\n",
      "1 4\n",
      "row,col\n",
      "3 3\n",
      "next_row_col\n",
      "2 4\n",
      "row,col\n",
      "2 4\n",
      "next_row_col\n",
      "1 0\n",
      "row,col\n",
      "1 0\n",
      "next_row_col\n",
      "0 1\n",
      "row,col\n",
      "0 1\n",
      "next_row_col\n",
      "4 2\n",
      "row,col\n",
      "4 2\n",
      "next_row_col\n",
      "3 3\n",
      "row,col\n",
      "0 2\n",
      "next_row_col\n",
      "4 3\n",
      "row,col\n",
      "4 3\n",
      "next_row_col\n",
      "3 4\n",
      "row,col\n",
      "3 4\n",
      "next_row_col\n",
      "2 0\n",
      "row,col\n",
      "2 0\n",
      "next_row_col\n",
      "1 1\n",
      "row,col\n",
      "1 1\n",
      "next_row_col\n",
      "0 2\n",
      "row,col\n",
      "2 1\n",
      "next_row_col\n",
      "1 2\n",
      "row,col\n",
      "1 2\n",
      "next_row_col\n",
      "0 3\n",
      "row,col\n",
      "0 3\n",
      "next_row_col\n",
      "4 4\n",
      "row,col\n",
      "4 4\n",
      "next_row_col\n",
      "3 0\n",
      "row,col\n",
      "3 0\n",
      "next_row_col\n",
      "2 1\n"
     ]
    }
   ],
   "source": [
    "magic_square= []\n",
    "for x in range(5):\n",
    "        magic_square.append([0]*n)\n",
    "        \n",
    "    # magic_square = [[0] * n for _ in range(n)]\n",
    "\n",
    "    # Starting position for the number 1\n",
    "row, col = 4, 0\n",
    "\n",
    "    # Fill the magic square with numbers from 1 to n^2\n",
    "for num in range(1, n * n + 1):\n",
    "        magic_square[row][col] = num\n",
    "        print(\"row,col\")\n",
    "        print(row,col)\n",
    "        \n",
    "        # Calculate the next position\n",
    "        next_row, next_col = (row - 1) % n, (col + 1) % n\n",
    "        print(\"next_row_col\")\n",
    "        print(next_row,next_col)\n",
    "        if magic_square[next_row][next_col] != 0:  # Cell is already filled\n",
    "            row = (row + 1) % n  # Move down one step instead\n",
    "        else:\n",
    "            row, col = next_row, next_col\n",
    "\n",
    "#print(magic_square)"
   ]
  },
  {
   "cell_type": "code",
   "execution_count": 17,
   "metadata": {},
   "outputs": [
    {
     "name": "stdout",
     "output_type": "stream",
     "text": [
      "B\n"
     ]
    }
   ],
   "source": [
    "def solutions(paths: list[list[str]]) -> str:\n",
    "    starting_cities = set()\n",
    "    ending_cities = set()\n",
    "\n",
    "    for path in paths:\n",
    "        start_city = path[0]\n",
    "        end_city = path[1]\n",
    "\n",
    "        starting_cities.add(start_city)\n",
    "        ending_cities.add(end_city)\n",
    "\n",
    "        destination_cities  = []\n",
    "        for city in ending_cities:\n",
    "            if city not in starting_cities:\n",
    "                destination_cities.append(city)\n",
    "\n",
    "        if len(destination_cities) > 0:\n",
    "            return destination_cities[0]\n",
    "\n",
    "        else:\n",
    "            return None\n",
    "\n",
    "    \n",
    "\n",
    "paths = [[\"A\", \"B\"], [\"B\", \"C\"], [\"C\", \"D\"]]\n",
    "print(solutions(paths))"
   ]
  },
  {
   "cell_type": "code",
   "execution_count": 14,
   "metadata": {},
   "outputs": [
    {
     "name": "stdout",
     "output_type": "stream",
     "text": [
      "{'B'}\n",
      "{'B', 'C'}\n",
      "{'B', 'D', 'C'}\n",
      "{'B', 'D', 'F', 'C'}\n",
      "{'D', 'F', 'B', 'G', 'C'}\n",
      "D\n"
     ]
    }
   ],
   "source": [
    "def solutions(paths):\n",
    "    outs = set()\n",
    "    ins = set()\n",
    "\n",
    "    for a, b in paths:\n",
    "        \n",
    "        outs.add(a)\n",
    "        ins.add(b)\n",
    "        print(ins)\n",
    "        \n",
    "\n",
    "    return [b for b in ins if b not in outs][0]\n",
    "\n",
    "paths = [[\"A\", \"B\"], [\"B\", \"C\"], [\"C\", \"D\"],[\"A\", \"F\"], [\"C\", \"G\"]]\n",
    "print(solutions(paths))"
   ]
  }
 ],
 "metadata": {
  "kernelspec": {
   "display_name": "dsipykernel",
   "language": "python",
   "name": "dsenv"
  },
  "language_info": {
   "codemirror_mode": {
    "name": "ipython",
    "version": 3
   },
   "file_extension": ".py",
   "mimetype": "text/x-python",
   "name": "python",
   "nbconvert_exporter": "python",
   "pygments_lexer": "ipython3",
   "version": "3.12.3"
  }
 },
 "nbformat": 4,
 "nbformat_minor": 2
}
