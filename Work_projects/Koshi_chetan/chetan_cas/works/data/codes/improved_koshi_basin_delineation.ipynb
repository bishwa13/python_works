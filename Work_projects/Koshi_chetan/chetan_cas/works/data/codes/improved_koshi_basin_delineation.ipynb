{
 "cells": [
  {
   "cell_type": "markdown",
   "metadata": {},
   "source": [
    "# Improved Koshi Basin Watershed Delineation\n",
    "\n",
    "This notebook provides an improved approach to delineating the Koshi basin watershed using Google Earth Engine and Python. It uses HydroSHEDS and HydroATLAS datasets for more accurate watershed delineation."
   ]
  },
  {
   "cell_type": "markdown",
   "metadata": {},
   "source": [
    "## 1. Import Required Libraries"
   ]
  },
  {
   "cell_type": "code",
   "execution_count": 1,
   "metadata": {},
   "outputs": [],
   "source": [
    "# Import required libraries\n",
    "import os\n",
    "import numpy as np\n",
    "import pandas as pd\n",
    "import geopandas as gpd\n",
    "import matplotlib.pyplot as plt\n",
    "\n",
    "# Google Earth Engine and geemap\n",
    "import ee\n",
    "import geemap"
   ]
  },
  {
   "cell_type": "markdown",
   "metadata": {},
   "source": [
    "## 2. Initialize Google Earth Engine"
   ]
  },
  {
   "cell_type": "code",
   "execution_count": 2,
   "metadata": {},
   "outputs": [
    {
     "data": {
      "text/html": [
       "\n",
       "            <style>\n",
       "                .geemap-dark {\n",
       "                    --jp-widgets-color: white;\n",
       "                    --jp-widgets-label-color: white;\n",
       "                    --jp-ui-font-color1: white;\n",
       "                    --jp-layout-color2: #454545;\n",
       "                    background-color: #383838;\n",
       "                }\n",
       "\n",
       "                .geemap-dark .jupyter-button {\n",
       "                    --jp-layout-color3: #383838;\n",
       "                }\n",
       "\n",
       "                .geemap-colab {\n",
       "                    background-color: var(--colab-primary-surface-color, white);\n",
       "                }\n",
       "\n",
       "                .geemap-colab .jupyter-button {\n",
       "                    --jp-layout-color3: var(--colab-primary-surface-color, white);\n",
       "                }\n",
       "            </style>\n",
       "            "
      ],
      "text/plain": [
       "<IPython.core.display.HTML object>"
      ]
     },
     "metadata": {},
     "output_type": "display_data"
    },
    {
     "name": "stdout",
     "output_type": "stream",
     "text": [
      "Earth Engine initialized\n"
     ]
    }
   ],
   "source": [
    "# Initialize Earth Engine\n",
    "try:\n",
    "    ee.Initialize()\n",
    "    print(\"Earth Engine already initialized\")\n",
    "except Exception as e:\n",
    "    ee.Authenticate()\n",
    "    ee.Initialize(project='twoearthengineproject')\n",
    "    print(\"Earth Engine initialized\")"
   ]
  },
  {
   "cell_type": "markdown",
   "metadata": {},
   "source": [
    "## 3. Load and Prepare Koshi Basin Boundary"
   ]
  },
  {
   "cell_type": "code",
   "execution_count": 3,
   "metadata": {},
   "outputs": [
    {
     "data": {
      "text/html": [
       "\n",
       "            <style>\n",
       "                .geemap-dark {\n",
       "                    --jp-widgets-color: white;\n",
       "                    --jp-widgets-label-color: white;\n",
       "                    --jp-ui-font-color1: white;\n",
       "                    --jp-layout-color2: #454545;\n",
       "                    background-color: #383838;\n",
       "                }\n",
       "\n",
       "                .geemap-dark .jupyter-button {\n",
       "                    --jp-layout-color3: #383838;\n",
       "                }\n",
       "\n",
       "                .geemap-colab {\n",
       "                    background-color: var(--colab-primary-surface-color, white);\n",
       "                }\n",
       "\n",
       "                .geemap-colab .jupyter-button {\n",
       "                    --jp-layout-color3: var(--colab-primary-surface-color, white);\n",
       "                }\n",
       "            </style>\n",
       "            "
      ],
      "text/plain": [
       "<IPython.core.display.HTML object>"
      ]
     },
     "metadata": {},
     "output_type": "display_data"
    },
    {
     "data": {
      "text/html": [
       "<div>\n",
       "<style scoped>\n",
       "    .dataframe tbody tr th:only-of-type {\n",
       "        vertical-align: middle;\n",
       "    }\n",
       "\n",
       "    .dataframe tbody tr th {\n",
       "        vertical-align: top;\n",
       "    }\n",
       "\n",
       "    .dataframe thead th {\n",
       "        text-align: right;\n",
       "    }\n",
       "</style>\n",
       "<table border=\"1\" class=\"dataframe\">\n",
       "  <thead>\n",
       "    <tr style=\"text-align: right;\">\n",
       "      <th></th>\n",
       "      <th>OBJECTID</th>\n",
       "      <th>AREA</th>\n",
       "      <th>PERIMETER</th>\n",
       "      <th>PHYSIOGRA1</th>\n",
       "      <th>DESCRIPTIO</th>\n",
       "      <th>AREA_SQKM</th>\n",
       "      <th>LUT</th>\n",
       "      <th>LUT1</th>\n",
       "      <th>LUT2</th>\n",
       "      <th>LUT3</th>\n",
       "      <th>LUT4</th>\n",
       "      <th>LUT5</th>\n",
       "      <th>Shape_Leng</th>\n",
       "      <th>Shape_Area</th>\n",
       "      <th>geometry</th>\n",
       "    </tr>\n",
       "  </thead>\n",
       "  <tbody>\n",
       "    <tr>\n",
       "      <th>0</th>\n",
       "      <td>1</td>\n",
       "      <td>2.777240</td>\n",
       "      <td>35.98060</td>\n",
       "      <td>4</td>\n",
       "      <td>Middle Mountain</td>\n",
       "      <td>30169.969</td>\n",
       "      <td>82</td>\n",
       "      <td>82</td>\n",
       "      <td>82</td>\n",
       "      <td>82</td>\n",
       "      <td>100</td>\n",
       "      <td>82</td>\n",
       "      <td>9.837355</td>\n",
       "      <td>0.693225</td>\n",
       "      <td>POLYGON ((85.96258 28.00089, 85.96504 27.99955...</td>\n",
       "    </tr>\n",
       "    <tr>\n",
       "      <th>1</th>\n",
       "      <td>2</td>\n",
       "      <td>3.950470</td>\n",
       "      <td>21.69500</td>\n",
       "      <td>3</td>\n",
       "      <td>Hill</td>\n",
       "      <td>43140.850</td>\n",
       "      <td>82</td>\n",
       "      <td>82</td>\n",
       "      <td>82</td>\n",
       "      <td>70</td>\n",
       "      <td>82</td>\n",
       "      <td>82</td>\n",
       "      <td>8.279443</td>\n",
       "      <td>1.092933</td>\n",
       "      <td>POLYGON ((87.90468 27.09219, 87.90397 27.09199...</td>\n",
       "    </tr>\n",
       "    <tr>\n",
       "      <th>2</th>\n",
       "      <td>3</td>\n",
       "      <td>1.736210</td>\n",
       "      <td>19.28480</td>\n",
       "      <td>2</td>\n",
       "      <td>Siwalik</td>\n",
       "      <td>19015.184</td>\n",
       "      <td>70</td>\n",
       "      <td>82</td>\n",
       "      <td>62</td>\n",
       "      <td>82</td>\n",
       "      <td>82</td>\n",
       "      <td>82</td>\n",
       "      <td>1.846236</td>\n",
       "      <td>0.093452</td>\n",
       "      <td>POLYGON ((87.27585 26.857, 87.27595 26.85072, ...</td>\n",
       "    </tr>\n",
       "    <tr>\n",
       "      <th>3</th>\n",
       "      <td>4</td>\n",
       "      <td>0.112792</td>\n",
       "      <td>2.20076</td>\n",
       "      <td>5</td>\n",
       "      <td>High Mountain</td>\n",
       "      <td>1226.975</td>\n",
       "      <td>82</td>\n",
       "      <td>82</td>\n",
       "      <td>82</td>\n",
       "      <td>82</td>\n",
       "      <td>82</td>\n",
       "      <td>56</td>\n",
       "      <td>1.619202</td>\n",
       "      <td>0.049432</td>\n",
       "      <td>MULTIPOLYGON (((85.81252 28.19833, 85.81348 28...</td>\n",
       "    </tr>\n",
       "    <tr>\n",
       "      <th>4</th>\n",
       "      <td>5</td>\n",
       "      <td>0.343545</td>\n",
       "      <td>4.61744</td>\n",
       "      <td>5</td>\n",
       "      <td>High Mountain</td>\n",
       "      <td>3746.553</td>\n",
       "      <td>82</td>\n",
       "      <td>82</td>\n",
       "      <td>82</td>\n",
       "      <td>82</td>\n",
       "      <td>82</td>\n",
       "      <td>56</td>\n",
       "      <td>4.687494</td>\n",
       "      <td>0.339619</td>\n",
       "      <td>POLYGON ((87.3798 27.84569, 87.37972 27.82621,...</td>\n",
       "    </tr>\n",
       "  </tbody>\n",
       "</table>\n",
       "</div>"
      ],
      "text/plain": [
       "   OBJECTID      AREA  PERIMETER  PHYSIOGRA1       DESCRIPTIO  AREA_SQKM  LUT  \\\n",
       "0         1  2.777240   35.98060           4  Middle Mountain  30169.969   82   \n",
       "1         2  3.950470   21.69500           3             Hill  43140.850   82   \n",
       "2         3  1.736210   19.28480           2          Siwalik  19015.184   70   \n",
       "3         4  0.112792    2.20076           5    High Mountain   1226.975   82   \n",
       "4         5  0.343545    4.61744           5    High Mountain   3746.553   82   \n",
       "\n",
       "   LUT1  LUT2  LUT3  LUT4  LUT5  Shape_Leng  Shape_Area  \\\n",
       "0    82    82    82   100    82    9.837355    0.693225   \n",
       "1    82    82    70    82    82    8.279443    1.092933   \n",
       "2    82    62    82    82    82    1.846236    0.093452   \n",
       "3    82    82    82    82    56    1.619202    0.049432   \n",
       "4    82    82    82    82    56    4.687494    0.339619   \n",
       "\n",
       "                                            geometry  \n",
       "0  POLYGON ((85.96258 28.00089, 85.96504 27.99955...  \n",
       "1  POLYGON ((87.90468 27.09219, 87.90397 27.09199...  \n",
       "2  POLYGON ((87.27585 26.857, 87.27595 26.85072, ...  \n",
       "3  MULTIPOLYGON (((85.81252 28.19833, 85.81348 28...  \n",
       "4  POLYGON ((87.3798 27.84569, 87.37972 27.82621,...  "
      ]
     },
     "execution_count": 3,
     "metadata": {},
     "output_type": "execute_result"
    }
   ],
   "source": [
    "# Load the Koshi basin shapefile\n",
    "koshi_basin_path = r\"G:\\learn\\python_works\\Work_projects\\Koshi_chetan\\chetan_cas\\works\\data\\gis\\koshi_basin_nepal\\koshi_nepal_basin.shp\"\n",
    "physio_koshi = gpd.read_file(koshi_basin_path)\n",
    "\n",
    "# Display the first few rows of the shapefile\n",
    "physio_koshi.head()"
   ]
  },
  {
   "cell_type": "code",
   "execution_count": 4,
   "metadata": {},
   "outputs": [
    {
     "data": {
      "text/html": [
       "\n",
       "            <style>\n",
       "                .geemap-dark {\n",
       "                    --jp-widgets-color: white;\n",
       "                    --jp-widgets-label-color: white;\n",
       "                    --jp-ui-font-color1: white;\n",
       "                    --jp-layout-color2: #454545;\n",
       "                    background-color: #383838;\n",
       "                }\n",
       "\n",
       "                .geemap-dark .jupyter-button {\n",
       "                    --jp-layout-color3: #383838;\n",
       "                }\n",
       "\n",
       "                .geemap-colab {\n",
       "                    background-color: var(--colab-primary-surface-color, white);\n",
       "                }\n",
       "\n",
       "                .geemap-colab .jupyter-button {\n",
       "                    --jp-layout-color3: var(--colab-primary-surface-color, white);\n",
       "                }\n",
       "            </style>\n",
       "            "
      ],
      "text/plain": [
       "<IPython.core.display.HTML object>"
      ]
     },
     "metadata": {},
     "output_type": "display_data"
    },
    {
     "data": {
      "image/png": "[encoded data removed]",
      "text/plain": [
       "<Figure size 1000x1000 with 1 Axes>"
      ]
     },
     "metadata": {},
     "output_type": "display_data"
    }
   ],
   "source": [
    "# Plot the Koshi basin boundary\n",
    "fig, ax = plt.subplots(figsize=(10, 10))\n",
    "physio_koshi.plot(ax=ax)\n",
    "ax.set_title('Koshi Basin Boundary')\n",
    "plt.show()"
   ]
  },
  {
   "cell_type": "code",
   "execution_count": 5,
   "metadata": {},
   "outputs": [
    {
     "data": {
      "text/html": [
       "\n",
       "            <style>\n",
       "                .geemap-dark {\n",
       "                    --jp-widgets-color: white;\n",
       "                    --jp-widgets-label-color: white;\n",
       "                    --jp-ui-font-color1: white;\n",
       "                    --jp-layout-color2: #454545;\n",
       "                    background-color: #383838;\n",
       "                }\n",
       "\n",
       "                .geemap-dark .jupyter-button {\n",
       "                    --jp-layout-color3: #383838;\n",
       "                }\n",
       "\n",
       "                .geemap-colab {\n",
       "                    background-color: var(--colab-primary-surface-color, white);\n",
       "                }\n",
       "\n",
       "                .geemap-colab .jupyter-button {\n",
       "                    --jp-layout-color3: var(--colab-primary-surface-color, white);\n",
       "                }\n",
       "            </style>\n",
       "            "
      ],
      "text/plain": [
       "<IPython.core.display.HTML object>"
      ]
     },
     "metadata": {},
     "output_type": "display_data"
    },
    {
     "name": "stdout",
     "output_type": "stream",
     "text": [
      "Koshi basin converted to Earth Engine feature collection\n"
     ]
    }
   ],
   "source": [
    "# Dissolve the Koshi basin to get a single polygon\n",
    "whole_koshi_basin = physio_koshi.dissolve()\n",
    "\n",
    "# Convert to Earth Engine feature collection\n",
    "ee_koshi_basin = geemap.geopandas_to_ee(whole_koshi_basin)\n",
    "print(\"Koshi basin converted to Earth Engine feature collection\")"
   ]
  },
  {
   "cell_type": "code",
   "execution_count": null,
   "metadata": {},
   "outputs": [],
   "source": []
  },
  {
   "cell_type": "code",
   "execution_count": 14,
   "metadata": {},
   "outputs": [
    {
     "data": {
      "text/html": [
       "\n",
       "            <style>\n",
       "                .geemap-dark {\n",
       "                    --jp-widgets-color: white;\n",
       "                    --jp-widgets-label-color: white;\n",
       "                    --jp-ui-font-color1: white;\n",
       "                    --jp-layout-color2: #454545;\n",
       "                    background-color: #383838;\n",
       "                }\n",
       "\n",
       "                .geemap-dark .jupyter-button {\n",
       "                    --jp-layout-color3: #383838;\n",
       "                }\n",
       "\n",
       "                .geemap-colab {\n",
       "                    background-color: var(--colab-primary-surface-color, white);\n",
       "                }\n",
       "\n",
       "                .geemap-colab .jupyter-button {\n",
       "                    --jp-layout-color3: var(--colab-primary-surface-color, white);\n",
       "                }\n",
       "            </style>\n",
       "            "
      ],
      "text/plain": [
       "<IPython.core.display.HTML object>"
      ]
     },
     "metadata": {},
     "output_type": "display_data"
    },
    {
     "ename": "NameError",
     "evalue": "name 'folium' is not defined",
     "output_type": "error",
     "traceback": [
      "\u001b[31m---------------------------------------------------------------------------\u001b[39m",
      "\u001b[31mNameError\u001b[39m                                 Traceback (most recent call last)",
      "\u001b[36mCell\u001b[39m\u001b[36m \u001b[39m\u001b[32mIn[14]\u001b[39m\u001b[32m, line 52\u001b[39m\n\u001b[32m     43\u001b[39m     map_id_dict = ee.Image(ee_image_object).getMapId(vis_params)\n\u001b[32m     44\u001b[39m     folium.raster_layers.TileLayer(\n\u001b[32m     45\u001b[39m         tiles=map_id_dict[\u001b[33m'\u001b[39m\u001b[33mtile_fetcher\u001b[39m\u001b[33m'\u001b[39m].url_format,\n\u001b[32m     46\u001b[39m         attr=\u001b[33m'\u001b[39m\u001b[33mGoogle Earth Engine\u001b[39m\u001b[33m'\u001b[39m,\n\u001b[32m   (...)\u001b[39m\u001b[32m     49\u001b[39m         control=\u001b[38;5;28;01mTrue\u001b[39;00m\n\u001b[32m     50\u001b[39m     ).add_to(\u001b[38;5;28mself\u001b[39m)\n\u001b[32m---> \u001b[39m\u001b[32m52\u001b[39m \u001b[43mfolium\u001b[49m.Map.add_ee_layer = add_ee_layer\n\u001b[32m     54\u001b[39m \u001b[38;5;66;03m# Create base map\u001b[39;00m\n\u001b[32m     55\u001b[39m center = point.coordinates().getInfo()[::-\u001b[32m1\u001b[39m]  \u001b[38;5;66;03m# lat, lon\u001b[39;00m\n",
      "\u001b[31mNameError\u001b[39m: name 'folium' is not defined"
     ]
    }
   ],
   "source": [
    "# Pour point coordinates (lon, lat)\n",
    "lon, lat = 86.93058173849101, 26.533420103187844\n",
    "point = ee.Geometry.Point([lon, lat])\n",
    "\n",
    "# Load HydroATLAS Level 12 basins\n",
    "basins = ee.FeatureCollection('WWF/HydroATLAS/v1/Basins/level12')\n",
    "\n",
    "# Find the starting basin\n",
    "start_basin = basins.filterBounds(point).first()\n",
    "start_id = start_basin.getNumber('HYBAS_ID')\n",
    "\n",
    "# Iterative upstream search\n",
    "def find_upstream(all_basins, start_id):\n",
    "    ids_to_check = ee.List([start_id])\n",
    "    all_ids = ee.List([start_id])\n",
    "\n",
    "    def loop_function(_, loop_data):\n",
    "        loop_data = ee.Dictionary(loop_data)\n",
    "        ids_to_check = ee.List(loop_data.get('ids_to_check'))\n",
    "        all_ids = ee.List(loop_data.get('all_ids'))\n",
    "\n",
    "        upstream = all_basins.filter(ee.Filter.inList('NEXT_DOWN', ids_to_check))\n",
    "        new_ids = upstream.aggregate_array('HYBAS_ID').distinct().removeAll(all_ids)\n",
    "\n",
    "        return ee.Dictionary({\n",
    "            'ids_to_check': new_ids,\n",
    "            'all_ids': all_ids.cat(new_ids)\n",
    "        })\n",
    "\n",
    "    result = ee.Dictionary(ee.List.sequence(0, 50).iterate(loop_function, {\n",
    "        'ids_to_check': ids_to_check,\n",
    "        'all_ids': all_ids\n",
    "    }))\n",
    "\n",
    "    return all_basins.filter(ee.Filter.inList('HYBAS_ID', result.get('all_ids')))\n",
    "\n",
    "# Get all upstream basins\n",
    "all_upstream_basins = find_upstream(basins, start_id)\n",
    "\n",
    "# ---- Visualization in folium ---- #\n",
    "# Convert EE layers to map tiles\n",
    "def add_ee_layer(self, ee_image_object, vis_params, name):\n",
    "    map_id_dict = ee.Image(ee_image_object).getMapId(vis_params)\n",
    "    folium.raster_layers.TileLayer(\n",
    "        tiles=map_id_dict['tile_fetcher'].url_format,\n",
    "        attr='Google Earth Engine',\n",
    "        name=name,\n",
    "        overlay=True,\n",
    "        control=True\n",
    "    ).add_to(self)\n",
    "\n",
    "folium.Map.add_ee_layer = add_ee_layer\n",
    "\n",
    "# Create base map\n",
    "center = point.coordinates().getInfo()[::-1]  # lat, lon\n",
    "m = folium.Map(location=center, zoom_start=9)\n",
    "\n",
    "# Add DEM\n",
    "dem = ee.Image('NASA/NASADEM_HGT/001').select('elevation')\n",
    "m.add_ee_layer(dem, {'min':0, 'max':4000, 'palette':['blue','green','brown','white']}, 'DEM')\n",
    "\n",
    "# Style and add upstream basins\n",
    "styled_basins = all_upstream_basins.style(color='blue', fillColor='00000000', width=2)\n",
    "m.add_ee_layer(styled_basins, {}, 'Upstream Basins')\n",
    "\n",
    "# Add pour point\n",
    "folium.Marker(location=center, popup=\"Pour Point\", icon=folium.Icon(color='red')).add_to(m)\n",
    "\n",
    "# Add layer control\n",
    "folium.LayerControl().add_to(m)\n",
    "\n",
    "# Show map\n",
    "m.save(\"upstream_basins_map.html\")\n",
    "print(\"Map saved to 'upstream_basins_map.html'. Open it in your browser.\")"
   ]
  },
  {
   "cell_type": "code",
   "execution_count": null,
   "metadata": {},
   "outputs": [],
   "source": []
  },
  {
   "cell_type": "code",
   "execution_count": null,
   "metadata": {},
   "outputs": [],
   "source": []
  },
  {
   "cell_type": "code",
   "execution_count": null,
   "metadata": {},
   "outputs": [],
   "source": []
  },
  {
   "cell_type": "code",
   "execution_count": null,
   "metadata": {},
   "outputs": [],
   "source": []
  },
  {
   "cell_type": "markdown",
   "metadata": {},
   "source": [
    "## 4. Watershed Delineation using HydroSHEDS and HydroATLAS\n",
    "\n",
    "We'll use multiple levels of HydroATLAS to get more detailed watershed boundaries."
   ]
  },
  {
   "cell_type": "code",
   "execution_count": 6,
   "metadata": {},
   "outputs": [
    {
     "data": {
      "text/html": [
       "\n",
       "            <style>\n",
       "                .geemap-dark {\n",
       "                    --jp-widgets-color: white;\n",
       "                    --jp-widgets-label-color: white;\n",
       "                    --jp-ui-font-color1: white;\n",
       "                    --jp-layout-color2: #454545;\n",
       "                    background-color: #383838;\n",
       "                }\n",
       "\n",
       "                .geemap-dark .jupyter-button {\n",
       "                    --jp-layout-color3: #383838;\n",
       "                }\n",
       "\n",
       "                .geemap-colab {\n",
       "                    background-color: var(--colab-primary-surface-color, white);\n",
       "                }\n",
       "\n",
       "                .geemap-colab .jupyter-button {\n",
       "                    --jp-layout-color3: var(--colab-primary-surface-color, white);\n",
       "                }\n",
       "            </style>\n",
       "            "
      ],
      "text/plain": [
       "<IPython.core.display.HTML object>"
      ]
     },
     "metadata": {},
     "output_type": "display_data"
    }
   ],
   "source": [
    "# Define the point of interest (Chatara dam)\n",
    "chatara_dam = ee.Geometry.Point([87.165, 26.732])\n",
    "\n",
    "# Load HydroATLAS datasets at different levels for comparison\n",
    "hydroatlas_level05 = ee.FeatureCollection(\"WWF/HydroATLAS/v1/Basins/level05\")\n",
    "hydroatlas_level07 = ee.FeatureCollection(\"WWF/HydroATLAS/v1/Basins/level07\")\n",
    "hydroatlas_level08 = ee.FeatureCollection(\"WWF/HydroATLAS/v1/Basins/level08\")\n",
    "hydroatlas_level09 = ee.FeatureCollection(\"WWF/HydroATLAS/v1/Basins/level09\")\n",
    "hydroatlas_level12 = ee.FeatureCollection(\"WWF/HydroATLAS/v1/Basins/level12\")"
   ]
  },
  {
   "cell_type": "code",
   "execution_count": 7,
   "metadata": {},
   "outputs": [
    {
     "data": {
      "text/html": [
       "\n",
       "            <style>\n",
       "                .geemap-dark {\n",
       "                    --jp-widgets-color: white;\n",
       "                    --jp-widgets-label-color: white;\n",
       "                    --jp-ui-font-color1: white;\n",
       "                    --jp-layout-color2: #454545;\n",
       "                    background-color: #383838;\n",
       "                }\n",
       "\n",
       "                .geemap-dark .jupyter-button {\n",
       "                    --jp-layout-color3: #383838;\n",
       "                }\n",
       "\n",
       "                .geemap-colab {\n",
       "                    background-color: var(--colab-primary-surface-color, white);\n",
       "                }\n",
       "\n",
       "                .geemap-colab .jupyter-button {\n",
       "                    --jp-layout-color3: var(--colab-primary-surface-color, white);\n",
       "                }\n",
       "            </style>\n",
       "            "
      ],
      "text/plain": [
       "<IPython.core.display.HTML object>"
      ]
     },
     "metadata": {},
     "output_type": "display_data"
    }
   ],
   "source": [
    "# Function to get the basin containing a point\n",
    "def get_basin_at_point(hydroatlas, point):\n",
    "    return hydroatlas.filterBounds(point).first()\n",
    "\n",
    "# Function to get all upstream basins\n",
    "def get_upstream_basins(hydroatlas, start_basin, max_iterations=100):\n",
    "    # Create a list of numbers to iterate over on the server side\n",
    "    iteration_list = ee.List.sequence(1, max_iterations)\n",
    "    \n",
    "    # Define the initial state (the starting basin)\n",
    "    initial_collection = ee.FeatureCollection([start_basin])\n",
    "    \n",
    "    # The function to be applied at each iteration\n",
    "    def iterate_body(number, current_collection):\n",
    "        current_collection = ee.FeatureCollection(current_collection)\n",
    "        \n",
    "        # Get the IDs of the current basins\n",
    "        basin_ids = current_collection.aggregate_array('HYBAS_ID')\n",
    "        \n",
    "        # Find all basins whose 'NEXT_DOWN' ID is in our current collection\n",
    "        upstream_features = hydroatlas.filter(ee.Filter.inList('NEXT_DOWN', basin_ids))\n",
    "        \n",
    "        # Merge the new basins into the collection\n",
    "        return current_collection.merge(upstream_features)\n",
    "    \n",
    "    # Run the iterate function and get the final collection\n",
    "    result_collection = ee.FeatureCollection(\n",
    "        iteration_list.iterate(iterate_body, initial_collection)\n",
    "    )\n",
    "    \n",
    "    return result_collection"
   ]
  },
  {
   "cell_type": "code",
   "execution_count": 8,
   "metadata": {},
   "outputs": [
    {
     "data": {
      "text/html": [
       "\n",
       "            <style>\n",
       "                .geemap-dark {\n",
       "                    --jp-widgets-color: white;\n",
       "                    --jp-widgets-label-color: white;\n",
       "                    --jp-ui-font-color1: white;\n",
       "                    --jp-layout-color2: #454545;\n",
       "                    background-color: #383838;\n",
       "                }\n",
       "\n",
       "                .geemap-dark .jupyter-button {\n",
       "                    --jp-layout-color3: #383838;\n",
       "                }\n",
       "\n",
       "                .geemap-colab {\n",
       "                    background-color: var(--colab-primary-surface-color, white);\n",
       "                }\n",
       "\n",
       "                .geemap-colab .jupyter-button {\n",
       "                    --jp-layout-color3: var(--colab-primary-surface-color, white);\n",
       "                }\n",
       "            </style>\n",
       "            "
      ],
      "text/plain": [
       "<IPython.core.display.HTML object>"
      ]
     },
     "metadata": {},
     "output_type": "display_data"
    }
   ],
   "source": [
    "# Get the basin containing Chatara dam at different levels\n",
    "basin_level07 = get_basin_at_point(hydroatlas_level07, chatara_dam)\n",
    "basin_level08 = get_basin_at_point(hydroatlas_level08, chatara_dam)\n",
    "basin_level09 = get_basin_at_point(hydroatlas_level09, chatara_dam)\n",
    "basin_level12 = get_basin_at_point(hydroatlas_level12, chatara_dam)\n",
    "\n",
    "# Get all upstream basins at different levels\n",
    "upstream_level07 = get_upstream_basins(hydroatlas_level07, basin_level07)\n",
    "upstream_level08 = get_upstream_basins(hydroatlas_level08, basin_level08)\n",
    "upstream_level09 = get_upstream_basins(hydroatlas_level09, basin_level09)\n",
    "upstream_level12 = get_upstream_basins(hydroatlas_level12, basin_level12)"
   ]
  },
  {
   "cell_type": "markdown",
   "metadata": {},
   "source": [
    "## 5. Visualize the Results"
   ]
  },
  {
   "cell_type": "code",
   "execution_count": 13,
   "metadata": {},
   "outputs": [
    {
     "data": {
      "text/html": [
       "\n",
       "            <style>\n",
       "                .geemap-dark {\n",
       "                    --jp-widgets-color: white;\n",
       "                    --jp-widgets-label-color: white;\n",
       "                    --jp-ui-font-color1: white;\n",
       "                    --jp-layout-color2: #454545;\n",
       "                    background-color: #383838;\n",
       "                }\n",
       "\n",
       "                .geemap-dark .jupyter-button {\n",
       "                    --jp-layout-color3: #383838;\n",
       "                }\n",
       "\n",
       "                .geemap-colab {\n",
       "                    background-color: var(--colab-primary-surface-color, white);\n",
       "                }\n",
       "\n",
       "                .geemap-colab .jupyter-button {\n",
       "                    --jp-layout-color3: var(--colab-primary-surface-color, white);\n",
       "                }\n",
       "            </style>\n",
       "            "
      ],
      "text/plain": [
       "<IPython.core.display.HTML object>"
      ]
     },
     "metadata": {},
     "output_type": "display_data"
    },
    {
     "ename": "EEException",
     "evalue": "Computation timed out.",
     "output_type": "error",
     "traceback": [
      "\u001b[31m---------------------------------------------------------------------------\u001b[39m",
      "\u001b[31mHttpError\u001b[39m                                 Traceback (most recent call last)",
      "\u001b[36mFile \u001b[39m\u001b[32mc:\\ProgramData\\anaconda3\\envs\\code_paper\\Lib\\site-packages\\ee\\data.py:409\u001b[39m, in \u001b[36m_execute_cloud_call\u001b[39m\u001b[34m(call, num_retries)\u001b[39m\n\u001b[32m    408\u001b[39m \u001b[38;5;28;01mtry\u001b[39;00m:\n\u001b[32m--> \u001b[39m\u001b[32m409\u001b[39m   \u001b[38;5;28;01mreturn\u001b[39;00m \u001b[43mcall\u001b[49m\u001b[43m.\u001b[49m\u001b[43mexecute\u001b[49m\u001b[43m(\u001b[49m\u001b[43mnum_retries\u001b[49m\u001b[43m=\u001b[49m\u001b[43mnum_retries\u001b[49m\u001b[43m)\u001b[49m\n\u001b[32m    410\u001b[39m \u001b[38;5;28;01mexcept\u001b[39;00m googleapiclient.errors.HttpError \u001b[38;5;28;01mas\u001b[39;00m e:\n",
      "\u001b[36mFile \u001b[39m\u001b[32mc:\\ProgramData\\anaconda3\\envs\\code_paper\\Lib\\site-packages\\googleapiclient\\_helpers.py:130\u001b[39m, in \u001b[36mpositional.<locals>.positional_decorator.<locals>.positional_wrapper\u001b[39m\u001b[34m(*args, **kwargs)\u001b[39m\n\u001b[32m    129\u001b[39m         logger.warning(message)\n\u001b[32m--> \u001b[39m\u001b[32m130\u001b[39m \u001b[38;5;28;01mreturn\u001b[39;00m \u001b[43mwrapped\u001b[49m\u001b[43m(\u001b[49m\u001b[43m*\u001b[49m\u001b[43margs\u001b[49m\u001b[43m,\u001b[49m\u001b[43m \u001b[49m\u001b[43m*\u001b[49m\u001b[43m*\u001b[49m\u001b[43mkwargs\u001b[49m\u001b[43m)\u001b[49m\n",
      "\u001b[36mFile \u001b[39m\u001b[32mc:\\ProgramData\\anaconda3\\envs\\code_paper\\Lib\\site-packages\\googleapiclient\\http.py:938\u001b[39m, in \u001b[36mHttpRequest.execute\u001b[39m\u001b[34m(self, http, num_retries)\u001b[39m\n\u001b[32m    937\u001b[39m \u001b[38;5;28;01mif\u001b[39;00m resp.status >= \u001b[32m300\u001b[39m:\n\u001b[32m--> \u001b[39m\u001b[32m938\u001b[39m     \u001b[38;5;28;01mraise\u001b[39;00m HttpError(resp, content, uri=\u001b[38;5;28mself\u001b[39m.uri)\n\u001b[32m    939\u001b[39m \u001b[38;5;28;01mreturn\u001b[39;00m \u001b[38;5;28mself\u001b[39m.postproc(resp, content)\n",
      "\u001b[31mHttpError\u001b[39m: <HttpError 400 when requesting https://earthengine.googleapis.com/v1/projects/twoearthengineproject/maps?fields=name&alt=json returned \"Computation timed out.\". Details: \"Computation timed out.\">",
      "\nDuring handling of the above exception, another exception occurred:\n",
      "\u001b[31mEEException\u001b[39m                               Traceback (most recent call last)",
      "\u001b[36mCell\u001b[39m\u001b[36m \u001b[39m\u001b[32mIn[13]\u001b[39m\u001b[32m, line 9\u001b[39m\n\u001b[32m      5\u001b[39m Map.addLayer(ee_koshi_basin, {\u001b[33m'\u001b[39m\u001b[33mcolor\u001b[39m\u001b[33m'\u001b[39m: \u001b[33m'\u001b[39m\u001b[33mblack\u001b[39m\u001b[33m'\u001b[39m}, \u001b[33m'\u001b[39m\u001b[33mKoshi Basin Boundary\u001b[39m\u001b[33m'\u001b[39m)\n\u001b[32m      7\u001b[39m \u001b[38;5;66;03m# Add the upstream basins at different levels with different colors\u001b[39;00m\n\u001b[32m----> \u001b[39m\u001b[32m9\u001b[39m \u001b[43mMap\u001b[49m\u001b[43m.\u001b[49m\u001b[43maddLayer\u001b[49m\u001b[43m(\u001b[49m\u001b[43mupstream_level12\u001b[49m\u001b[43m.\u001b[49m\u001b[43mstyle\u001b[49m\u001b[43m(\u001b[49m\u001b[43mcolor\u001b[49m\u001b[43m=\u001b[49m\u001b[33;43m'\u001b[39;49m\u001b[33;43mpurple\u001b[39;49m\u001b[33;43m'\u001b[39;49m\u001b[43m,\u001b[49m\u001b[43m \u001b[49m\u001b[43mfillColor\u001b[49m\u001b[43m=\u001b[49m\u001b[33;43m'\u001b[39;49m\u001b[33;43mpurple\u001b[39;49m\u001b[33;43m'\u001b[39;49m\u001b[43m)\u001b[49m\u001b[43m,\u001b[49m\u001b[43m \u001b[49m\u001b[43m{\u001b[49m\u001b[43m}\u001b[49m\u001b[43m,\u001b[49m\u001b[43m \u001b[49m\u001b[33;43m'\u001b[39;49m\u001b[33;43mLevel 12 Basins\u001b[39;49m\u001b[33;43m'\u001b[39;49m\u001b[43m)\u001b[49m\n\u001b[32m     11\u001b[39m \u001b[38;5;66;03m# Add the Chatara dam point\u001b[39;00m\n\u001b[32m     12\u001b[39m Map.addLayer(chatara_dam, {\u001b[33m'\u001b[39m\u001b[33mcolor\u001b[39m\u001b[33m'\u001b[39m: \u001b[33m'\u001b[39m\u001b[33mred\u001b[39m\u001b[33m'\u001b[39m}, \u001b[33m'\u001b[39m\u001b[33mChatara Dam\u001b[39m\u001b[33m'\u001b[39m)\n",
      "\u001b[36mFile \u001b[39m\u001b[32mc:\\ProgramData\\anaconda3\\envs\\code_paper\\Lib\\site-packages\\geemap\\geemap.py:437\u001b[39m, in \u001b[36mMap.add_ee_layer\u001b[39m\u001b[34m(self, ee_object, vis_params, name, shown, opacity)\u001b[39m\n\u001b[32m    432\u001b[39m         \u001b[38;5;28;01mif\u001b[39;00m has_plot_dropdown:\n\u001b[32m    433\u001b[39m             \u001b[38;5;28mself\u001b[39m._plot_dropdown_widget.options = \u001b[38;5;28mlist\u001b[39m(\n\u001b[32m    434\u001b[39m                 \u001b[38;5;28mself\u001b[39m.ee_raster_layers.keys()\n\u001b[32m    435\u001b[39m             )\n\u001b[32m--> \u001b[39m\u001b[32m437\u001b[39m \u001b[38;5;28;43msuper\u001b[39;49m\u001b[43m(\u001b[49m\u001b[43m)\u001b[49m\u001b[43m.\u001b[49m\u001b[43madd_layer\u001b[49m\u001b[43m(\u001b[49m\u001b[43mee_object\u001b[49m\u001b[43m,\u001b[49m\u001b[43m \u001b[49m\u001b[43mvis_params\u001b[49m\u001b[43m,\u001b[49m\u001b[43m \u001b[49m\u001b[43mname\u001b[49m\u001b[43m,\u001b[49m\u001b[43m \u001b[49m\u001b[43mshown\u001b[49m\u001b[43m,\u001b[49m\u001b[43m \u001b[49m\u001b[43mopacity\u001b[49m\u001b[43m)\u001b[49m\n\u001b[32m    439\u001b[39m \u001b[38;5;28;01mif\u001b[39;00m \u001b[38;5;28misinstance\u001b[39m(ee_object, (ee.Image, ee.ImageCollection)):\n\u001b[32m    440\u001b[39m     \u001b[38;5;28;01mif\u001b[39;00m has_plot_dropdown:\n",
      "\u001b[36mFile \u001b[39m\u001b[32mc:\\ProgramData\\anaconda3\\envs\\code_paper\\Lib\\site-packages\\geemap\\core.py:1203\u001b[39m, in \u001b[36mMap.add_layer\u001b[39m\u001b[34m(self, ee_object, vis_params, name, shown, opacity)\u001b[39m\n\u001b[32m   1201\u001b[39m \u001b[38;5;28;01mif\u001b[39;00m \u001b[38;5;28misinstance\u001b[39m(ee_object, ee.ImageCollection):\n\u001b[32m   1202\u001b[39m     ee_object = ee_object.mosaic()\n\u001b[32m-> \u001b[39m\u001b[32m1203\u001b[39m tile_layer = \u001b[43mee_tile_layers\u001b[49m\u001b[43m.\u001b[49m\u001b[43mEELeafletTileLayer\u001b[49m\u001b[43m(\u001b[49m\n\u001b[32m   1204\u001b[39m \u001b[43m    \u001b[49m\u001b[43mee_object\u001b[49m\u001b[43m,\u001b[49m\u001b[43m \u001b[49m\u001b[43mvis_params\u001b[49m\u001b[43m,\u001b[49m\u001b[43m \u001b[49m\u001b[43mname\u001b[49m\u001b[43m,\u001b[49m\u001b[43m \u001b[49m\u001b[43mshown\u001b[49m\u001b[43m,\u001b[49m\u001b[43m \u001b[49m\u001b[43mopacity\u001b[49m\n\u001b[32m   1205\u001b[39m \u001b[43m\u001b[49m\u001b[43m)\u001b[49m\n\u001b[32m   1207\u001b[39m \u001b[38;5;66;03m# Remove the layer if it already exists.\u001b[39;00m\n\u001b[32m   1208\u001b[39m \u001b[38;5;28mself\u001b[39m.remove(name)\n",
      "\u001b[36mFile \u001b[39m\u001b[32mc:\\ProgramData\\anaconda3\\envs\\code_paper\\Lib\\site-packages\\geemap\\ee_tile_layers.py:206\u001b[39m, in \u001b[36mEELeafletTileLayer.__init__\u001b[39m\u001b[34m(self, ee_object, vis_params, name, shown, opacity, **kwargs)\u001b[39m\n\u001b[32m    192\u001b[39m \u001b[38;5;250m\u001b[39m\u001b[33;03m\"\"\"Initialize the ipyleaflet tile layer.\u001b[39;00m\n\u001b[32m    193\u001b[39m \n\u001b[32m    194\u001b[39m \u001b[33;03mArgs:\u001b[39;00m\n\u001b[32m   (...)\u001b[39m\u001b[32m    203\u001b[39m \u001b[33;03m        number between 0 and 1. Defaults to 1.\u001b[39;00m\n\u001b[32m    204\u001b[39m \u001b[33;03m\"\"\"\u001b[39;00m\n\u001b[32m    205\u001b[39m \u001b[38;5;28mself\u001b[39m._ee_object = ee_object\n\u001b[32m--> \u001b[39m\u001b[32m206\u001b[39m \u001b[38;5;28mself\u001b[39m.url_format = \u001b[43m_get_tile_url_format\u001b[49m\u001b[43m(\u001b[49m\n\u001b[32m    207\u001b[39m \u001b[43m    \u001b[49m\u001b[43mee_object\u001b[49m\u001b[43m,\u001b[49m\u001b[43m \u001b[49m\u001b[43m_validate_vis_params\u001b[49m\u001b[43m(\u001b[49m\u001b[43mvis_params\u001b[49m\u001b[43m)\u001b[49m\n\u001b[32m    208\u001b[39m \u001b[43m\u001b[49m\u001b[43m)\u001b[49m\n\u001b[32m    209\u001b[39m \u001b[38;5;28msuper\u001b[39m().\u001b[34m__init__\u001b[39m(\n\u001b[32m    210\u001b[39m     url=\u001b[38;5;28mself\u001b[39m.url_format,\n\u001b[32m    211\u001b[39m     attribution=\u001b[33m\"\u001b[39m\u001b[33mGoogle Earth Engine\u001b[39m\u001b[33m\"\u001b[39m,\n\u001b[32m   (...)\u001b[39m\u001b[32m    216\u001b[39m     **kwargs,\n\u001b[32m    217\u001b[39m )\n",
      "\u001b[36mFile \u001b[39m\u001b[32mc:\\ProgramData\\anaconda3\\envs\\code_paper\\Lib\\site-packages\\geemap\\ee_tile_layers.py:36\u001b[39m, in \u001b[36m_get_tile_url_format\u001b[39m\u001b[34m(ee_object, vis_params)\u001b[39m\n\u001b[32m     25\u001b[39m \u001b[38;5;250m\u001b[39m\u001b[33;03m\"\"\"Gets the tile URL format for an EE object.\u001b[39;00m\n\u001b[32m     26\u001b[39m \n\u001b[32m     27\u001b[39m \u001b[33;03mArgs:\u001b[39;00m\n\u001b[32m   (...)\u001b[39m\u001b[32m     33\u001b[39m \u001b[33;03m    str: The tile URL format.\u001b[39;00m\n\u001b[32m     34\u001b[39m \u001b[33;03m\"\"\"\u001b[39;00m\n\u001b[32m     35\u001b[39m image = _ee_object_to_image(ee_object, vis_params)\n\u001b[32m---> \u001b[39m\u001b[32m36\u001b[39m map_id_dict = \u001b[43mee\u001b[49m\u001b[43m.\u001b[49m\u001b[43mImage\u001b[49m\u001b[43m(\u001b[49m\u001b[43mimage\u001b[49m\u001b[43m)\u001b[49m\u001b[43m.\u001b[49m\u001b[43mgetMapId\u001b[49m\u001b[43m(\u001b[49m\u001b[43mvis_params\u001b[49m\u001b[43m)\u001b[49m\n\u001b[32m     37\u001b[39m \u001b[38;5;28;01mreturn\u001b[39;00m map_id_dict[\u001b[33m\"\u001b[39m\u001b[33mtile_fetcher\u001b[39m\u001b[33m\"\u001b[39m].url_format\n",
      "\u001b[36mFile \u001b[39m\u001b[32mc:\\ProgramData\\anaconda3\\envs\\code_paper\\Lib\\site-packages\\ee\\image.py:154\u001b[39m, in \u001b[36mImage.getMapId\u001b[39m\u001b[34m(self, vis_params)\u001b[39m\n\u001b[32m    152\u001b[39m vis_image, request = \u001b[38;5;28mself\u001b[39m._apply_visualization(vis_params)\n\u001b[32m    153\u001b[39m request[\u001b[33m'\u001b[39m\u001b[33mimage\u001b[39m\u001b[33m'\u001b[39m] = vis_image\n\u001b[32m--> \u001b[39m\u001b[32m154\u001b[39m response = \u001b[43mdata\u001b[49m\u001b[43m.\u001b[49m\u001b[43mgetMapId\u001b[49m\u001b[43m(\u001b[49m\u001b[43mrequest\u001b[49m\u001b[43m)\u001b[49m\n\u001b[32m    155\u001b[39m response[\u001b[33m'\u001b[39m\u001b[33mimage\u001b[39m\u001b[33m'\u001b[39m] = \u001b[38;5;28mself\u001b[39m\n\u001b[32m    156\u001b[39m \u001b[38;5;28;01mreturn\u001b[39;00m response\n",
      "\u001b[36mFile \u001b[39m\u001b[32mc:\\ProgramData\\anaconda3\\envs\\code_paper\\Lib\\site-packages\\ee\\data.py:751\u001b[39m, in \u001b[36mgetMapId\u001b[39m\u001b[34m(params)\u001b[39m\n\u001b[32m    746\u001b[39m queryParams = {\n\u001b[32m    747\u001b[39m     \u001b[33m'\u001b[39m\u001b[33mfields\u001b[39m\u001b[33m'\u001b[39m: \u001b[33m'\u001b[39m\u001b[33mname\u001b[39m\u001b[33m'\u001b[39m,\n\u001b[32m    748\u001b[39m     \u001b[33m'\u001b[39m\u001b[33mbody\u001b[39m\u001b[33m'\u001b[39m: request,\n\u001b[32m    749\u001b[39m }\n\u001b[32m    750\u001b[39m _maybe_populate_workload_tag(queryParams)\n\u001b[32m--> \u001b[39m\u001b[32m751\u001b[39m result = \u001b[43m_execute_cloud_call\u001b[49m\u001b[43m(\u001b[49m\n\u001b[32m    752\u001b[39m \u001b[43m    \u001b[49m\u001b[43m_get_cloud_projects\u001b[49m\u001b[43m(\u001b[49m\u001b[43m)\u001b[49m\n\u001b[32m    753\u001b[39m \u001b[43m    \u001b[49m\u001b[43m.\u001b[49m\u001b[43mmaps\u001b[49m\u001b[43m(\u001b[49m\u001b[43m)\u001b[49m\n\u001b[32m    754\u001b[39m \u001b[43m    \u001b[49m\u001b[43m.\u001b[49m\u001b[43mcreate\u001b[49m\u001b[43m(\u001b[49m\u001b[43mparent\u001b[49m\u001b[43m=\u001b[49m\u001b[43m_get_projects_path\u001b[49m\u001b[43m(\u001b[49m\u001b[43m)\u001b[49m\u001b[43m,\u001b[49m\u001b[43m \u001b[49m\u001b[43m*\u001b[49m\u001b[43m*\u001b[49m\u001b[43mqueryParams\u001b[49m\u001b[43m)\u001b[49m\n\u001b[32m    755\u001b[39m \u001b[43m\u001b[49m\u001b[43m)\u001b[49m\n\u001b[32m    756\u001b[39m map_name = result[\u001b[33m'\u001b[39m\u001b[33mname\u001b[39m\u001b[33m'\u001b[39m]\n\u001b[32m    757\u001b[39m url_format = \u001b[33m'\u001b[39m\u001b[38;5;132;01m%s\u001b[39;00m\u001b[33m/\u001b[39m\u001b[38;5;132;01m%s\u001b[39;00m\u001b[33m/\u001b[39m\u001b[38;5;132;01m%s\u001b[39;00m\u001b[33m/tiles/\u001b[39m\u001b[38;5;132;01m{z}\u001b[39;00m\u001b[33m/\u001b[39m\u001b[38;5;132;01m{x}\u001b[39;00m\u001b[33m/\u001b[39m\u001b[38;5;132;01m{y}\u001b[39;00m\u001b[33m'\u001b[39m % (\n\u001b[32m    758\u001b[39m     _tile_base_url, _cloud_api_utils.VERSION, map_name)\n",
      "\u001b[36mFile \u001b[39m\u001b[32mc:\\ProgramData\\anaconda3\\envs\\code_paper\\Lib\\site-packages\\ee\\data.py:411\u001b[39m, in \u001b[36m_execute_cloud_call\u001b[39m\u001b[34m(call, num_retries)\u001b[39m\n\u001b[32m    409\u001b[39m   \u001b[38;5;28;01mreturn\u001b[39;00m call.execute(num_retries=num_retries)\n\u001b[32m    410\u001b[39m \u001b[38;5;28;01mexcept\u001b[39;00m googleapiclient.errors.HttpError \u001b[38;5;28;01mas\u001b[39;00m e:\n\u001b[32m--> \u001b[39m\u001b[32m411\u001b[39m   \u001b[38;5;28;01mraise\u001b[39;00m _translate_cloud_exception(e)\n",
      "\u001b[31mEEException\u001b[39m: Computation timed out."
     ]
    }
   ],
   "source": [
    "# Create a map centered on the Koshi basin\n",
    "Map = geemap.Map(center=[27.5, 87.5], zoom=8)\n",
    "\n",
    "# Add the Koshi basin boundary\n",
    "Map.addLayer(ee_koshi_basin, {'color': 'black'}, 'Koshi Basin Boundary')\n",
    "\n",
    "# Add the upstream basins at different levels with different colors\n",
    "\n",
    "Map.addLayer(upstream_level12.style(color='purple', fillColor='purple'), {}, 'Level 12 Basins')\n",
    "\n",
    "# Add the Chatara dam point\n",
    "Map.addLayer(chatara_dam, {'color': 'red'}, 'Chatara Dam')\n",
    "\n",
    "# Center the map on the Koshi basin\n",
    "Map.centerObject(ee_koshi_basin)\n",
    "\n",
    "# Display the map\n",
    "Map"
   ]
  },
  {
   "cell_type": "markdown",
   "metadata": {},
   "source": [
    "## 6. Compare the Results\n",
    "\n",
    "Let's compare the number of sub-basins and total area at different levels."
   ]
  },
  {
   "cell_type": "code",
   "execution_count": null,
   "metadata": {},
   "outputs": [],
   "source": [
    "# Function to get the number of features and total area\n",
    "def get_collection_info(collection, name):\n",
    "    # Get the number of features\n",
    "    count = collection.size().getInfo()\n",
    "    \n",
    "    # Get the total area in square kilometers\n",
    "    area = collection.geometry().area().divide(1000 * 1000).getInfo()\n",
    "    \n",
    "    return {'Level': name, 'Sub-basins': count, 'Area (sq km)': area}\n",
    "\n",
    "# Get information for each level\n",
    "info_level07 = get_collection_info(upstream_level07, 'Level 07')\n",
    "info_level08 = get_collection_info(upstream_level08, 'Level 08')\n",
    "info_level09 = get_collection_info(upstream_level09, 'Level 09')\n",
    "info_level12 = get_collection_info(upstream_level12, 'Level 12')\n",
    "\n",
    "# Create a DataFrame to compare the results\n",
    "comparison_df = pd.DataFrame([info_level07, info_level08, info_level09, info_level12])\n",
    "comparison_df"
   ]
  },
  {
   "cell_type": "markdown",
   "metadata": {},
   "source": [
    "## 7. Export the Results\n",
    "\n",
    "Let's export the most detailed level (Level 12) to GeoJSON and shapefile formats."
   ]
  },
  {
   "cell_type": "code",
   "execution_count": null,
   "metadata": {},
   "outputs": [],
   "source": [
    "# Export the Level 12 basins to GeoJSON\n",
    "geojson_filename = 'koshi_basins_level12.geojson'\n",
    "geemap.ee_to_geojson(upstream_level12, geojson_filename)\n",
    "print(f\"Export of '{geojson_filename}' successful!\")\n",
    "\n",
    "# Convert to GeoDataFrame and export to shapefile\n",
    "gdf_level12 = gpd.read_file(geojson_filename)\n",
    "shapefile_filename = 'koshi_basins_level12.shp'\n",
    "gdf_level12.to_file(shapefile_filename)\n",
    "print(f\"Export of '{shapefile_filename}' successful!\")"
   ]
  },
  {
   "cell_type": "markdown",
   "metadata": {},
   "source": [
    "## 8. Validate the Results\n",
    "\n",
    "Let's compare the delineated watershed with the original Koshi basin boundary."
   ]
  },
  {
   "cell_type": "code",
   "execution_count": null,
   "metadata": {},
   "outputs": [],
   "source": [
    "# Load the exported shapefile\n",
    "delineated_basin = gpd.read_file('koshi_basins_level12.shp')\n",
    "\n",
    "# Dissolve to get a single polygon\n",
    "delineated_basin_dissolved = delineated_basin.dissolve()\n",
    "\n",
    "# Plot the comparison\n",
    "fig, ax = plt.subplots(figsize=(12, 12))\n",
    "whole_koshi_basin.plot(ax=ax, color='blue', alpha=0.5, label='Original Koshi Basin')\n",
    "delineated_basin_dissolved.plot(ax=ax, color='red', alpha=0.5, label='Delineated Watershed')\n",
    "ax.set_title('Comparison of Original Basin and Delineated Watershed')\n",
    "ax.legend()\n",
    "plt.show()"
   ]
  },
  {
   "cell_type": "code",
   "execution_count": null,
   "metadata": {},
   "outputs": [],
   "source": [
    "# Calculate the intersection and difference\n",
    "intersection = gpd.overlay(whole_koshi_basin, delineated_basin_dissolved, how='intersection')\n",
    "difference_original = gpd.overlay(whole_koshi_basin, delineated_basin_dissolved, how='difference')\n",
    "difference_delineated = gpd.overlay(delineated_basin_dissolved, whole_koshi_basin, how='difference')\n",
    "\n",
    "# Calculate areas\n",
    "area_original = whole_koshi_basin.area.sum() / 1e6  # in sq km\n",
    "area_delineated = delineated_basin_dissolved.area.sum() / 1e6  # in sq km\n",
    "area_intersection = intersection.area.sum() / 1e6  # in sq km\n",
    "area_diff_original = difference_original.area.sum() / 1e6  # in sq km\n",
    "area_diff_delineated = difference_delineated.area.sum() / 1e6  # in sq km\n",
    "\n",
    "# Calculate overlap percentage\n",
    "overlap_percentage = (area_intersection / area_original) * 100\n",
    "\n",
    "# Print the results\n",
    "print(f\"Original Basin Area: {area_original:.2f} sq km\")\n",
    "print(f\"Delineated Watershed Area: {area_delineated:.2f} sq km\")\n",
    "print(f\"Intersection Area: {area_intersection:.2f} sq km\")\n",
    "print(f\"Area in Original but not in Delineated: {area_diff_original:.2f} sq km\")\n",
    "print(f\"Area in Delineated but not in Original: {area_diff_delineated:.2f} sq km\")\n",
    "print(f\"Overlap Percentage: {overlap_percentage:.2f}%\")"
   ]
  },
  {
   "cell_type": "markdown",
   "metadata": {},
   "source": [
    "## 9. Conclusion\n",
    "\n",
    "This notebook has demonstrated an improved approach to delineating the Koshi basin watershed using Google Earth Engine and HydroSHEDS/HydroATLAS datasets. We've compared different levels of detail and validated the results against the original basin boundary.\n",
    "\n",
    "The Level 12 HydroATLAS provides the most detailed watershed delineation, but the overlap with the original basin boundary should be carefully evaluated. Differences may be due to:\n",
    "\n",
    "1. Different data sources and methodologies\n",
    "2. Different resolutions of the underlying DEMs\n",
    "3. Different definitions of the watershed boundary\n",
    "\n",
    "For the most accurate watershed delineation, it's recommended to use the highest resolution data available and validate the results with local knowledge and field observations."
   ]
  }
 ],
 "metadata": {
  "kernelspec": {
   "display_name": "code_paper",
   "language": "python",
   "name": "python3"
  },
  "language_info": {
   "codemirror_mode": {
    "name": "ipython",
    "version": 3
   },
   "file_extension": ".py",
   "mimetype": "text/x-python",
   "name": "python",
   "nbconvert_exporter": "python",
   "pygments_lexer": "ipython3",
   "version": "3.13.2"
  }
 },
 "nbformat": 4,
 "nbformat_minor": 4
}
